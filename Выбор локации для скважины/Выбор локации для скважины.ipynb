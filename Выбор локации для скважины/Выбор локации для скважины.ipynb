{
 "cells": [
  {
   "cell_type": "markdown",
   "metadata": {},
   "source": [
    "# Выбор локации для скважины"
   ]
  },
  {
   "cell_type": "markdown",
   "metadata": {},
   "source": [
    "Я работаю в добывающей компании «ГлавРосГосНефть». Нужно решить, где бурить новую скважину.\n",
    "\n",
    "Мне предоставлены пробы нефти в трёх регионах: в каждом 10 000 месторождений, где измерили качество нефти и объём её запасов.  Необходмо построить модель машинного обучения, которая поможет определить регион, где добыча принесёт наибольшую прибыль. Для анализа рисков использую технику *Bootstrap.*\n",
    "\n",
    "Шаги для выбора локации:\n",
    "\n",
    "- В избранном регионе ищут месторождения, для каждого определяют значения признаков;\n",
    "- Строят модель и оценивают объём запасов;\n",
    "- Выбирают месторождения с самым высокими оценками значений. Количество месторождений зависит от бюджета компании и стоимости разработки одной скважины;\n",
    "- Прибыль равна суммарной прибыли отобранных месторождений."
   ]
  },
  {
   "cell_type": "markdown",
   "metadata": {},
   "source": [
    "## Загрузка и подготовка данных"
   ]
  },
  {
   "cell_type": "code",
   "execution_count": 49,
   "metadata": {},
   "outputs": [],
   "source": [
    "import pandas as pd\n",
    "import matplotlib.pyplot as plt\n",
    "from sklearn.model_selection import train_test_split\n",
    "from sklearn.linear_model import LinearRegression\n",
    "from sklearn.metrics import mean_squared_error\n",
    "from scipy import stats\n",
    "import numpy as np"
   ]
  },
  {
   "cell_type": "code",
   "execution_count": 2,
   "metadata": {},
   "outputs": [
    {
     "name": "stdout",
     "output_type": "stream",
     "text": [
      "          id        f0        f1        f2     product\n",
      "0      txEyH  0.705745 -0.497823  1.221170  105.280062\n",
      "1      2acmU  1.334711 -0.340164  4.365080   73.037750\n",
      "2      409Wp  1.022732  0.151990  1.419926   85.265647\n",
      "3      iJLyR -0.032172  0.139033  2.978566  168.620776\n",
      "4      Xdl7t  1.988431  0.155413  4.751769  154.036647\n",
      "...      ...       ...       ...       ...         ...\n",
      "99995  DLsed  0.971957  0.370953  6.075346  110.744026\n",
      "99996  QKivN  1.392429 -0.382606  1.273912  122.346843\n",
      "99997  3rnvd  1.029585  0.018787 -1.348308   64.375443\n",
      "99998  7kl59  0.998163 -0.528582  1.583869   74.040764\n",
      "99999  1CWhH  1.764754 -0.266417  5.722849  149.633246\n",
      "\n",
      "[100000 rows x 5 columns]\n"
     ]
    }
   ],
   "source": [
    "try: \n",
    "    data_0 = pd.read_csv('/datasets/geo_data_0.csv')\n",
    "    print(data_0)\n",
    "except:\n",
    "     data_0 = pd.read_csv('C:/Users/iyaro/Downloads/geo_data_0.csv')\n",
    "     print(data_0)"
   ]
  },
  {
   "cell_type": "code",
   "execution_count": 3,
   "metadata": {},
   "outputs": [
    {
     "name": "stdout",
     "output_type": "stream",
     "text": [
      "          id         f0         f1        f2     product\n",
      "0      kBEdx -15.001348  -8.276000 -0.005876    3.179103\n",
      "1      62mP7  14.272088  -3.475083  0.999183   26.953261\n",
      "2      vyE1P   6.263187  -5.948386  5.001160  134.766305\n",
      "3      KcrkZ -13.081196 -11.506057  4.999415  137.945408\n",
      "4      AHL4O  12.702195  -8.147433  5.004363  134.766305\n",
      "...      ...        ...        ...       ...         ...\n",
      "99995  QywKC   9.535637  -6.878139  1.998296   53.906522\n",
      "99996  ptvty -10.160631 -12.558096  5.005581  137.945408\n",
      "99997  09gWa  -7.378891  -3.084104  4.998651  137.945408\n",
      "99998  rqwUm   0.665714  -6.152593  1.000146   30.132364\n",
      "99999  relB0  -3.426139  -7.794274 -0.003299    3.179103\n",
      "\n",
      "[100000 rows x 5 columns]\n"
     ]
    }
   ],
   "source": [
    "try: \n",
    "    data_1 = pd.read_csv('/datasets/geo_data_1.csv')\n",
    "    print(data_1)\n",
    "except:\n",
    "    data_1 = pd.read_csv('C:/Users/iyaro/Downloads/geo_data_1.csv')\n",
    "    print(data_1)"
   ]
  },
  {
   "cell_type": "code",
   "execution_count": 4,
   "metadata": {},
   "outputs": [
    {
     "name": "stdout",
     "output_type": "stream",
     "text": [
      "          id        f0        f1        f2     product\n",
      "0      fwXo0 -1.146987  0.963328 -0.828965   27.758673\n",
      "1      WJtFt  0.262778  0.269839 -2.530187   56.069697\n",
      "2      ovLUW  0.194587  0.289035 -5.586433   62.871910\n",
      "3      q6cA6  2.236060 -0.553760  0.930038  114.572842\n",
      "4      WPMUX -0.515993  1.716266  5.899011  149.600746\n",
      "...      ...       ...       ...       ...         ...\n",
      "99995  4GxBu -1.777037  1.125220  6.263374  172.327046\n",
      "99996  YKFjq -1.261523 -0.894828  2.524545  138.748846\n",
      "99997  tKPY3 -1.199934 -2.957637  5.219411  157.080080\n",
      "99998  nmxp2 -2.419896  2.417221 -5.548444   51.795253\n",
      "99999  V9kWn -2.551421 -2.025625  6.090891  102.775767\n",
      "\n",
      "[100000 rows x 5 columns]\n"
     ]
    }
   ],
   "source": [
    "try: \n",
    "    data_2 = pd.read_csv('/datasets/geo_data_2.csv')\n",
    "    print(data_2)\n",
    "except:\n",
    "    data_2 = pd.read_csv('C:/Users/iyaro/Downloads/geo_data_2.csv')\n",
    "    print(data_2)"
   ]
  },
  {
   "cell_type": "code",
   "execution_count": 5,
   "metadata": {},
   "outputs": [
    {
     "data": {
      "text/plain": [
       "('Количество нулей в 1 регионе', 1)"
      ]
     },
     "execution_count": 5,
     "metadata": {},
     "output_type": "execute_result"
    }
   ],
   "source": [
    "'Количество нулей в 1 регионе', data_0[data_0['product'] == 0]['product'].count()"
   ]
  },
  {
   "cell_type": "code",
   "execution_count": 6,
   "metadata": {},
   "outputs": [
    {
     "data": {
      "text/plain": [
       "('Количество нулей во 2 регионе', 8235)"
      ]
     },
     "execution_count": 6,
     "metadata": {},
     "output_type": "execute_result"
    }
   ],
   "source": [
    "'Количество нулей во 2 регионе', data_1[data_1['product'] == 0]['product'].count()"
   ]
  },
  {
   "cell_type": "code",
   "execution_count": 7,
   "metadata": {},
   "outputs": [
    {
     "data": {
      "text/plain": [
       "('Количество нулей в 3 регионе', 1)"
      ]
     },
     "execution_count": 7,
     "metadata": {},
     "output_type": "execute_result"
    }
   ],
   "source": [
    "'Количество нулей в 3 регионе', data_2[data_2['product'] == 0]['product'].count()"
   ]
  },
  {
   "cell_type": "code",
   "execution_count": 8,
   "metadata": {},
   "outputs": [
    {
     "data": {
      "text/plain": [
       "0"
      ]
     },
     "execution_count": 8,
     "metadata": {},
     "output_type": "execute_result"
    }
   ],
   "source": [
    "data_0.duplicated().sum()"
   ]
  },
  {
   "cell_type": "code",
   "execution_count": 9,
   "metadata": {},
   "outputs": [
    {
     "data": {
      "text/plain": [
       "0"
      ]
     },
     "execution_count": 9,
     "metadata": {},
     "output_type": "execute_result"
    }
   ],
   "source": [
    "data_1.duplicated().sum()"
   ]
  },
  {
   "cell_type": "code",
   "execution_count": 10,
   "metadata": {},
   "outputs": [
    {
     "data": {
      "text/plain": [
       "0"
      ]
     },
     "execution_count": 10,
     "metadata": {},
     "output_type": "execute_result"
    }
   ],
   "source": [
    "data_2.duplicated().sum()"
   ]
  },
  {
   "cell_type": "code",
   "execution_count": 11,
   "metadata": {},
   "outputs": [
    {
     "data": {
      "text/plain": [
       "10"
      ]
     },
     "execution_count": 11,
     "metadata": {},
     "output_type": "execute_result"
    }
   ],
   "source": [
    "data_0['id'].duplicated().sum()"
   ]
  },
  {
   "cell_type": "code",
   "execution_count": 12,
   "metadata": {},
   "outputs": [
    {
     "data": {
      "text/plain": [
       "4"
      ]
     },
     "execution_count": 12,
     "metadata": {},
     "output_type": "execute_result"
    }
   ],
   "source": [
    "data_1['id'].duplicated().sum()"
   ]
  },
  {
   "cell_type": "code",
   "execution_count": 13,
   "metadata": {},
   "outputs": [
    {
     "data": {
      "text/plain": [
       "4"
      ]
     },
     "execution_count": 13,
     "metadata": {},
     "output_type": "execute_result"
    }
   ],
   "source": [
    "data_2['id'].duplicated().sum()"
   ]
  },
  {
   "cell_type": "code",
   "execution_count": 14,
   "metadata": {},
   "outputs": [
    {
     "data": {
      "text/html": [
       "<div>\n",
       "<style scoped>\n",
       "    .dataframe tbody tr th:only-of-type {\n",
       "        vertical-align: middle;\n",
       "    }\n",
       "\n",
       "    .dataframe tbody tr th {\n",
       "        vertical-align: top;\n",
       "    }\n",
       "\n",
       "    .dataframe thead th {\n",
       "        text-align: right;\n",
       "    }\n",
       "</style>\n",
       "<table border=\"1\" class=\"dataframe\">\n",
       "  <thead>\n",
       "    <tr style=\"text-align: right;\">\n",
       "      <th></th>\n",
       "      <th>f0</th>\n",
       "      <th>f1</th>\n",
       "      <th>f2</th>\n",
       "      <th>product</th>\n",
       "    </tr>\n",
       "  </thead>\n",
       "  <tbody>\n",
       "    <tr>\n",
       "      <th>count</th>\n",
       "      <td>100000.000000</td>\n",
       "      <td>100000.000000</td>\n",
       "      <td>100000.000000</td>\n",
       "      <td>100000.000000</td>\n",
       "    </tr>\n",
       "    <tr>\n",
       "      <th>mean</th>\n",
       "      <td>0.500419</td>\n",
       "      <td>0.250143</td>\n",
       "      <td>2.502647</td>\n",
       "      <td>92.500000</td>\n",
       "    </tr>\n",
       "    <tr>\n",
       "      <th>std</th>\n",
       "      <td>0.871832</td>\n",
       "      <td>0.504433</td>\n",
       "      <td>3.248248</td>\n",
       "      <td>44.288691</td>\n",
       "    </tr>\n",
       "    <tr>\n",
       "      <th>min</th>\n",
       "      <td>-1.408605</td>\n",
       "      <td>-0.848218</td>\n",
       "      <td>-12.088328</td>\n",
       "      <td>0.000000</td>\n",
       "    </tr>\n",
       "    <tr>\n",
       "      <th>25%</th>\n",
       "      <td>-0.072580</td>\n",
       "      <td>-0.200881</td>\n",
       "      <td>0.287748</td>\n",
       "      <td>56.497507</td>\n",
       "    </tr>\n",
       "    <tr>\n",
       "      <th>50%</th>\n",
       "      <td>0.502360</td>\n",
       "      <td>0.250252</td>\n",
       "      <td>2.515969</td>\n",
       "      <td>91.849972</td>\n",
       "    </tr>\n",
       "    <tr>\n",
       "      <th>75%</th>\n",
       "      <td>1.073581</td>\n",
       "      <td>0.700646</td>\n",
       "      <td>4.715088</td>\n",
       "      <td>128.564089</td>\n",
       "    </tr>\n",
       "    <tr>\n",
       "      <th>max</th>\n",
       "      <td>2.362331</td>\n",
       "      <td>1.343769</td>\n",
       "      <td>16.003790</td>\n",
       "      <td>185.364347</td>\n",
       "    </tr>\n",
       "  </tbody>\n",
       "</table>\n",
       "</div>"
      ],
      "text/plain": [
       "                  f0             f1             f2        product\n",
       "count  100000.000000  100000.000000  100000.000000  100000.000000\n",
       "mean        0.500419       0.250143       2.502647      92.500000\n",
       "std         0.871832       0.504433       3.248248      44.288691\n",
       "min        -1.408605      -0.848218     -12.088328       0.000000\n",
       "25%        -0.072580      -0.200881       0.287748      56.497507\n",
       "50%         0.502360       0.250252       2.515969      91.849972\n",
       "75%         1.073581       0.700646       4.715088     128.564089\n",
       "max         2.362331       1.343769      16.003790     185.364347"
      ]
     },
     "execution_count": 14,
     "metadata": {},
     "output_type": "execute_result"
    }
   ],
   "source": [
    "data_0.describe()"
   ]
  },
  {
   "cell_type": "code",
   "execution_count": 15,
   "metadata": {},
   "outputs": [
    {
     "data": {
      "text/html": [
       "<div>\n",
       "<style scoped>\n",
       "    .dataframe tbody tr th:only-of-type {\n",
       "        vertical-align: middle;\n",
       "    }\n",
       "\n",
       "    .dataframe tbody tr th {\n",
       "        vertical-align: top;\n",
       "    }\n",
       "\n",
       "    .dataframe thead th {\n",
       "        text-align: right;\n",
       "    }\n",
       "</style>\n",
       "<table border=\"1\" class=\"dataframe\">\n",
       "  <thead>\n",
       "    <tr style=\"text-align: right;\">\n",
       "      <th></th>\n",
       "      <th>f0</th>\n",
       "      <th>f1</th>\n",
       "      <th>f2</th>\n",
       "      <th>product</th>\n",
       "    </tr>\n",
       "  </thead>\n",
       "  <tbody>\n",
       "    <tr>\n",
       "      <th>count</th>\n",
       "      <td>100000.000000</td>\n",
       "      <td>100000.000000</td>\n",
       "      <td>100000.000000</td>\n",
       "      <td>100000.000000</td>\n",
       "    </tr>\n",
       "    <tr>\n",
       "      <th>mean</th>\n",
       "      <td>1.141296</td>\n",
       "      <td>-4.796579</td>\n",
       "      <td>2.494541</td>\n",
       "      <td>68.825000</td>\n",
       "    </tr>\n",
       "    <tr>\n",
       "      <th>std</th>\n",
       "      <td>8.965932</td>\n",
       "      <td>5.119872</td>\n",
       "      <td>1.703572</td>\n",
       "      <td>45.944423</td>\n",
       "    </tr>\n",
       "    <tr>\n",
       "      <th>min</th>\n",
       "      <td>-31.609576</td>\n",
       "      <td>-26.358598</td>\n",
       "      <td>-0.018144</td>\n",
       "      <td>0.000000</td>\n",
       "    </tr>\n",
       "    <tr>\n",
       "      <th>25%</th>\n",
       "      <td>-6.298551</td>\n",
       "      <td>-8.267985</td>\n",
       "      <td>1.000021</td>\n",
       "      <td>26.953261</td>\n",
       "    </tr>\n",
       "    <tr>\n",
       "      <th>50%</th>\n",
       "      <td>1.153055</td>\n",
       "      <td>-4.813172</td>\n",
       "      <td>2.011479</td>\n",
       "      <td>57.085625</td>\n",
       "    </tr>\n",
       "    <tr>\n",
       "      <th>75%</th>\n",
       "      <td>8.621015</td>\n",
       "      <td>-1.332816</td>\n",
       "      <td>3.999904</td>\n",
       "      <td>107.813044</td>\n",
       "    </tr>\n",
       "    <tr>\n",
       "      <th>max</th>\n",
       "      <td>29.421755</td>\n",
       "      <td>18.734063</td>\n",
       "      <td>5.019721</td>\n",
       "      <td>137.945408</td>\n",
       "    </tr>\n",
       "  </tbody>\n",
       "</table>\n",
       "</div>"
      ],
      "text/plain": [
       "                  f0             f1             f2        product\n",
       "count  100000.000000  100000.000000  100000.000000  100000.000000\n",
       "mean        1.141296      -4.796579       2.494541      68.825000\n",
       "std         8.965932       5.119872       1.703572      45.944423\n",
       "min       -31.609576     -26.358598      -0.018144       0.000000\n",
       "25%        -6.298551      -8.267985       1.000021      26.953261\n",
       "50%         1.153055      -4.813172       2.011479      57.085625\n",
       "75%         8.621015      -1.332816       3.999904     107.813044\n",
       "max        29.421755      18.734063       5.019721     137.945408"
      ]
     },
     "execution_count": 15,
     "metadata": {},
     "output_type": "execute_result"
    }
   ],
   "source": [
    "data_1.describe()"
   ]
  },
  {
   "cell_type": "code",
   "execution_count": 16,
   "metadata": {
    "scrolled": true
   },
   "outputs": [
    {
     "data": {
      "text/html": [
       "<div>\n",
       "<style scoped>\n",
       "    .dataframe tbody tr th:only-of-type {\n",
       "        vertical-align: middle;\n",
       "    }\n",
       "\n",
       "    .dataframe tbody tr th {\n",
       "        vertical-align: top;\n",
       "    }\n",
       "\n",
       "    .dataframe thead th {\n",
       "        text-align: right;\n",
       "    }\n",
       "</style>\n",
       "<table border=\"1\" class=\"dataframe\">\n",
       "  <thead>\n",
       "    <tr style=\"text-align: right;\">\n",
       "      <th></th>\n",
       "      <th>f0</th>\n",
       "      <th>f1</th>\n",
       "      <th>f2</th>\n",
       "      <th>product</th>\n",
       "    </tr>\n",
       "  </thead>\n",
       "  <tbody>\n",
       "    <tr>\n",
       "      <th>count</th>\n",
       "      <td>100000.000000</td>\n",
       "      <td>100000.000000</td>\n",
       "      <td>100000.000000</td>\n",
       "      <td>100000.000000</td>\n",
       "    </tr>\n",
       "    <tr>\n",
       "      <th>mean</th>\n",
       "      <td>0.002023</td>\n",
       "      <td>-0.002081</td>\n",
       "      <td>2.495128</td>\n",
       "      <td>95.000000</td>\n",
       "    </tr>\n",
       "    <tr>\n",
       "      <th>std</th>\n",
       "      <td>1.732045</td>\n",
       "      <td>1.730417</td>\n",
       "      <td>3.473445</td>\n",
       "      <td>44.749921</td>\n",
       "    </tr>\n",
       "    <tr>\n",
       "      <th>min</th>\n",
       "      <td>-8.760004</td>\n",
       "      <td>-7.084020</td>\n",
       "      <td>-11.970335</td>\n",
       "      <td>0.000000</td>\n",
       "    </tr>\n",
       "    <tr>\n",
       "      <th>25%</th>\n",
       "      <td>-1.162288</td>\n",
       "      <td>-1.174820</td>\n",
       "      <td>0.130359</td>\n",
       "      <td>59.450441</td>\n",
       "    </tr>\n",
       "    <tr>\n",
       "      <th>50%</th>\n",
       "      <td>0.009424</td>\n",
       "      <td>-0.009482</td>\n",
       "      <td>2.484236</td>\n",
       "      <td>94.925613</td>\n",
       "    </tr>\n",
       "    <tr>\n",
       "      <th>75%</th>\n",
       "      <td>1.158535</td>\n",
       "      <td>1.163678</td>\n",
       "      <td>4.858794</td>\n",
       "      <td>130.595027</td>\n",
       "    </tr>\n",
       "    <tr>\n",
       "      <th>max</th>\n",
       "      <td>7.238262</td>\n",
       "      <td>7.844801</td>\n",
       "      <td>16.739402</td>\n",
       "      <td>190.029838</td>\n",
       "    </tr>\n",
       "  </tbody>\n",
       "</table>\n",
       "</div>"
      ],
      "text/plain": [
       "                  f0             f1             f2        product\n",
       "count  100000.000000  100000.000000  100000.000000  100000.000000\n",
       "mean        0.002023      -0.002081       2.495128      95.000000\n",
       "std         1.732045       1.730417       3.473445      44.749921\n",
       "min        -8.760004      -7.084020     -11.970335       0.000000\n",
       "25%        -1.162288      -1.174820       0.130359      59.450441\n",
       "50%         0.009424      -0.009482       2.484236      94.925613\n",
       "75%         1.158535       1.163678       4.858794     130.595027\n",
       "max         7.238262       7.844801      16.739402     190.029838"
      ]
     },
     "execution_count": 16,
     "metadata": {},
     "output_type": "execute_result"
    }
   ],
   "source": [
    "data_2.describe()"
   ]
  },
  {
   "cell_type": "code",
   "execution_count": 17,
   "metadata": {},
   "outputs": [
    {
     "data": {
      "text/html": [
       "<div>\n",
       "<style scoped>\n",
       "    .dataframe tbody tr th:only-of-type {\n",
       "        vertical-align: middle;\n",
       "    }\n",
       "\n",
       "    .dataframe tbody tr th {\n",
       "        vertical-align: top;\n",
       "    }\n",
       "\n",
       "    .dataframe thead th {\n",
       "        text-align: right;\n",
       "    }\n",
       "</style>\n",
       "<table border=\"1\" class=\"dataframe\">\n",
       "  <thead>\n",
       "    <tr style=\"text-align: right;\">\n",
       "      <th></th>\n",
       "      <th>f0</th>\n",
       "      <th>f1</th>\n",
       "      <th>f2</th>\n",
       "      <th>product</th>\n",
       "    </tr>\n",
       "  </thead>\n",
       "  <tbody>\n",
       "    <tr>\n",
       "      <th>f0</th>\n",
       "      <td>1.000000</td>\n",
       "      <td>-0.440723</td>\n",
       "      <td>-0.003153</td>\n",
       "      <td>0.143536</td>\n",
       "    </tr>\n",
       "    <tr>\n",
       "      <th>f1</th>\n",
       "      <td>-0.440723</td>\n",
       "      <td>1.000000</td>\n",
       "      <td>0.001724</td>\n",
       "      <td>-0.192356</td>\n",
       "    </tr>\n",
       "    <tr>\n",
       "      <th>f2</th>\n",
       "      <td>-0.003153</td>\n",
       "      <td>0.001724</td>\n",
       "      <td>1.000000</td>\n",
       "      <td>0.483663</td>\n",
       "    </tr>\n",
       "    <tr>\n",
       "      <th>product</th>\n",
       "      <td>0.143536</td>\n",
       "      <td>-0.192356</td>\n",
       "      <td>0.483663</td>\n",
       "      <td>1.000000</td>\n",
       "    </tr>\n",
       "  </tbody>\n",
       "</table>\n",
       "</div>"
      ],
      "text/plain": [
       "               f0        f1        f2   product\n",
       "f0       1.000000 -0.440723 -0.003153  0.143536\n",
       "f1      -0.440723  1.000000  0.001724 -0.192356\n",
       "f2      -0.003153  0.001724  1.000000  0.483663\n",
       "product  0.143536 -0.192356  0.483663  1.000000"
      ]
     },
     "execution_count": 17,
     "metadata": {},
     "output_type": "execute_result"
    }
   ],
   "source": [
    "data_0.corr()"
   ]
  },
  {
   "cell_type": "code",
   "execution_count": 18,
   "metadata": {},
   "outputs": [
    {
     "data": {
      "text/html": [
       "<div>\n",
       "<style scoped>\n",
       "    .dataframe tbody tr th:only-of-type {\n",
       "        vertical-align: middle;\n",
       "    }\n",
       "\n",
       "    .dataframe tbody tr th {\n",
       "        vertical-align: top;\n",
       "    }\n",
       "\n",
       "    .dataframe thead th {\n",
       "        text-align: right;\n",
       "    }\n",
       "</style>\n",
       "<table border=\"1\" class=\"dataframe\">\n",
       "  <thead>\n",
       "    <tr style=\"text-align: right;\">\n",
       "      <th></th>\n",
       "      <th>f0</th>\n",
       "      <th>f1</th>\n",
       "      <th>f2</th>\n",
       "      <th>product</th>\n",
       "    </tr>\n",
       "  </thead>\n",
       "  <tbody>\n",
       "    <tr>\n",
       "      <th>f0</th>\n",
       "      <td>1.000000</td>\n",
       "      <td>0.182287</td>\n",
       "      <td>-0.001777</td>\n",
       "      <td>-0.030491</td>\n",
       "    </tr>\n",
       "    <tr>\n",
       "      <th>f1</th>\n",
       "      <td>0.182287</td>\n",
       "      <td>1.000000</td>\n",
       "      <td>-0.002595</td>\n",
       "      <td>-0.010155</td>\n",
       "    </tr>\n",
       "    <tr>\n",
       "      <th>f2</th>\n",
       "      <td>-0.001777</td>\n",
       "      <td>-0.002595</td>\n",
       "      <td>1.000000</td>\n",
       "      <td>0.999397</td>\n",
       "    </tr>\n",
       "    <tr>\n",
       "      <th>product</th>\n",
       "      <td>-0.030491</td>\n",
       "      <td>-0.010155</td>\n",
       "      <td>0.999397</td>\n",
       "      <td>1.000000</td>\n",
       "    </tr>\n",
       "  </tbody>\n",
       "</table>\n",
       "</div>"
      ],
      "text/plain": [
       "               f0        f1        f2   product\n",
       "f0       1.000000  0.182287 -0.001777 -0.030491\n",
       "f1       0.182287  1.000000 -0.002595 -0.010155\n",
       "f2      -0.001777 -0.002595  1.000000  0.999397\n",
       "product -0.030491 -0.010155  0.999397  1.000000"
      ]
     },
     "execution_count": 18,
     "metadata": {},
     "output_type": "execute_result"
    }
   ],
   "source": [
    "data_1.corr()"
   ]
  },
  {
   "cell_type": "code",
   "execution_count": 19,
   "metadata": {},
   "outputs": [
    {
     "data": {
      "text/html": [
       "<div>\n",
       "<style scoped>\n",
       "    .dataframe tbody tr th:only-of-type {\n",
       "        vertical-align: middle;\n",
       "    }\n",
       "\n",
       "    .dataframe tbody tr th {\n",
       "        vertical-align: top;\n",
       "    }\n",
       "\n",
       "    .dataframe thead th {\n",
       "        text-align: right;\n",
       "    }\n",
       "</style>\n",
       "<table border=\"1\" class=\"dataframe\">\n",
       "  <thead>\n",
       "    <tr style=\"text-align: right;\">\n",
       "      <th></th>\n",
       "      <th>f0</th>\n",
       "      <th>f1</th>\n",
       "      <th>f2</th>\n",
       "      <th>product</th>\n",
       "    </tr>\n",
       "  </thead>\n",
       "  <tbody>\n",
       "    <tr>\n",
       "      <th>f0</th>\n",
       "      <td>1.000000</td>\n",
       "      <td>0.000528</td>\n",
       "      <td>-0.000448</td>\n",
       "      <td>-0.001987</td>\n",
       "    </tr>\n",
       "    <tr>\n",
       "      <th>f1</th>\n",
       "      <td>0.000528</td>\n",
       "      <td>1.000000</td>\n",
       "      <td>0.000779</td>\n",
       "      <td>-0.001012</td>\n",
       "    </tr>\n",
       "    <tr>\n",
       "      <th>f2</th>\n",
       "      <td>-0.000448</td>\n",
       "      <td>0.000779</td>\n",
       "      <td>1.000000</td>\n",
       "      <td>0.445871</td>\n",
       "    </tr>\n",
       "    <tr>\n",
       "      <th>product</th>\n",
       "      <td>-0.001987</td>\n",
       "      <td>-0.001012</td>\n",
       "      <td>0.445871</td>\n",
       "      <td>1.000000</td>\n",
       "    </tr>\n",
       "  </tbody>\n",
       "</table>\n",
       "</div>"
      ],
      "text/plain": [
       "               f0        f1        f2   product\n",
       "f0       1.000000  0.000528 -0.000448 -0.001987\n",
       "f1       0.000528  1.000000  0.000779 -0.001012\n",
       "f2      -0.000448  0.000779  1.000000  0.445871\n",
       "product -0.001987 -0.001012  0.445871  1.000000"
      ]
     },
     "execution_count": 19,
     "metadata": {},
     "output_type": "execute_result"
    }
   ],
   "source": [
    "data_2.corr()"
   ]
  },
  {
   "cell_type": "code",
   "execution_count": 20,
   "metadata": {},
   "outputs": [],
   "source": [
    "RANDOM_STATE = 12345"
   ]
  },
  {
   "cell_type": "code",
   "execution_count": 21,
   "metadata": {},
   "outputs": [],
   "source": [
    "def test_split(data):\n",
    "    features = data.drop(['id', 'product'], axis=1)\n",
    "    target = data['product']\n",
    "    \n",
    "    features_train, features_valid, target_train, target_valid = train_test_split(\n",
    "    features, target, test_size = 0.25, random_state=RANDOM_STATE)\n",
    "    \n",
    "    return features_train, features_valid, target_train, target_valid"
   ]
  },
  {
   "cell_type": "code",
   "execution_count": 22,
   "metadata": {},
   "outputs": [],
   "source": [
    "features_train_0, features_valid_0, target_train_0, target_valid_0 = test_split(data_0) "
   ]
  },
  {
   "cell_type": "code",
   "execution_count": 23,
   "metadata": {},
   "outputs": [
    {
     "name": "stdout",
     "output_type": "stream",
     "text": [
      "             f0        f1        f2\n",
      "27212  0.022450  0.951034  2.197333\n",
      "7866   1.766731  0.007835  6.436602\n",
      "62041  0.724514  0.666063  1.840177\n",
      "70185 -1.104181  0.255268  2.026156\n",
      "82230 -0.635263  0.747990  6.643327\n"
     ]
    }
   ],
   "source": [
    "print(features_train_0.head())\n"
   ]
  },
  {
   "cell_type": "code",
   "execution_count": 24,
   "metadata": {},
   "outputs": [
    {
     "name": "stdout",
     "output_type": "stream",
     "text": [
      "27212    147.370612\n",
      "7866     147.630053\n",
      "62041     77.696728\n",
      "70185     55.210501\n",
      "82230    113.891723\n",
      "Name: product, dtype: float64\n"
     ]
    }
   ],
   "source": [
    "print(target_train_0.head())"
   ]
  },
  {
   "cell_type": "code",
   "execution_count": 25,
   "metadata": {},
   "outputs": [],
   "source": [
    "features_train_1, features_valid_1, target_train_1, target_valid_1 = test_split(data_1)"
   ]
  },
  {
   "cell_type": "code",
   "execution_count": 26,
   "metadata": {},
   "outputs": [],
   "source": [
    "features_train_2, features_valid_2, target_train_2, target_valid_2 = test_split(data_2) "
   ]
  },
  {
   "cell_type": "markdown",
   "metadata": {},
   "source": [
    "Данные подготовлены. Выборки поделены. Много значений 'product' равны 0 во 2 фрейме. Возможно это связано с утечкой данных. Целевой признак - product, а признаки f0, f1, f2. Перейдем к обучению."
   ]
  },
  {
   "cell_type": "markdown",
   "metadata": {},
   "source": [
    "## Обучение и проверка модели"
   ]
  },
  {
   "cell_type": "markdown",
   "metadata": {},
   "source": [
    "Чтобы не прописывать в ручную три модели, я напишу функцию."
   ]
  },
  {
   "cell_type": "code",
   "execution_count": 27,
   "metadata": {},
   "outputs": [],
   "source": [
    "def regression(features_valid, features_train, target_valid, target_train):\n",
    "    model = LinearRegression()\n",
    "    model.fit(features_train, target_train)\n",
    "    predicted_valid = model.predict(features_valid)\n",
    "    \n",
    "    rmse = mean_squared_error(target_valid, predicted_valid) ** 0.5\n",
    "    \n",
    "    df = {'real_product' : target_valid,\n",
    "            'predicted_product' : predicted_valid         \n",
    "    }\n",
    "    df = pd.DataFrame(df, columns=['real_product', 'predicted_product']).reset_index(drop=True)\n",
    "    \n",
    "    mean_pred = df['predicted_product'].mean()\n",
    "    sum_pred = df['predicted_product'].sum()\n",
    "    return rmse, df, mean_pred, sum_pred, pd.Series(predicted_valid)\n"
   ]
  },
  {
   "cell_type": "code",
   "execution_count": 28,
   "metadata": {},
   "outputs": [],
   "source": [
    "rmse_0, df_0, mean_pred_0, sum_pred_0, predicted_valid_0 = regression(features_valid_0, features_train_0, target_valid_0, target_train_0)"
   ]
  },
  {
   "cell_type": "code",
   "execution_count": 29,
   "metadata": {},
   "outputs": [
    {
     "name": "stdout",
     "output_type": "stream",
     "text": [
      "Регион 1\n",
      "RMSE: 37.5794217150813\n",
      "   real_product  predicted_product\n",
      "0     10.038645          95.894952\n",
      "1    114.551489          77.572583\n",
      "2    132.603635          77.892640\n",
      "3    169.072125          90.175134\n",
      "4    122.325180          70.510088\n",
      "Средний запас предсказанного сырья 92.5925677843801\n"
     ]
    }
   ],
   "source": [
    "print('Регион 1')\n",
    "print('RMSE:', rmse_0)\n",
    "print(df_0.head())\n",
    "print('Средний запас предсказанного сырья', mean_pred_0)"
   ]
  },
  {
   "cell_type": "code",
   "execution_count": 30,
   "metadata": {},
   "outputs": [],
   "source": [
    "rmse_1, df_1, mean_pred_1, sum_pred_1, predicted_valid_1 = regression(features_valid_1, features_train_1, target_valid_1, target_train_1)"
   ]
  },
  {
   "cell_type": "code",
   "execution_count": 31,
   "metadata": {},
   "outputs": [
    {
     "name": "stdout",
     "output_type": "stream",
     "text": [
      "Регион 2\n",
      "RMSE: 0.8930992867756168\n",
      "   real_product  predicted_product\n",
      "0     80.859783          82.663314\n",
      "1     53.906522          54.431786\n",
      "2     30.132364          29.748760\n",
      "3     53.906522          53.552133\n",
      "4      0.000000           1.243856\n",
      "Средний запас предсказанного сырья 68.7285468954458\n"
     ]
    }
   ],
   "source": [
    "print('Регион 2')\n",
    "print('RMSE:', rmse_1)\n",
    "print(df_1.head())\n",
    "print('Средний запас предсказанного сырья', mean_pred_1)"
   ]
  },
  {
   "cell_type": "markdown",
   "metadata": {},
   "source": [
    "Очень сильная корелляция f2 и product. Высокое качество модели связанно с этим."
   ]
  },
  {
   "cell_type": "code",
   "execution_count": 32,
   "metadata": {},
   "outputs": [],
   "source": [
    "rmse_2, df_2, mean_pred_2, sum_pred_2, predicted_valid_2 = regression(features_valid_2, features_train_2, target_valid_2, target_train_2)"
   ]
  },
  {
   "cell_type": "code",
   "execution_count": 33,
   "metadata": {},
   "outputs": [
    {
     "name": "stdout",
     "output_type": "stream",
     "text": [
      "Регион 3\n",
      "RMSE: 40.02970873393434\n",
      "   real_product  predicted_product\n",
      "0     61.212375          93.599633\n",
      "1     41.850118          75.105159\n",
      "2     57.776581          90.066809\n",
      "3    100.053761         105.162375\n",
      "4    109.897122         115.303310\n",
      "Средний запас предсказанного сырья 94.96504596800504\n"
     ]
    }
   ],
   "source": [
    "print('Регион 3')\n",
    "print('RMSE:', rmse_2)\n",
    "print(df_2.head())\n",
    "print('Средний запас предсказанного сырья', mean_pred_2)"
   ]
  },
  {
   "cell_type": "markdown",
   "metadata": {},
   "source": [
    "Стоит посмотреть на суммарный запас предсказанного и реального сырья."
   ]
  },
  {
   "cell_type": "code",
   "execution_count": 34,
   "metadata": {},
   "outputs": [
    {
     "name": "stdout",
     "output_type": "stream",
     "text": [
      "Регион 1\n",
      "Суммарный запас предсказанного сырья 2314814.194609509\n",
      "Суммарный запас реального сырья 2301964.918520732\n",
      "\n",
      "Регион 2\n",
      "Суммарный запас предсказанного сырья 1718213.67238615\n",
      "Суммарный запас реального сырья 1718078.4006089992\n",
      "\n",
      "Регион 3\n",
      "Суммарный запас предсказанного сырья 2374126.1492001223\n",
      "Суммарный запас реального сырья 2372105.8202213594\n",
      "\n"
     ]
    }
   ],
   "source": [
    "print('Регион 1')\n",
    "print('Суммарный запас предсказанного сырья', sum_pred_0)\n",
    "print('Суммарный запас реального сырья', target_valid_0.sum())\n",
    "print('')\n",
    "print('Регион 2')\n",
    "print('Суммарный запас предсказанного сырья', sum_pred_1)\n",
    "print('Суммарный запас реального сырья', target_valid_1.sum())\n",
    "print('')\n",
    "print('Регион 3')\n",
    "print('Суммарный запас предсказанного сырья', sum_pred_2)\n",
    "print('Суммарный запас реального сырья', target_valid_2.sum())\n",
    "print('')"
   ]
  },
  {
   "cell_type": "markdown",
   "metadata": {},
   "source": [
    "Суммарный предсказанный запас сырья на всех моделях близок к реальному, модели обучены корректно. Во втором регионе сырья меньше. Вероятно, он менее прибыльный, однако на втором регионе модель обучилась лучше, чем на других."
   ]
  },
  {
   "cell_type": "code",
   "execution_count": 35,
   "metadata": {},
   "outputs": [
    {
     "data": {
      "text/html": [
       "<div>\n",
       "<style scoped>\n",
       "    .dataframe tbody tr th:only-of-type {\n",
       "        vertical-align: middle;\n",
       "    }\n",
       "\n",
       "    .dataframe tbody tr th {\n",
       "        vertical-align: top;\n",
       "    }\n",
       "\n",
       "    .dataframe thead th {\n",
       "        text-align: right;\n",
       "    }\n",
       "</style>\n",
       "<table border=\"1\" class=\"dataframe\">\n",
       "  <thead>\n",
       "    <tr style=\"text-align: right;\">\n",
       "      <th></th>\n",
       "      <th>real_product</th>\n",
       "      <th>predicted_product</th>\n",
       "    </tr>\n",
       "  </thead>\n",
       "  <tbody>\n",
       "    <tr>\n",
       "      <th>0</th>\n",
       "      <td>80.859783</td>\n",
       "      <td>82.663314</td>\n",
       "    </tr>\n",
       "    <tr>\n",
       "      <th>1</th>\n",
       "      <td>53.906522</td>\n",
       "      <td>54.431786</td>\n",
       "    </tr>\n",
       "    <tr>\n",
       "      <th>2</th>\n",
       "      <td>30.132364</td>\n",
       "      <td>29.748760</td>\n",
       "    </tr>\n",
       "    <tr>\n",
       "      <th>3</th>\n",
       "      <td>53.906522</td>\n",
       "      <td>53.552133</td>\n",
       "    </tr>\n",
       "    <tr>\n",
       "      <th>4</th>\n",
       "      <td>0.000000</td>\n",
       "      <td>1.243856</td>\n",
       "    </tr>\n",
       "    <tr>\n",
       "      <th>5</th>\n",
       "      <td>110.992147</td>\n",
       "      <td>111.438490</td>\n",
       "    </tr>\n",
       "    <tr>\n",
       "      <th>6</th>\n",
       "      <td>137.945408</td>\n",
       "      <td>137.134374</td>\n",
       "    </tr>\n",
       "    <tr>\n",
       "      <th>7</th>\n",
       "      <td>84.038886</td>\n",
       "      <td>82.888902</td>\n",
       "    </tr>\n",
       "    <tr>\n",
       "      <th>8</th>\n",
       "      <td>110.992147</td>\n",
       "      <td>110.897311</td>\n",
       "    </tr>\n",
       "    <tr>\n",
       "      <th>9</th>\n",
       "      <td>26.953261</td>\n",
       "      <td>29.219306</td>\n",
       "    </tr>\n",
       "    <tr>\n",
       "      <th>10</th>\n",
       "      <td>107.813044</td>\n",
       "      <td>107.485587</td>\n",
       "    </tr>\n",
       "    <tr>\n",
       "      <th>11</th>\n",
       "      <td>3.179103</td>\n",
       "      <td>3.499583</td>\n",
       "    </tr>\n",
       "    <tr>\n",
       "      <th>12</th>\n",
       "      <td>53.906522</td>\n",
       "      <td>55.560067</td>\n",
       "    </tr>\n",
       "    <tr>\n",
       "      <th>13</th>\n",
       "      <td>0.000000</td>\n",
       "      <td>-0.387515</td>\n",
       "    </tr>\n",
       "    <tr>\n",
       "      <th>14</th>\n",
       "      <td>80.859783</td>\n",
       "      <td>81.454221</td>\n",
       "    </tr>\n",
       "    <tr>\n",
       "      <th>15</th>\n",
       "      <td>57.085625</td>\n",
       "      <td>56.020913</td>\n",
       "    </tr>\n",
       "    <tr>\n",
       "      <th>16</th>\n",
       "      <td>0.000000</td>\n",
       "      <td>0.232528</td>\n",
       "    </tr>\n",
       "    <tr>\n",
       "      <th>17</th>\n",
       "      <td>57.085625</td>\n",
       "      <td>57.701683</td>\n",
       "    </tr>\n",
       "    <tr>\n",
       "      <th>18</th>\n",
       "      <td>107.813044</td>\n",
       "      <td>108.236655</td>\n",
       "    </tr>\n",
       "    <tr>\n",
       "      <th>19</th>\n",
       "      <td>107.813044</td>\n",
       "      <td>107.836412</td>\n",
       "    </tr>\n",
       "  </tbody>\n",
       "</table>\n",
       "</div>"
      ],
      "text/plain": [
       "    real_product  predicted_product\n",
       "0      80.859783          82.663314\n",
       "1      53.906522          54.431786\n",
       "2      30.132364          29.748760\n",
       "3      53.906522          53.552133\n",
       "4       0.000000           1.243856\n",
       "5     110.992147         111.438490\n",
       "6     137.945408         137.134374\n",
       "7      84.038886          82.888902\n",
       "8     110.992147         110.897311\n",
       "9      26.953261          29.219306\n",
       "10    107.813044         107.485587\n",
       "11      3.179103           3.499583\n",
       "12     53.906522          55.560067\n",
       "13      0.000000          -0.387515\n",
       "14     80.859783          81.454221\n",
       "15     57.085625          56.020913\n",
       "16      0.000000           0.232528\n",
       "17     57.085625          57.701683\n",
       "18    107.813044         108.236655\n",
       "19    107.813044         107.836412"
      ]
     },
     "execution_count": 35,
     "metadata": {},
     "output_type": "execute_result"
    }
   ],
   "source": [
    "df_1.head(20)"
   ]
  },
  {
   "cell_type": "markdown",
   "metadata": {},
   "source": [
    "## Подготовка к расчёту прибыли"
   ]
  },
  {
   "cell_type": "code",
   "execution_count": 36,
   "metadata": {},
   "outputs": [
    {
     "name": "stdout",
     "output_type": "stream",
     "text": [
      "Бюджет для одной точки 50000000.0\n",
      "Сколько нужно тысяч баррелей для того, чтобы окупить затраты одной точки 111.11\n",
      "Недостающий объём сырья для безубыточной разработки новой скважины 1 месторождения: 18.61\n",
      "Недостающий объём сырья для безубыточной разработки новой скважины 2 месторождения: 42.29\n",
      "Недостающий объём сырья для безубыточной разработки новой скважины 3 месторождения: 16.11\n"
     ]
    }
   ],
   "source": [
    "BUDGET = 10_000_000_000 # бюджет\n",
    "POINTS = 500 # исследуем 500 точек\n",
    "BEST_POINTS = 200 # количество скважин\n",
    "BUDGET_FOR_ONE = BUDGET / BEST_POINTS # бюджет для одной точки\n",
    "PRICE_PER_BARREL = 450000 #за 1000 баррель\n",
    "#сколько нужно тысяч баррелей для того, чтобы окупить затраты\n",
    "BARR = BUDGET_FOR_ONE / PRICE_PER_BARREL\n",
    "\n",
    "print('Бюджет для одной точки', BUDGET_FOR_ONE)\n",
    "print('Сколько нужно тысяч баррелей для того, чтобы окупить затраты одной точки', round(BARR, 2))\n",
    "print('Недостающий объём сырья для безубыточной разработки новой скважины 1 месторождения:', round(BARR - data_0['product'].mean(),2))\n",
    "print('Недостающий объём сырья для безубыточной разработки новой скважины 2 месторождения:', round(BARR - data_1['product'].mean(),2))\n",
    "print('Недостающий объём сырья для безубыточной разработки новой скважины 3 месторождения:', round(BARR - data_2['product'].mean(),2))"
   ]
  },
  {
   "cell_type": "markdown",
   "metadata": {},
   "source": [
    "На первый взгляд регионы 1 и 3 более привлекательны. Напишем функцию расчета прибыли."
   ]
  },
  {
   "cell_type": "code",
   "execution_count": 90,
   "metadata": {},
   "outputs": [],
   "source": [
    "def profit(df, count):\n",
    "    prof = 0\n",
    "    predict_sorted = df.sort_values(by=['predicted_product'],ascending=False)['predicted_product'].head(count)\n",
    "    selected = df['real_product'][predict_sorted.index][:count]\n",
    "\n",
    "\n",
    "    \n",
    "    if df['real_product'][predict_sorted.index].shape[0] != predict_sorted.index.shape[0]:\n",
    "        print(\"Shape mismatch! Selected targets shape:\", df['real_product'][predict_sorted.index].shape)\n",
    "\n",
    "    prof = selected.sum() * PRICE_PER_BARREL - BUDGET\n",
    "    \n",
    "    return prof"
   ]
  },
  {
   "cell_type": "code",
   "execution_count": 91,
   "metadata": {},
   "outputs": [
    {
     "data": {
      "text/plain": [
       "3320826043.1398506"
      ]
     },
     "execution_count": 91,
     "metadata": {},
     "output_type": "execute_result"
    }
   ],
   "source": [
    "profit(df_0, 200)"
   ]
  },
  {
   "cell_type": "markdown",
   "metadata": {},
   "source": [
    "## Расчёт прибыли и рисков"
   ]
  },
  {
   "cell_type": "code",
   "execution_count": 92,
   "metadata": {},
   "outputs": [],
   "source": [
    "prof_0 = profit(df_0, 200)\n",
    "prof_1 = profit(df_1, 200)\n",
    "prof_2 = profit(df_2, 200)"
   ]
  },
  {
   "cell_type": "code",
   "execution_count": 93,
   "metadata": {},
   "outputs": [
    {
     "name": "stdout",
     "output_type": "stream",
     "text": [
      "Прибыль на валидационной выборке в регионе 1: 3320826043.1398506 млн\n",
      "Прибыль на валидационной выборке в регионе 2: 2415086696.681511 млн\n",
      "Прибыль на валидационной выборке в регионе 3: 2710349963.5998325 млн\n"
     ]
    }
   ],
   "source": [
    "print('Прибыль на валидационной выборке в регионе 1:', prof_0, 'млн')\n",
    "print('Прибыль на валидационной выборке в регионе 2:', prof_1, 'млн')\n",
    "print('Прибыль на валидационной выборке в регионе 3:', prof_2, 'млн')"
   ]
  },
  {
   "cell_type": "markdown",
   "metadata": {},
   "source": [
    "\n",
    "Каждый регион имеет прибыль."
   ]
  },
  {
   "cell_type": "code",
   "execution_count": 104,
   "metadata": {},
   "outputs": [],
   "source": [
    "def strap(target, predictions, count):\n",
    "    state = np.random.RandomState(RANDOM_STATE)\n",
    "    values = []\n",
    "    lost = 0\n",
    "    for i in range(1000):\n",
    "        target_subsample = target.sample(POINTS, replace=True, random_state=state)\n",
    "        pred_subsample = predictions[target_subsample.index]\n",
    "        \n",
    "        data_frame  = {'real_product' : target_subsample,\n",
    "            'predicted_product' : pred_subsample         \n",
    "        }\n",
    "        data_frame = pd.DataFrame(data_frame, columns=['real_product', 'predicted_product']).reset_index(drop=True)\n",
    "    \n",
    "        prof = profit(data_frame, BEST_POINTS)\n",
    "        if prof < 0:\n",
    "            lost +=1\n",
    "        values.append(prof)\n",
    "        \n",
    "    values = pd.Series(values)\n",
    "    lower = values.quantile(0.025) /1000000\n",
    "    higher = values.quantile(0.975) /1000000\n",
    "    risk = lost /1000\n",
    "    \n",
    "    print(\"Среднее значение бутстрепа\", (values.mean())/1000000, \"млн.\")\n",
    "    print(\"Верхняя граница доверительного интервала\", higher, \"млн.\")\n",
    "    print(\"Нижняя граница доверительного интервала\", lower, \"млн.\")\n",
    "    print('Процент риска {:.2%}'.format(risk))\n",
    "    plt.boxplot(x=(values/1000000))\n",
    "\n",
    "    "
   ]
  },
  {
   "cell_type": "code",
   "execution_count": 105,
   "metadata": {},
   "outputs": [
    {
     "name": "stdout",
     "output_type": "stream",
     "text": [
      "1 регион\n",
      "\n",
      "Среднее значение бутстрепа 396.164984802371 млн.\n",
      "Верхняя граница доверительного интервала 909.7669415534226 млн.\n",
      "Нижняя граница доверительного интервала -111.21554589049525 млн.\n",
      "Процент риска 6.90%\n",
      "None\n"
     ]
    },
    {
     "data": {
      "image/png": "[encoded data removed]",
      "text/plain": [
       "<Figure size 640x480 with 1 Axes>"
      ]
     },
     "metadata": {},
     "output_type": "display_data"
    }
   ],
   "source": [
    "print('1 регион')\n",
    "print('')\n",
    "print(strap(df_0['real_product'], df_0['predicted_product'], 500))"
   ]
  },
  {
   "cell_type": "code",
   "execution_count": 106,
   "metadata": {},
   "outputs": [
    {
     "name": "stdout",
     "output_type": "stream",
     "text": [
      "2 регион\n",
      "\n",
      "Среднее значение бутстрепа 456.04510578666105 млн.\n",
      "Верхняя граница доверительного интервала 852.2894538660361 млн.\n",
      "Нижняя граница доверительного интервала 33.820509398983624 млн.\n",
      "Процент риска 1.50%\n",
      "None\n"
     ]
    },
    {
     "data": {
      "image/png": "[encoded data removed]",
      "text/plain": [
       "<Figure size 640x480 with 1 Axes>"
      ]
     },
     "metadata": {},
     "output_type": "display_data"
    }
   ],
   "source": [
    "print('2 регион')\n",
    "print('')\n",
    "print(strap(df_1['real_product'], df_1['predicted_product'], 500))"
   ]
  },
  {
   "cell_type": "code",
   "execution_count": 107,
   "metadata": {},
   "outputs": [
    {
     "name": "stdout",
     "output_type": "stream",
     "text": [
      "3 регион\n",
      "\n",
      "Среднее значение бутстрепа 404.40386656835733 млн.\n",
      "Верхняя граница доверительного интервала 950.3595749237995 млн.\n",
      "Нижняя граница доверительного интервала -163.35041339560107 млн.\n",
      "Процент риска 7.60%\n",
      "None\n"
     ]
    },
    {
     "data": {
      "image/png": "[encoded data removed]",
      "text/plain": [
       "<Figure size 640x480 with 1 Axes>"
      ]
     },
     "metadata": {},
     "output_type": "display_data"
    }
   ],
   "source": [
    "print('3 регион')\n",
    "print('')\n",
    "print(strap(df_2['real_product'], df_2['predicted_product'], 500))"
   ]
  },
  {
   "cell_type": "markdown",
   "metadata": {},
   "source": [
    "Удивительно. Самый прибыльный регион оказался второй, хотя суммарный запас сырья там меньше. Средняя выручка составила 456 млн., на втором месте регион 3 и на последнем месте регион 1. Разница у них 10 млн. рублей."
   ]
  },
  {
   "cell_type": "markdown",
   "metadata": {},
   "source": [
    "Лучше всего модель обучилась на втором регионе. RMSE 0.88. Второй регион имеет самую высокую доверительную границу нижнего интервала. Выбор очевиден. Второй регион точно не подведет."
   ]
  }
 ],
 "metadata": {
  "ExecuteTimeLog": [
   {
    "duration": 427,
    "start_time": "2023-03-11T13:59:27.897Z"
   },
   {
    "duration": 749,
    "start_time": "2023-03-11T14:00:41.906Z"
   },
   {
    "duration": 173,
    "start_time": "2023-03-11T14:00:50.196Z"
   },
   {
    "duration": 241,
    "start_time": "2023-03-11T14:01:01.139Z"
   },
   {
    "duration": 152,
    "start_time": "2023-03-11T14:01:05.205Z"
   },
   {
    "duration": 669,
    "start_time": "2023-03-11T14:02:22.898Z"
   },
   {
    "duration": 657,
    "start_time": "2023-03-11T14:02:51.983Z"
   },
   {
    "duration": 169,
    "start_time": "2023-03-11T14:03:13.466Z"
   },
   {
    "duration": 169,
    "start_time": "2023-03-11T14:03:28.931Z"
   },
   {
    "duration": 181,
    "start_time": "2023-03-11T14:03:34.955Z"
   },
   {
    "duration": 439,
    "start_time": "2023-03-11T15:20:54.812Z"
   },
   {
    "duration": 223,
    "start_time": "2023-03-11T15:20:55.254Z"
   },
   {
    "duration": 167,
    "start_time": "2023-03-11T15:20:55.479Z"
   },
   {
    "duration": 174,
    "start_time": "2023-03-11T15:20:55.648Z"
   },
   {
    "duration": 27,
    "start_time": "2023-03-11T15:20:55.826Z"
   },
   {
    "duration": 56,
    "start_time": "2023-03-11T15:23:26.222Z"
   },
   {
    "duration": 458,
    "start_time": "2023-03-11T15:23:30.757Z"
   },
   {
    "duration": 345,
    "start_time": "2023-03-11T15:23:31.217Z"
   },
   {
    "duration": 304,
    "start_time": "2023-03-11T15:23:31.564Z"
   },
   {
    "duration": 328,
    "start_time": "2023-03-11T15:23:31.870Z"
   },
   {
    "duration": 15,
    "start_time": "2023-03-11T15:23:32.205Z"
   },
   {
    "duration": 11,
    "start_time": "2023-03-11T15:23:51.801Z"
   },
   {
    "duration": 7,
    "start_time": "2023-03-11T15:24:07.725Z"
   },
   {
    "duration": 9,
    "start_time": "2023-03-11T15:24:11.744Z"
   },
   {
    "duration": 8,
    "start_time": "2023-03-11T15:24:25.396Z"
   },
   {
    "duration": 17,
    "start_time": "2023-03-11T15:25:58.966Z"
   },
   {
    "duration": 7,
    "start_time": "2023-03-11T15:26:26.113Z"
   },
   {
    "duration": 3,
    "start_time": "2023-03-11T15:34:25.103Z"
   },
   {
    "duration": 30,
    "start_time": "2023-03-11T15:34:37.602Z"
   },
   {
    "duration": 3,
    "start_time": "2023-03-11T15:34:58.733Z"
   },
   {
    "duration": 27,
    "start_time": "2023-03-11T15:35:03.234Z"
   },
   {
    "duration": 5,
    "start_time": "2023-03-11T15:35:16.238Z"
   },
   {
    "duration": 13,
    "start_time": "2023-03-11T15:35:18.507Z"
   },
   {
    "duration": 19,
    "start_time": "2023-03-11T15:37:02.606Z"
   },
   {
    "duration": 839,
    "start_time": "2023-03-11T15:39:46.214Z"
   },
   {
    "duration": 9,
    "start_time": "2023-03-11T15:43:52.475Z"
   },
   {
    "duration": 75,
    "start_time": "2023-03-11T15:44:28.960Z"
   },
   {
    "duration": 3,
    "start_time": "2023-03-11T15:44:44.860Z"
   },
   {
    "duration": 14,
    "start_time": "2023-03-11T15:44:45.216Z"
   },
   {
    "duration": 5,
    "start_time": "2023-03-11T15:44:47.402Z"
   },
   {
    "duration": 11,
    "start_time": "2023-03-11T15:44:47.860Z"
   },
   {
    "duration": 28,
    "start_time": "2023-03-11T15:45:13.588Z"
   },
   {
    "duration": 4,
    "start_time": "2023-03-11T15:45:15.838Z"
   },
   {
    "duration": 15,
    "start_time": "2023-03-11T15:45:16.213Z"
   },
   {
    "duration": 3,
    "start_time": "2023-03-11T15:45:33.248Z"
   },
   {
    "duration": 1219,
    "start_time": "2023-03-11T15:45:39.502Z"
   },
   {
    "duration": 217,
    "start_time": "2023-03-11T15:45:40.726Z"
   },
   {
    "duration": 175,
    "start_time": "2023-03-11T15:45:40.945Z"
   },
   {
    "duration": 169,
    "start_time": "2023-03-11T15:45:41.122Z"
   },
   {
    "duration": 14,
    "start_time": "2023-03-11T15:45:41.298Z"
   },
   {
    "duration": 8,
    "start_time": "2023-03-11T15:45:41.314Z"
   },
   {
    "duration": 8,
    "start_time": "2023-03-11T15:45:41.325Z"
   },
   {
    "duration": 5,
    "start_time": "2023-03-11T15:45:41.334Z"
   },
   {
    "duration": 168,
    "start_time": "2023-03-11T15:45:41.341Z"
   },
   {
    "duration": 7,
    "start_time": "2023-03-11T15:45:53.090Z"
   },
   {
    "duration": 18,
    "start_time": "2023-03-11T15:45:53.406Z"
   },
   {
    "duration": 7,
    "start_time": "2023-03-11T15:47:15.569Z"
   },
   {
    "duration": 16,
    "start_time": "2023-03-11T15:47:16.119Z"
   },
   {
    "duration": 6,
    "start_time": "2023-03-11T15:47:22.080Z"
   },
   {
    "duration": 18,
    "start_time": "2023-03-11T15:47:22.530Z"
   },
   {
    "duration": 4,
    "start_time": "2023-03-11T15:48:08.619Z"
   },
   {
    "duration": 34,
    "start_time": "2023-03-11T15:48:08.983Z"
   },
   {
    "duration": 9,
    "start_time": "2023-03-11T15:48:44.542Z"
   },
   {
    "duration": 4,
    "start_time": "2023-03-11T15:48:46.821Z"
   },
   {
    "duration": 22,
    "start_time": "2023-03-11T15:48:47.051Z"
   },
   {
    "duration": 4,
    "start_time": "2023-03-11T15:48:56.829Z"
   },
   {
    "duration": 15,
    "start_time": "2023-03-11T15:48:57.203Z"
   },
   {
    "duration": 3,
    "start_time": "2023-03-11T15:49:06.900Z"
   },
   {
    "duration": 25,
    "start_time": "2023-03-11T15:49:07.157Z"
   },
   {
    "duration": 10,
    "start_time": "2023-03-11T15:50:42.205Z"
   },
   {
    "duration": 41,
    "start_time": "2023-03-11T15:50:42.485Z"
   },
   {
    "duration": 1278,
    "start_time": "2023-03-11T15:50:48.019Z"
   },
   {
    "duration": 201,
    "start_time": "2023-03-11T15:50:49.299Z"
   },
   {
    "duration": 167,
    "start_time": "2023-03-11T15:50:49.502Z"
   },
   {
    "duration": 188,
    "start_time": "2023-03-11T15:50:49.672Z"
   },
   {
    "duration": 21,
    "start_time": "2023-03-11T15:50:49.863Z"
   },
   {
    "duration": 27,
    "start_time": "2023-03-11T15:50:49.888Z"
   },
   {
    "duration": 8,
    "start_time": "2023-03-11T15:50:49.917Z"
   },
   {
    "duration": 4,
    "start_time": "2023-03-11T15:50:49.927Z"
   },
   {
    "duration": 27,
    "start_time": "2023-03-11T15:50:49.933Z"
   },
   {
    "duration": 12,
    "start_time": "2023-03-11T15:51:28.595Z"
   },
   {
    "duration": 8,
    "start_time": "2023-03-11T15:51:58.657Z"
   },
   {
    "duration": 6,
    "start_time": "2023-03-11T15:52:24.113Z"
   },
   {
    "duration": 5,
    "start_time": "2023-03-11T15:52:36.513Z"
   },
   {
    "duration": 77,
    "start_time": "2023-03-11T15:53:19.662Z"
   },
   {
    "duration": 57,
    "start_time": "2023-03-11T15:53:34.928Z"
   },
   {
    "duration": 53,
    "start_time": "2023-03-11T15:53:45.806Z"
   },
   {
    "duration": 194,
    "start_time": "2023-03-11T15:54:17.764Z"
   },
   {
    "duration": 1110,
    "start_time": "2023-03-12T14:11:07.191Z"
   },
   {
    "duration": 246,
    "start_time": "2023-03-12T14:11:08.303Z"
   },
   {
    "duration": 210,
    "start_time": "2023-03-12T14:11:08.551Z"
   },
   {
    "duration": 216,
    "start_time": "2023-03-12T14:11:08.763Z"
   },
   {
    "duration": 12,
    "start_time": "2023-03-12T14:11:08.981Z"
   },
   {
    "duration": 7,
    "start_time": "2023-03-12T14:11:08.994Z"
   },
   {
    "duration": 6,
    "start_time": "2023-03-12T14:11:09.002Z"
   },
   {
    "duration": 17,
    "start_time": "2023-03-12T14:11:09.009Z"
   },
   {
    "duration": 35,
    "start_time": "2023-03-12T14:11:09.028Z"
   },
   {
    "duration": 6,
    "start_time": "2023-03-12T14:11:09.065Z"
   },
   {
    "duration": 6,
    "start_time": "2023-03-12T14:11:09.073Z"
   },
   {
    "duration": 19,
    "start_time": "2023-03-12T14:11:09.080Z"
   },
   {
    "duration": 15,
    "start_time": "2023-03-12T14:14:16.181Z"
   },
   {
    "duration": 22,
    "start_time": "2023-03-12T14:18:50.058Z"
   },
   {
    "duration": 1108,
    "start_time": "2023-03-12T14:19:00.717Z"
   },
   {
    "duration": 143,
    "start_time": "2023-03-12T14:19:01.827Z"
   },
   {
    "duration": 147,
    "start_time": "2023-03-12T14:19:01.972Z"
   },
   {
    "duration": 143,
    "start_time": "2023-03-12T14:19:02.122Z"
   },
   {
    "duration": 11,
    "start_time": "2023-03-12T14:19:02.267Z"
   },
   {
    "duration": 13,
    "start_time": "2023-03-12T14:19:02.280Z"
   },
   {
    "duration": 14,
    "start_time": "2023-03-12T14:19:02.295Z"
   },
   {
    "duration": 17,
    "start_time": "2023-03-12T14:19:02.311Z"
   },
   {
    "duration": 18,
    "start_time": "2023-03-12T14:19:02.329Z"
   },
   {
    "duration": 5,
    "start_time": "2023-03-12T14:19:02.349Z"
   },
   {
    "duration": 17,
    "start_time": "2023-03-12T14:19:02.356Z"
   },
   {
    "duration": 27,
    "start_time": "2023-03-12T14:19:02.374Z"
   },
   {
    "duration": 15,
    "start_time": "2023-03-12T14:19:02.402Z"
   },
   {
    "duration": 6,
    "start_time": "2023-03-12T14:44:06.056Z"
   },
   {
    "duration": 57,
    "start_time": "2023-03-12T14:45:35.874Z"
   },
   {
    "duration": 4,
    "start_time": "2023-03-12T14:45:47.165Z"
   },
   {
    "duration": 4,
    "start_time": "2023-03-12T14:46:03.257Z"
   },
   {
    "duration": 16,
    "start_time": "2023-03-12T14:46:03.711Z"
   },
   {
    "duration": 5,
    "start_time": "2023-03-12T14:46:04.511Z"
   },
   {
    "duration": 4,
    "start_time": "2023-03-12T14:46:33.548Z"
   },
   {
    "duration": 11,
    "start_time": "2023-03-12T14:46:59.979Z"
   },
   {
    "duration": 4,
    "start_time": "2023-03-12T14:47:08.245Z"
   },
   {
    "duration": 12,
    "start_time": "2023-03-12T14:47:40.201Z"
   },
   {
    "duration": 3,
    "start_time": "2023-03-12T14:47:51.517Z"
   },
   {
    "duration": 4,
    "start_time": "2023-03-12T14:53:02.709Z"
   },
   {
    "duration": 6,
    "start_time": "2023-03-12T14:53:07.268Z"
   },
   {
    "duration": 102,
    "start_time": "2023-03-12T14:54:51.597Z"
   },
   {
    "duration": 3,
    "start_time": "2023-03-12T14:55:25.426Z"
   },
   {
    "duration": 6,
    "start_time": "2023-03-12T14:55:29.925Z"
   },
   {
    "duration": 10,
    "start_time": "2023-03-12T15:12:31.566Z"
   },
   {
    "duration": 1131,
    "start_time": "2023-03-12T15:12:40.628Z"
   },
   {
    "duration": 150,
    "start_time": "2023-03-12T15:12:41.761Z"
   },
   {
    "duration": 140,
    "start_time": "2023-03-12T15:12:41.913Z"
   },
   {
    "duration": 145,
    "start_time": "2023-03-12T15:12:42.056Z"
   },
   {
    "duration": 13,
    "start_time": "2023-03-12T15:12:42.203Z"
   },
   {
    "duration": 17,
    "start_time": "2023-03-12T15:12:42.218Z"
   },
   {
    "duration": 21,
    "start_time": "2023-03-12T15:12:42.237Z"
   },
   {
    "duration": 11,
    "start_time": "2023-03-12T15:12:42.260Z"
   },
   {
    "duration": 4,
    "start_time": "2023-03-12T15:12:42.272Z"
   },
   {
    "duration": 28,
    "start_time": "2023-03-12T15:12:42.279Z"
   },
   {
    "duration": 14,
    "start_time": "2023-03-12T15:12:42.309Z"
   },
   {
    "duration": 17,
    "start_time": "2023-03-12T15:12:42.324Z"
   },
   {
    "duration": 19,
    "start_time": "2023-03-12T15:12:42.343Z"
   },
   {
    "duration": 14,
    "start_time": "2023-03-12T15:12:42.364Z"
   },
   {
    "duration": 5,
    "start_time": "2023-03-12T15:12:42.380Z"
   },
   {
    "duration": 229,
    "start_time": "2023-03-12T15:12:42.387Z"
   },
   {
    "duration": 0,
    "start_time": "2023-03-12T15:12:42.630Z"
   },
   {
    "duration": 0,
    "start_time": "2023-03-12T15:12:42.631Z"
   },
   {
    "duration": 0,
    "start_time": "2023-03-12T15:12:42.633Z"
   },
   {
    "duration": 0,
    "start_time": "2023-03-12T15:12:42.635Z"
   },
   {
    "duration": 0,
    "start_time": "2023-03-12T15:12:42.636Z"
   },
   {
    "duration": 0,
    "start_time": "2023-03-12T15:12:42.637Z"
   },
   {
    "duration": 112,
    "start_time": "2023-03-12T15:13:23.219Z"
   },
   {
    "duration": 4,
    "start_time": "2023-03-12T15:13:25.474Z"
   },
   {
    "duration": 21,
    "start_time": "2023-03-12T15:13:47.182Z"
   },
   {
    "duration": 5,
    "start_time": "2023-03-12T15:13:48.190Z"
   },
   {
    "duration": 26,
    "start_time": "2023-03-12T15:13:53.710Z"
   },
   {
    "duration": 15,
    "start_time": "2023-03-12T15:14:01.578Z"
   },
   {
    "duration": 4,
    "start_time": "2023-03-12T15:14:01.998Z"
   },
   {
    "duration": 1115,
    "start_time": "2023-03-12T15:14:12.033Z"
   },
   {
    "duration": 142,
    "start_time": "2023-03-12T15:14:13.150Z"
   },
   {
    "duration": 132,
    "start_time": "2023-03-12T15:14:13.294Z"
   },
   {
    "duration": 134,
    "start_time": "2023-03-12T15:14:13.428Z"
   },
   {
    "duration": 12,
    "start_time": "2023-03-12T15:14:13.563Z"
   },
   {
    "duration": 7,
    "start_time": "2023-03-12T15:14:13.577Z"
   },
   {
    "duration": 11,
    "start_time": "2023-03-12T15:14:13.586Z"
   },
   {
    "duration": 32,
    "start_time": "2023-03-12T15:14:13.599Z"
   },
   {
    "duration": 3,
    "start_time": "2023-03-12T15:14:13.633Z"
   },
   {
    "duration": 22,
    "start_time": "2023-03-12T15:14:13.638Z"
   },
   {
    "duration": 38,
    "start_time": "2023-03-12T15:14:13.661Z"
   },
   {
    "duration": 6,
    "start_time": "2023-03-12T15:14:13.701Z"
   },
   {
    "duration": 16,
    "start_time": "2023-03-12T15:14:13.709Z"
   },
   {
    "duration": 13,
    "start_time": "2023-03-12T15:14:13.727Z"
   },
   {
    "duration": 4,
    "start_time": "2023-03-12T15:14:13.742Z"
   },
   {
    "duration": 32,
    "start_time": "2023-03-12T15:14:13.748Z"
   },
   {
    "duration": 5,
    "start_time": "2023-03-12T15:14:13.834Z"
   },
   {
    "duration": 117,
    "start_time": "2023-03-12T15:14:13.841Z"
   },
   {
    "duration": 172,
    "start_time": "2023-03-12T15:14:13.961Z"
   },
   {
    "duration": 21,
    "start_time": "2023-03-12T15:14:14.135Z"
   },
   {
    "duration": 102,
    "start_time": "2023-03-12T15:14:14.231Z"
   },
   {
    "duration": 55,
    "start_time": "2023-03-12T15:14:14.335Z"
   },
   {
    "duration": 998,
    "start_time": "2023-03-12T15:22:17.974Z"
   },
   {
    "duration": 150,
    "start_time": "2023-03-12T15:22:18.975Z"
   },
   {
    "duration": 125,
    "start_time": "2023-03-12T15:22:19.126Z"
   },
   {
    "duration": 140,
    "start_time": "2023-03-12T15:22:19.253Z"
   },
   {
    "duration": 10,
    "start_time": "2023-03-12T15:22:19.396Z"
   },
   {
    "duration": 16,
    "start_time": "2023-03-12T15:22:19.407Z"
   },
   {
    "duration": 13,
    "start_time": "2023-03-12T15:22:19.424Z"
   },
   {
    "duration": 29,
    "start_time": "2023-03-12T15:22:19.438Z"
   },
   {
    "duration": 4,
    "start_time": "2023-03-12T15:22:19.468Z"
   },
   {
    "duration": 17,
    "start_time": "2023-03-12T15:22:19.473Z"
   },
   {
    "duration": 11,
    "start_time": "2023-03-12T15:22:19.491Z"
   },
   {
    "duration": 18,
    "start_time": "2023-03-12T15:22:19.504Z"
   },
   {
    "duration": 15,
    "start_time": "2023-03-12T15:22:19.524Z"
   },
   {
    "duration": 13,
    "start_time": "2023-03-12T15:22:19.541Z"
   },
   {
    "duration": 4,
    "start_time": "2023-03-12T15:22:19.556Z"
   },
   {
    "duration": 69,
    "start_time": "2023-03-12T15:22:19.562Z"
   },
   {
    "duration": 100,
    "start_time": "2023-03-12T15:22:19.633Z"
   },
   {
    "duration": 97,
    "start_time": "2023-03-12T15:22:19.734Z"
   },
   {
    "duration": 94,
    "start_time": "2023-03-12T15:22:19.838Z"
   },
   {
    "duration": 28,
    "start_time": "2023-03-12T15:22:19.934Z"
   },
   {
    "duration": 102,
    "start_time": "2023-03-12T15:22:20.031Z"
   },
   {
    "duration": 1057,
    "start_time": "2023-03-12T15:36:27.997Z"
   },
   {
    "duration": 157,
    "start_time": "2023-03-12T15:36:29.059Z"
   },
   {
    "duration": 149,
    "start_time": "2023-03-12T15:36:29.218Z"
   },
   {
    "duration": 139,
    "start_time": "2023-03-12T15:36:29.369Z"
   },
   {
    "duration": 23,
    "start_time": "2023-03-12T15:36:29.511Z"
   },
   {
    "duration": 12,
    "start_time": "2023-03-12T15:36:29.541Z"
   },
   {
    "duration": 22,
    "start_time": "2023-03-12T15:36:29.555Z"
   },
   {
    "duration": 9,
    "start_time": "2023-03-12T15:36:29.579Z"
   },
   {
    "duration": 3,
    "start_time": "2023-03-12T15:36:29.590Z"
   },
   {
    "duration": 19,
    "start_time": "2023-03-12T15:36:29.595Z"
   },
   {
    "duration": 6,
    "start_time": "2023-03-12T15:36:29.615Z"
   },
   {
    "duration": 9,
    "start_time": "2023-03-12T15:36:29.622Z"
   },
   {
    "duration": 36,
    "start_time": "2023-03-12T15:36:29.633Z"
   },
   {
    "duration": 14,
    "start_time": "2023-03-12T15:36:29.670Z"
   },
   {
    "duration": 4,
    "start_time": "2023-03-12T15:36:29.686Z"
   },
   {
    "duration": 48,
    "start_time": "2023-03-12T15:36:29.692Z"
   },
   {
    "duration": 91,
    "start_time": "2023-03-12T15:36:29.744Z"
   },
   {
    "duration": 0,
    "start_time": "2023-03-12T15:36:29.837Z"
   },
   {
    "duration": 0,
    "start_time": "2023-03-12T15:36:29.838Z"
   },
   {
    "duration": 0,
    "start_time": "2023-03-12T15:36:29.840Z"
   },
   {
    "duration": 0,
    "start_time": "2023-03-12T15:36:29.841Z"
   },
   {
    "duration": 6,
    "start_time": "2023-03-12T15:37:21.388Z"
   },
   {
    "duration": 1111,
    "start_time": "2023-03-12T15:38:19.514Z"
   },
   {
    "duration": 160,
    "start_time": "2023-03-12T15:38:20.627Z"
   },
   {
    "duration": 148,
    "start_time": "2023-03-12T15:38:20.789Z"
   },
   {
    "duration": 141,
    "start_time": "2023-03-12T15:38:20.941Z"
   },
   {
    "duration": 11,
    "start_time": "2023-03-12T15:38:21.084Z"
   },
   {
    "duration": 31,
    "start_time": "2023-03-12T15:38:21.097Z"
   },
   {
    "duration": 33,
    "start_time": "2023-03-12T15:38:21.130Z"
   },
   {
    "duration": 26,
    "start_time": "2023-03-12T15:38:21.165Z"
   },
   {
    "duration": 8,
    "start_time": "2023-03-12T15:38:21.194Z"
   },
   {
    "duration": 46,
    "start_time": "2023-03-12T15:38:21.205Z"
   },
   {
    "duration": 11,
    "start_time": "2023-03-12T15:38:21.252Z"
   },
   {
    "duration": 23,
    "start_time": "2023-03-12T15:38:21.265Z"
   },
   {
    "duration": 34,
    "start_time": "2023-03-12T15:38:21.290Z"
   },
   {
    "duration": 30,
    "start_time": "2023-03-12T15:38:21.326Z"
   },
   {
    "duration": 5,
    "start_time": "2023-03-12T15:38:21.358Z"
   },
   {
    "duration": 66,
    "start_time": "2023-03-12T15:38:21.365Z"
   },
   {
    "duration": 108,
    "start_time": "2023-03-12T15:38:21.433Z"
   },
   {
    "duration": 53,
    "start_time": "2023-03-12T15:38:21.543Z"
   },
   {
    "duration": 114,
    "start_time": "2023-03-12T15:38:21.631Z"
   },
   {
    "duration": 90,
    "start_time": "2023-03-12T15:38:21.747Z"
   },
   {
    "duration": 230,
    "start_time": "2023-03-12T15:38:21.839Z"
   },
   {
    "duration": 1116,
    "start_time": "2023-03-12T15:38:42.344Z"
   },
   {
    "duration": 154,
    "start_time": "2023-03-12T15:38:43.462Z"
   },
   {
    "duration": 152,
    "start_time": "2023-03-12T15:38:43.617Z"
   },
   {
    "duration": 143,
    "start_time": "2023-03-12T15:38:43.771Z"
   },
   {
    "duration": 18,
    "start_time": "2023-03-12T15:38:43.916Z"
   },
   {
    "duration": 12,
    "start_time": "2023-03-12T15:38:43.935Z"
   },
   {
    "duration": 17,
    "start_time": "2023-03-12T15:38:43.949Z"
   },
   {
    "duration": 10,
    "start_time": "2023-03-12T15:38:43.967Z"
   },
   {
    "duration": 3,
    "start_time": "2023-03-12T15:38:43.978Z"
   },
   {
    "duration": 19,
    "start_time": "2023-03-12T15:38:43.983Z"
   },
   {
    "duration": 5,
    "start_time": "2023-03-12T15:38:44.004Z"
   },
   {
    "duration": 12,
    "start_time": "2023-03-12T15:38:44.010Z"
   },
   {
    "duration": 40,
    "start_time": "2023-03-12T15:38:44.030Z"
   },
   {
    "duration": 22,
    "start_time": "2023-03-12T15:38:44.073Z"
   },
   {
    "duration": 7,
    "start_time": "2023-03-12T15:38:44.096Z"
   },
   {
    "duration": 129,
    "start_time": "2023-03-12T15:38:44.105Z"
   },
   {
    "duration": 18,
    "start_time": "2023-03-12T15:38:44.239Z"
   },
   {
    "duration": 175,
    "start_time": "2023-03-12T15:38:44.259Z"
   },
   {
    "duration": 85,
    "start_time": "2023-03-12T15:38:44.448Z"
   },
   {
    "duration": 38,
    "start_time": "2023-03-12T15:38:44.535Z"
   },
   {
    "duration": 13,
    "start_time": "2023-03-12T15:38:44.631Z"
   },
   {
    "duration": 1154,
    "start_time": "2023-03-13T11:51:28.587Z"
   },
   {
    "duration": 583,
    "start_time": "2023-03-13T11:51:29.743Z"
   },
   {
    "duration": 524,
    "start_time": "2023-03-13T11:51:30.328Z"
   },
   {
    "duration": 540,
    "start_time": "2023-03-13T11:51:30.853Z"
   },
   {
    "duration": 13,
    "start_time": "2023-03-13T11:51:31.396Z"
   },
   {
    "duration": 39,
    "start_time": "2023-03-13T11:51:31.410Z"
   },
   {
    "duration": 25,
    "start_time": "2023-03-13T11:51:31.452Z"
   },
   {
    "duration": 38,
    "start_time": "2023-03-13T11:51:31.479Z"
   },
   {
    "duration": 41,
    "start_time": "2023-03-13T11:51:31.519Z"
   },
   {
    "duration": 41,
    "start_time": "2023-03-13T11:51:31.562Z"
   },
   {
    "duration": 23,
    "start_time": "2023-03-13T11:51:31.605Z"
   },
   {
    "duration": 28,
    "start_time": "2023-03-13T11:51:31.630Z"
   },
   {
    "duration": 39,
    "start_time": "2023-03-13T11:51:31.660Z"
   },
   {
    "duration": 22,
    "start_time": "2023-03-13T11:51:31.703Z"
   },
   {
    "duration": 27,
    "start_time": "2023-03-13T11:51:31.727Z"
   },
   {
    "duration": 55,
    "start_time": "2023-03-13T11:51:31.756Z"
   },
   {
    "duration": 106,
    "start_time": "2023-03-13T11:51:31.813Z"
   },
   {
    "duration": 92,
    "start_time": "2023-03-13T11:51:31.921Z"
   },
   {
    "duration": 8,
    "start_time": "2023-03-13T11:51:32.015Z"
   },
   {
    "duration": 17,
    "start_time": "2023-03-13T11:51:32.113Z"
   },
   {
    "duration": 98,
    "start_time": "2023-03-13T11:51:32.215Z"
   },
   {
    "duration": 10,
    "start_time": "2023-03-13T11:55:46.110Z"
   },
   {
    "duration": 7,
    "start_time": "2023-03-13T11:56:25.154Z"
   },
   {
    "duration": 3,
    "start_time": "2023-03-13T12:14:52.368Z"
   },
   {
    "duration": 4,
    "start_time": "2023-03-13T12:22:53.024Z"
   },
   {
    "duration": 4,
    "start_time": "2023-03-13T12:23:46.354Z"
   },
   {
    "duration": 6,
    "start_time": "2023-03-13T12:25:39.928Z"
   },
   {
    "duration": 6,
    "start_time": "2023-03-13T12:28:24.514Z"
   },
   {
    "duration": 7,
    "start_time": "2023-03-13T12:28:36.809Z"
   },
   {
    "duration": 7,
    "start_time": "2023-03-13T12:28:46.739Z"
   },
   {
    "duration": 1147,
    "start_time": "2023-03-14T10:07:49.030Z"
   },
   {
    "duration": 247,
    "start_time": "2023-03-14T10:07:50.181Z"
   },
   {
    "duration": 255,
    "start_time": "2023-03-14T10:07:50.429Z"
   },
   {
    "duration": 242,
    "start_time": "2023-03-14T10:07:50.687Z"
   },
   {
    "duration": 13,
    "start_time": "2023-03-14T10:07:50.931Z"
   },
   {
    "duration": 19,
    "start_time": "2023-03-14T10:07:50.946Z"
   },
   {
    "duration": 7,
    "start_time": "2023-03-14T10:07:50.970Z"
   },
   {
    "duration": 21,
    "start_time": "2023-03-14T10:07:50.979Z"
   },
   {
    "duration": 7,
    "start_time": "2023-03-14T10:07:51.001Z"
   },
   {
    "duration": 20,
    "start_time": "2023-03-14T10:07:51.011Z"
   },
   {
    "duration": 6,
    "start_time": "2023-03-14T10:07:51.032Z"
   },
   {
    "duration": 9,
    "start_time": "2023-03-14T10:07:51.040Z"
   },
   {
    "duration": 37,
    "start_time": "2023-03-14T10:07:51.050Z"
   },
   {
    "duration": 17,
    "start_time": "2023-03-14T10:07:51.089Z"
   },
   {
    "duration": 4,
    "start_time": "2023-03-14T10:07:51.108Z"
   },
   {
    "duration": 64,
    "start_time": "2023-03-14T10:07:51.114Z"
   },
   {
    "duration": 29,
    "start_time": "2023-03-14T10:07:51.260Z"
   },
   {
    "duration": 71,
    "start_time": "2023-03-14T10:07:51.291Z"
   },
   {
    "duration": 101,
    "start_time": "2023-03-14T10:07:51.365Z"
   },
   {
    "duration": 27,
    "start_time": "2023-03-14T10:07:51.472Z"
   },
   {
    "duration": 11,
    "start_time": "2023-03-14T10:07:51.560Z"
   },
   {
    "duration": 94,
    "start_time": "2023-03-14T10:07:51.572Z"
   },
   {
    "duration": 26,
    "start_time": "2023-03-14T10:07:51.668Z"
   },
   {
    "duration": 4,
    "start_time": "2023-03-14T10:16:24.073Z"
   },
   {
    "duration": 137,
    "start_time": "2023-03-14T10:16:55.355Z"
   },
   {
    "duration": 1257,
    "start_time": "2023-03-14T10:17:03.189Z"
   },
   {
    "duration": 170,
    "start_time": "2023-03-14T10:17:04.449Z"
   },
   {
    "duration": 148,
    "start_time": "2023-03-14T10:17:04.621Z"
   },
   {
    "duration": 182,
    "start_time": "2023-03-14T10:17:04.771Z"
   },
   {
    "duration": 15,
    "start_time": "2023-03-14T10:17:04.955Z"
   },
   {
    "duration": 16,
    "start_time": "2023-03-14T10:17:04.974Z"
   },
   {
    "duration": 11,
    "start_time": "2023-03-14T10:17:04.993Z"
   },
   {
    "duration": 39,
    "start_time": "2023-03-14T10:17:05.006Z"
   },
   {
    "duration": 28,
    "start_time": "2023-03-14T10:17:05.047Z"
   },
   {
    "duration": 48,
    "start_time": "2023-03-14T10:17:05.077Z"
   },
   {
    "duration": 25,
    "start_time": "2023-03-14T10:17:05.127Z"
   },
   {
    "duration": 28,
    "start_time": "2023-03-14T10:17:05.154Z"
   },
   {
    "duration": 81,
    "start_time": "2023-03-14T10:17:05.184Z"
   },
   {
    "duration": 24,
    "start_time": "2023-03-14T10:17:05.275Z"
   },
   {
    "duration": 29,
    "start_time": "2023-03-14T10:17:05.302Z"
   },
   {
    "duration": 48,
    "start_time": "2023-03-14T10:17:05.333Z"
   },
   {
    "duration": 197,
    "start_time": "2023-03-14T10:17:05.385Z"
   },
   {
    "duration": 34,
    "start_time": "2023-03-14T10:17:05.584Z"
   },
   {
    "duration": 49,
    "start_time": "2023-03-14T10:17:05.621Z"
   },
   {
    "duration": 151,
    "start_time": "2023-03-14T10:17:05.676Z"
   },
   {
    "duration": 172,
    "start_time": "2023-03-14T10:17:05.830Z"
   },
   {
    "duration": 23,
    "start_time": "2023-03-14T10:17:06.004Z"
   },
   {
    "duration": 52,
    "start_time": "2023-03-14T10:17:06.028Z"
   },
   {
    "duration": 22,
    "start_time": "2023-03-14T10:17:06.083Z"
   },
   {
    "duration": 132,
    "start_time": "2023-03-14T10:17:06.106Z"
   },
   {
    "duration": 1094,
    "start_time": "2023-03-14T10:18:08.209Z"
   },
   {
    "duration": 158,
    "start_time": "2023-03-14T10:18:09.306Z"
   },
   {
    "duration": 148,
    "start_time": "2023-03-14T10:18:09.467Z"
   },
   {
    "duration": 158,
    "start_time": "2023-03-14T10:18:09.617Z"
   },
   {
    "duration": 12,
    "start_time": "2023-03-14T10:18:09.777Z"
   },
   {
    "duration": 7,
    "start_time": "2023-03-14T10:18:09.791Z"
   },
   {
    "duration": 11,
    "start_time": "2023-03-14T10:18:09.800Z"
   },
   {
    "duration": 11,
    "start_time": "2023-03-14T10:18:09.813Z"
   },
   {
    "duration": 47,
    "start_time": "2023-03-14T10:18:09.825Z"
   },
   {
    "duration": 21,
    "start_time": "2023-03-14T10:18:09.875Z"
   },
   {
    "duration": 6,
    "start_time": "2023-03-14T10:18:09.897Z"
   },
   {
    "duration": 12,
    "start_time": "2023-03-14T10:18:09.905Z"
   },
   {
    "duration": 26,
    "start_time": "2023-03-14T10:18:09.919Z"
   },
   {
    "duration": 31,
    "start_time": "2023-03-14T10:18:09.947Z"
   },
   {
    "duration": 55,
    "start_time": "2023-03-14T10:18:09.980Z"
   },
   {
    "duration": 122,
    "start_time": "2023-03-14T10:18:10.037Z"
   },
   {
    "duration": 99,
    "start_time": "2023-03-14T10:18:10.161Z"
   },
   {
    "duration": 33,
    "start_time": "2023-03-14T10:18:10.267Z"
   },
   {
    "duration": 64,
    "start_time": "2023-03-14T10:18:10.305Z"
   },
   {
    "duration": 118,
    "start_time": "2023-03-14T10:18:10.370Z"
   },
   {
    "duration": 188,
    "start_time": "2023-03-14T10:18:10.490Z"
   },
   {
    "duration": 13,
    "start_time": "2023-03-14T10:18:10.680Z"
   },
   {
    "duration": 15,
    "start_time": "2023-03-14T10:18:10.695Z"
   },
   {
    "duration": 4,
    "start_time": "2023-03-14T10:18:10.712Z"
   },
   {
    "duration": 17,
    "start_time": "2023-03-14T10:18:10.717Z"
   },
   {
    "duration": 13,
    "start_time": "2023-03-14T10:19:50.056Z"
   },
   {
    "duration": 8,
    "start_time": "2023-03-14T10:19:50.669Z"
   },
   {
    "duration": 4,
    "start_time": "2023-03-14T10:20:13.420Z"
   },
   {
    "duration": 8,
    "start_time": "2023-03-14T10:20:14.421Z"
   },
   {
    "duration": 1195,
    "start_time": "2023-03-14T10:21:34.939Z"
   },
   {
    "duration": 170,
    "start_time": "2023-03-14T10:21:36.136Z"
   },
   {
    "duration": 147,
    "start_time": "2023-03-14T10:21:36.308Z"
   },
   {
    "duration": 153,
    "start_time": "2023-03-14T10:21:36.457Z"
   },
   {
    "duration": 17,
    "start_time": "2023-03-14T10:21:36.613Z"
   },
   {
    "duration": 9,
    "start_time": "2023-03-14T10:21:36.632Z"
   },
   {
    "duration": 32,
    "start_time": "2023-03-14T10:21:36.643Z"
   },
   {
    "duration": 13,
    "start_time": "2023-03-14T10:21:36.677Z"
   },
   {
    "duration": 4,
    "start_time": "2023-03-14T10:21:36.692Z"
   },
   {
    "duration": 21,
    "start_time": "2023-03-14T10:21:36.698Z"
   },
   {
    "duration": 6,
    "start_time": "2023-03-14T10:21:36.721Z"
   },
   {
    "duration": 6,
    "start_time": "2023-03-14T10:21:36.729Z"
   },
   {
    "duration": 36,
    "start_time": "2023-03-14T10:21:36.737Z"
   },
   {
    "duration": 34,
    "start_time": "2023-03-14T10:21:36.778Z"
   },
   {
    "duration": 13,
    "start_time": "2023-03-14T10:21:36.814Z"
   },
   {
    "duration": 58,
    "start_time": "2023-03-14T10:21:36.828Z"
   },
   {
    "duration": 7,
    "start_time": "2023-03-14T10:21:36.958Z"
   },
   {
    "duration": 94,
    "start_time": "2023-03-14T10:21:36.968Z"
   },
   {
    "duration": 99,
    "start_time": "2023-03-14T10:21:37.065Z"
   },
   {
    "duration": 29,
    "start_time": "2023-03-14T10:21:37.168Z"
   },
   {
    "duration": 68,
    "start_time": "2023-03-14T10:21:37.199Z"
   },
   {
    "duration": 115,
    "start_time": "2023-03-14T10:21:37.269Z"
   },
   {
    "duration": 11,
    "start_time": "2023-03-14T10:21:37.385Z"
   },
   {
    "duration": 9,
    "start_time": "2023-03-14T10:21:37.398Z"
   },
   {
    "duration": 17,
    "start_time": "2023-03-14T10:21:37.409Z"
   },
   {
    "duration": 13,
    "start_time": "2023-03-14T10:22:32.047Z"
   },
   {
    "duration": 4,
    "start_time": "2023-03-14T10:23:27.604Z"
   },
   {
    "duration": 5,
    "start_time": "2023-03-14T10:23:56.748Z"
   },
   {
    "duration": 2,
    "start_time": "2023-03-14T10:25:56.143Z"
   },
   {
    "duration": 1087,
    "start_time": "2023-03-14T10:26:01.808Z"
   },
   {
    "duration": 167,
    "start_time": "2023-03-14T10:26:02.897Z"
   },
   {
    "duration": 145,
    "start_time": "2023-03-14T10:26:03.070Z"
   },
   {
    "duration": 155,
    "start_time": "2023-03-14T10:26:03.218Z"
   },
   {
    "duration": 13,
    "start_time": "2023-03-14T10:26:03.375Z"
   },
   {
    "duration": 17,
    "start_time": "2023-03-14T10:26:03.389Z"
   },
   {
    "duration": 31,
    "start_time": "2023-03-14T10:26:03.408Z"
   },
   {
    "duration": 11,
    "start_time": "2023-03-14T10:26:03.440Z"
   },
   {
    "duration": 20,
    "start_time": "2023-03-14T10:26:03.453Z"
   },
   {
    "duration": 34,
    "start_time": "2023-03-14T10:26:03.475Z"
   },
   {
    "duration": 12,
    "start_time": "2023-03-14T10:26:03.511Z"
   },
   {
    "duration": 35,
    "start_time": "2023-03-14T10:26:03.525Z"
   },
   {
    "duration": 19,
    "start_time": "2023-03-14T10:26:03.573Z"
   },
   {
    "duration": 20,
    "start_time": "2023-03-14T10:26:03.594Z"
   },
   {
    "duration": 4,
    "start_time": "2023-03-14T10:26:03.616Z"
   },
   {
    "duration": 50,
    "start_time": "2023-03-14T10:26:03.622Z"
   },
   {
    "duration": 102,
    "start_time": "2023-03-14T10:26:03.676Z"
   },
   {
    "duration": 96,
    "start_time": "2023-03-14T10:26:03.782Z"
   },
   {
    "duration": 88,
    "start_time": "2023-03-14T10:26:03.882Z"
   },
   {
    "duration": 111,
    "start_time": "2023-03-14T10:26:03.974Z"
   },
   {
    "duration": 7,
    "start_time": "2023-03-14T10:26:04.157Z"
   },
   {
    "duration": 37,
    "start_time": "2023-03-14T10:26:04.168Z"
   },
   {
    "duration": 11,
    "start_time": "2023-03-14T10:26:04.208Z"
   },
   {
    "duration": 14,
    "start_time": "2023-03-14T10:26:04.221Z"
   },
   {
    "duration": 37,
    "start_time": "2023-03-14T10:26:04.256Z"
   },
   {
    "duration": 39,
    "start_time": "2023-03-14T10:26:04.295Z"
   },
   {
    "duration": 3,
    "start_time": "2023-03-14T10:28:07.741Z"
   },
   {
    "duration": 50,
    "start_time": "2023-03-14T10:28:11.004Z"
   },
   {
    "duration": 43,
    "start_time": "2023-03-14T10:28:32.019Z"
   },
   {
    "duration": 48,
    "start_time": "2023-03-14T10:28:32.680Z"
   },
   {
    "duration": 49,
    "start_time": "2023-03-14T10:28:56.452Z"
   },
   {
    "duration": 43,
    "start_time": "2023-03-14T10:29:13.031Z"
   },
   {
    "duration": 40,
    "start_time": "2023-03-14T10:29:16.532Z"
   },
   {
    "duration": 4,
    "start_time": "2023-03-14T10:29:55.094Z"
   },
   {
    "duration": 11,
    "start_time": "2023-03-14T10:29:57.993Z"
   },
   {
    "duration": 5,
    "start_time": "2023-03-14T10:29:58.493Z"
   },
   {
    "duration": 4,
    "start_time": "2023-03-14T10:58:07.810Z"
   },
   {
    "duration": 4,
    "start_time": "2023-03-14T11:03:38.094Z"
   },
   {
    "duration": 1131,
    "start_time": "2023-03-14T11:03:44.136Z"
   },
   {
    "duration": 196,
    "start_time": "2023-03-14T11:03:45.273Z"
   },
   {
    "duration": 173,
    "start_time": "2023-03-14T11:03:45.472Z"
   },
   {
    "duration": 165,
    "start_time": "2023-03-14T11:03:45.648Z"
   },
   {
    "duration": 11,
    "start_time": "2023-03-14T11:03:45.815Z"
   },
   {
    "duration": 7,
    "start_time": "2023-03-14T11:03:45.828Z"
   },
   {
    "duration": 28,
    "start_time": "2023-03-14T11:03:45.836Z"
   },
   {
    "duration": 30,
    "start_time": "2023-03-14T11:03:45.866Z"
   },
   {
    "duration": 55,
    "start_time": "2023-03-14T11:03:45.898Z"
   },
   {
    "duration": 53,
    "start_time": "2023-03-14T11:03:45.956Z"
   },
   {
    "duration": 66,
    "start_time": "2023-03-14T11:03:46.011Z"
   },
   {
    "duration": 40,
    "start_time": "2023-03-14T11:03:46.078Z"
   },
   {
    "duration": 53,
    "start_time": "2023-03-14T11:03:46.120Z"
   },
   {
    "duration": 36,
    "start_time": "2023-03-14T11:03:46.183Z"
   },
   {
    "duration": 4,
    "start_time": "2023-03-14T11:03:46.221Z"
   },
   {
    "duration": 15,
    "start_time": "2023-03-14T11:03:46.227Z"
   },
   {
    "duration": 5,
    "start_time": "2023-03-14T11:03:46.244Z"
   },
   {
    "duration": 27,
    "start_time": "2023-03-14T11:03:46.251Z"
   },
   {
    "duration": 23,
    "start_time": "2023-03-14T11:03:46.285Z"
   },
   {
    "duration": 15,
    "start_time": "2023-03-14T11:03:46.310Z"
   },
   {
    "duration": 6,
    "start_time": "2023-03-14T11:03:46.326Z"
   },
   {
    "duration": 26,
    "start_time": "2023-03-14T11:03:46.334Z"
   },
   {
    "duration": 108,
    "start_time": "2023-03-14T11:03:46.362Z"
   },
   {
    "duration": 100,
    "start_time": "2023-03-14T11:03:46.472Z"
   },
   {
    "duration": 107,
    "start_time": "2023-03-14T11:03:46.583Z"
   },
   {
    "duration": 69,
    "start_time": "2023-03-14T11:03:46.692Z"
   },
   {
    "duration": 120,
    "start_time": "2023-03-14T11:03:46.766Z"
   },
   {
    "duration": 24,
    "start_time": "2023-03-14T11:03:46.889Z"
   },
   {
    "duration": 19,
    "start_time": "2023-03-14T11:03:46.915Z"
   },
   {
    "duration": 21,
    "start_time": "2023-03-14T11:03:46.935Z"
   },
   {
    "duration": 165,
    "start_time": "2023-03-14T11:03:46.963Z"
   },
   {
    "duration": 0,
    "start_time": "2023-03-14T11:03:47.131Z"
   },
   {
    "duration": 0,
    "start_time": "2023-03-14T11:03:47.132Z"
   },
   {
    "duration": 8,
    "start_time": "2023-03-14T11:04:52.883Z"
   },
   {
    "duration": 5,
    "start_time": "2023-03-14T11:05:26.113Z"
   },
   {
    "duration": 22,
    "start_time": "2023-03-14T11:05:26.888Z"
   },
   {
    "duration": 1221,
    "start_time": "2023-03-14T11:05:36.148Z"
   },
   {
    "duration": 150,
    "start_time": "2023-03-14T11:05:37.373Z"
   },
   {
    "duration": 141,
    "start_time": "2023-03-14T11:05:37.524Z"
   },
   {
    "duration": 134,
    "start_time": "2023-03-14T11:05:37.670Z"
   },
   {
    "duration": 12,
    "start_time": "2023-03-14T11:05:37.805Z"
   },
   {
    "duration": 7,
    "start_time": "2023-03-14T11:05:37.818Z"
   },
   {
    "duration": 6,
    "start_time": "2023-03-14T11:05:37.826Z"
   },
   {
    "duration": 12,
    "start_time": "2023-03-14T11:05:37.834Z"
   },
   {
    "duration": 61,
    "start_time": "2023-03-14T11:05:37.858Z"
   },
   {
    "duration": 53,
    "start_time": "2023-03-14T11:05:37.923Z"
   },
   {
    "duration": 63,
    "start_time": "2023-03-14T11:05:37.979Z"
   },
   {
    "duration": 59,
    "start_time": "2023-03-14T11:05:38.044Z"
   },
   {
    "duration": 42,
    "start_time": "2023-03-14T11:05:38.105Z"
   },
   {
    "duration": 49,
    "start_time": "2023-03-14T11:05:38.149Z"
   },
   {
    "duration": 4,
    "start_time": "2023-03-14T11:05:38.200Z"
   },
   {
    "duration": 17,
    "start_time": "2023-03-14T11:05:38.205Z"
   },
   {
    "duration": 6,
    "start_time": "2023-03-14T11:05:38.223Z"
   },
   {
    "duration": 28,
    "start_time": "2023-03-14T11:05:38.230Z"
   },
   {
    "duration": 21,
    "start_time": "2023-03-14T11:05:38.259Z"
   },
   {
    "duration": 15,
    "start_time": "2023-03-14T11:05:38.281Z"
   },
   {
    "duration": 4,
    "start_time": "2023-03-14T11:05:38.298Z"
   },
   {
    "duration": 61,
    "start_time": "2023-03-14T11:05:38.304Z"
   },
   {
    "duration": 96,
    "start_time": "2023-03-14T11:05:38.370Z"
   },
   {
    "duration": 88,
    "start_time": "2023-03-14T11:05:38.469Z"
   },
   {
    "duration": 96,
    "start_time": "2023-03-14T11:05:38.582Z"
   },
   {
    "duration": 28,
    "start_time": "2023-03-14T11:05:38.680Z"
   },
   {
    "duration": 108,
    "start_time": "2023-03-14T11:05:38.758Z"
   },
   {
    "duration": 17,
    "start_time": "2023-03-14T11:05:38.872Z"
   },
   {
    "duration": 9,
    "start_time": "2023-03-14T11:05:38.890Z"
   },
   {
    "duration": 7,
    "start_time": "2023-03-14T11:05:38.900Z"
   },
   {
    "duration": 135,
    "start_time": "2023-03-14T11:05:38.908Z"
   },
   {
    "duration": 0,
    "start_time": "2023-03-14T11:05:39.045Z"
   },
   {
    "duration": 0,
    "start_time": "2023-03-14T11:05:39.046Z"
   },
   {
    "duration": 7,
    "start_time": "2023-03-14T11:08:07.583Z"
   },
   {
    "duration": 13,
    "start_time": "2023-03-14T11:08:57.740Z"
   },
   {
    "duration": 5,
    "start_time": "2023-03-14T11:08:59.828Z"
   },
   {
    "duration": 4,
    "start_time": "2023-03-14T11:09:14.014Z"
   },
   {
    "duration": 48,
    "start_time": "2023-03-14T11:11:22.208Z"
   },
   {
    "duration": 14,
    "start_time": "2023-03-14T11:11:31.487Z"
   },
   {
    "duration": 13,
    "start_time": "2023-03-14T11:11:34.718Z"
   },
   {
    "duration": 1077,
    "start_time": "2023-03-14T11:12:35.784Z"
   },
   {
    "duration": 147,
    "start_time": "2023-03-14T11:12:36.867Z"
   },
   {
    "duration": 131,
    "start_time": "2023-03-14T11:12:37.015Z"
   },
   {
    "duration": 134,
    "start_time": "2023-03-14T11:12:37.148Z"
   },
   {
    "duration": 11,
    "start_time": "2023-03-14T11:12:37.284Z"
   },
   {
    "duration": 6,
    "start_time": "2023-03-14T11:12:37.297Z"
   },
   {
    "duration": 19,
    "start_time": "2023-03-14T11:12:37.305Z"
   },
   {
    "duration": 17,
    "start_time": "2023-03-14T11:12:37.326Z"
   },
   {
    "duration": 62,
    "start_time": "2023-03-14T11:12:37.345Z"
   },
   {
    "duration": 41,
    "start_time": "2023-03-14T11:12:37.409Z"
   },
   {
    "duration": 50,
    "start_time": "2023-03-14T11:12:37.459Z"
   },
   {
    "duration": 57,
    "start_time": "2023-03-14T11:12:37.511Z"
   },
   {
    "duration": 34,
    "start_time": "2023-03-14T11:12:37.570Z"
   },
   {
    "duration": 35,
    "start_time": "2023-03-14T11:12:37.605Z"
   },
   {
    "duration": 23,
    "start_time": "2023-03-14T11:12:37.642Z"
   },
   {
    "duration": 13,
    "start_time": "2023-03-14T11:12:37.670Z"
   },
   {
    "duration": 6,
    "start_time": "2023-03-14T11:12:37.685Z"
   },
   {
    "duration": 12,
    "start_time": "2023-03-14T11:12:37.692Z"
   },
   {
    "duration": 24,
    "start_time": "2023-03-14T11:12:37.706Z"
   },
   {
    "duration": 13,
    "start_time": "2023-03-14T11:12:37.732Z"
   },
   {
    "duration": 15,
    "start_time": "2023-03-14T11:12:37.747Z"
   },
   {
    "duration": 96,
    "start_time": "2023-03-14T11:12:37.767Z"
   },
   {
    "duration": 11,
    "start_time": "2023-03-14T11:12:37.864Z"
   },
   {
    "duration": 108,
    "start_time": "2023-03-14T11:12:37.876Z"
   },
   {
    "duration": 190,
    "start_time": "2023-03-14T11:12:37.987Z"
   },
   {
    "duration": 80,
    "start_time": "2023-03-14T11:12:38.179Z"
   },
   {
    "duration": 12,
    "start_time": "2023-03-14T11:12:38.263Z"
   },
   {
    "duration": 101,
    "start_time": "2023-03-14T11:12:38.279Z"
   },
   {
    "duration": 8,
    "start_time": "2023-03-14T11:12:38.381Z"
   },
   {
    "duration": 5,
    "start_time": "2023-03-14T11:12:38.390Z"
   },
   {
    "duration": 17,
    "start_time": "2023-03-14T11:12:38.397Z"
   },
   {
    "duration": 4,
    "start_time": "2023-03-14T11:12:38.415Z"
   },
   {
    "duration": 8,
    "start_time": "2023-03-14T11:12:38.420Z"
   },
   {
    "duration": 121,
    "start_time": "2023-03-14T11:12:38.430Z"
   },
   {
    "duration": 5,
    "start_time": "2023-03-14T11:13:38.779Z"
   },
   {
    "duration": 1183,
    "start_time": "2023-03-14T11:13:39.269Z"
   },
   {
    "duration": 1115,
    "start_time": "2023-03-14T11:14:38.114Z"
   },
   {
    "duration": 1162,
    "start_time": "2023-03-14T11:14:39.232Z"
   },
   {
    "duration": 1206,
    "start_time": "2023-03-14T11:15:44.674Z"
   },
   {
    "duration": 1343,
    "start_time": "2023-03-15T01:55:26.608Z"
   },
   {
    "duration": 275,
    "start_time": "2023-03-15T01:55:27.953Z"
   },
   {
    "duration": 230,
    "start_time": "2023-03-15T01:55:28.230Z"
   },
   {
    "duration": 237,
    "start_time": "2023-03-15T01:55:28.463Z"
   },
   {
    "duration": 12,
    "start_time": "2023-03-15T01:55:28.702Z"
   },
   {
    "duration": 16,
    "start_time": "2023-03-15T01:55:28.716Z"
   },
   {
    "duration": 24,
    "start_time": "2023-03-15T01:55:28.734Z"
   },
   {
    "duration": 18,
    "start_time": "2023-03-15T01:55:28.760Z"
   },
   {
    "duration": 7,
    "start_time": "2023-03-15T01:55:28.781Z"
   },
   {
    "duration": 70,
    "start_time": "2023-03-15T01:55:28.791Z"
   },
   {
    "duration": 60,
    "start_time": "2023-03-15T01:55:28.863Z"
   },
   {
    "duration": 75,
    "start_time": "2023-03-15T01:55:28.926Z"
   },
   {
    "duration": 42,
    "start_time": "2023-03-15T01:55:29.003Z"
   },
   {
    "duration": 59,
    "start_time": "2023-03-15T01:55:29.047Z"
   },
   {
    "duration": 42,
    "start_time": "2023-03-15T01:55:29.109Z"
   },
   {
    "duration": 5,
    "start_time": "2023-03-15T01:55:29.153Z"
   },
   {
    "duration": 36,
    "start_time": "2023-03-15T01:55:29.159Z"
   },
   {
    "duration": 8,
    "start_time": "2023-03-15T01:55:29.197Z"
   },
   {
    "duration": 14,
    "start_time": "2023-03-15T01:55:29.207Z"
   },
   {
    "duration": 27,
    "start_time": "2023-03-15T01:55:29.223Z"
   },
   {
    "duration": 18,
    "start_time": "2023-03-15T01:55:29.252Z"
   },
   {
    "duration": 7,
    "start_time": "2023-03-15T01:55:29.280Z"
   },
   {
    "duration": 28,
    "start_time": "2023-03-15T01:55:29.295Z"
   },
   {
    "duration": 62,
    "start_time": "2023-03-15T01:55:29.325Z"
   },
   {
    "duration": 138,
    "start_time": "2023-03-15T01:55:29.389Z"
   },
   {
    "duration": 63,
    "start_time": "2023-03-15T01:55:29.530Z"
   },
   {
    "duration": 99,
    "start_time": "2023-03-15T01:55:29.600Z"
   },
   {
    "duration": 79,
    "start_time": "2023-03-15T01:55:29.705Z"
   },
   {
    "duration": 122,
    "start_time": "2023-03-15T01:55:29.786Z"
   },
   {
    "duration": 9,
    "start_time": "2023-03-15T01:55:29.910Z"
   },
   {
    "duration": 12,
    "start_time": "2023-03-15T01:55:29.920Z"
   },
   {
    "duration": 22,
    "start_time": "2023-03-15T01:55:29.934Z"
   },
   {
    "duration": 5,
    "start_time": "2023-03-15T01:55:29.958Z"
   },
   {
    "duration": 9,
    "start_time": "2023-03-15T01:55:29.964Z"
   },
   {
    "duration": 1242,
    "start_time": "2023-03-15T01:55:29.974Z"
   },
   {
    "duration": 1232,
    "start_time": "2023-03-15T01:55:31.218Z"
   },
   {
    "duration": 1211,
    "start_time": "2023-03-15T01:55:32.452Z"
   },
   {
    "duration": 1269,
    "start_time": "2023-03-15T02:16:37.271Z"
   },
   {
    "duration": 164,
    "start_time": "2023-03-15T02:16:38.542Z"
   },
   {
    "duration": 144,
    "start_time": "2023-03-15T02:16:38.707Z"
   },
   {
    "duration": 156,
    "start_time": "2023-03-15T02:16:38.853Z"
   },
   {
    "duration": 13,
    "start_time": "2023-03-15T02:16:39.011Z"
   },
   {
    "duration": 10,
    "start_time": "2023-03-15T02:16:39.026Z"
   },
   {
    "duration": 27,
    "start_time": "2023-03-15T02:16:39.038Z"
   },
   {
    "duration": 19,
    "start_time": "2023-03-15T02:16:39.067Z"
   },
   {
    "duration": 87,
    "start_time": "2023-03-15T02:16:39.088Z"
   },
   {
    "duration": 59,
    "start_time": "2023-03-15T02:16:39.177Z"
   },
   {
    "duration": 73,
    "start_time": "2023-03-15T02:16:39.238Z"
   },
   {
    "duration": 41,
    "start_time": "2023-03-15T02:16:39.313Z"
   },
   {
    "duration": 53,
    "start_time": "2023-03-15T02:16:39.356Z"
   },
   {
    "duration": 37,
    "start_time": "2023-03-15T02:16:39.412Z"
   },
   {
    "duration": 4,
    "start_time": "2023-03-15T02:16:39.451Z"
   },
   {
    "duration": 39,
    "start_time": "2023-03-15T02:16:39.457Z"
   },
   {
    "duration": 30,
    "start_time": "2023-03-15T02:16:39.498Z"
   },
   {
    "duration": 37,
    "start_time": "2023-03-15T02:16:39.531Z"
   },
   {
    "duration": 49,
    "start_time": "2023-03-15T02:16:39.570Z"
   },
   {
    "duration": 35,
    "start_time": "2023-03-15T02:16:39.621Z"
   },
   {
    "duration": 6,
    "start_time": "2023-03-15T02:16:39.658Z"
   },
   {
    "duration": 46,
    "start_time": "2023-03-15T02:16:39.666Z"
   },
   {
    "duration": 114,
    "start_time": "2023-03-15T02:16:39.780Z"
   },
   {
    "duration": 45,
    "start_time": "2023-03-15T02:16:39.898Z"
   },
   {
    "duration": 149,
    "start_time": "2023-03-15T02:16:39.945Z"
   },
   {
    "duration": 47,
    "start_time": "2023-03-15T02:16:40.096Z"
   },
   {
    "duration": 147,
    "start_time": "2023-03-15T02:16:40.145Z"
   },
   {
    "duration": 15,
    "start_time": "2023-03-15T02:16:40.298Z"
   },
   {
    "duration": 13,
    "start_time": "2023-03-15T02:16:40.315Z"
   },
   {
    "duration": 5,
    "start_time": "2023-03-15T02:16:40.329Z"
   },
   {
    "duration": 27,
    "start_time": "2023-03-15T02:16:40.336Z"
   },
   {
    "duration": 28,
    "start_time": "2023-03-15T02:16:40.365Z"
   },
   {
    "duration": 12,
    "start_time": "2023-03-15T02:16:40.396Z"
   },
   {
    "duration": 2414,
    "start_time": "2023-03-15T02:16:40.410Z"
   },
   {
    "duration": 2240,
    "start_time": "2023-03-15T02:16:42.827Z"
   },
   {
    "duration": 2363,
    "start_time": "2023-03-15T02:16:45.083Z"
   },
   {
    "duration": 1197,
    "start_time": "2023-03-15T02:19:15.939Z"
   },
   {
    "duration": 164,
    "start_time": "2023-03-15T02:19:17.138Z"
   },
   {
    "duration": 139,
    "start_time": "2023-03-15T02:19:17.304Z"
   },
   {
    "duration": 159,
    "start_time": "2023-03-15T02:19:17.445Z"
   },
   {
    "duration": 14,
    "start_time": "2023-03-15T02:19:17.607Z"
   },
   {
    "duration": 31,
    "start_time": "2023-03-15T02:19:17.623Z"
   },
   {
    "duration": 19,
    "start_time": "2023-03-15T02:19:17.656Z"
   },
   {
    "duration": 36,
    "start_time": "2023-03-15T02:19:17.676Z"
   },
   {
    "duration": 63,
    "start_time": "2023-03-15T02:19:17.714Z"
   },
   {
    "duration": 66,
    "start_time": "2023-03-15T02:19:17.780Z"
   },
   {
    "duration": 83,
    "start_time": "2023-03-15T02:19:17.848Z"
   },
   {
    "duration": 59,
    "start_time": "2023-03-15T02:19:17.933Z"
   },
   {
    "duration": 48,
    "start_time": "2023-03-15T02:19:17.994Z"
   },
   {
    "duration": 52,
    "start_time": "2023-03-15T02:19:18.044Z"
   },
   {
    "duration": 5,
    "start_time": "2023-03-15T02:19:18.103Z"
   },
   {
    "duration": 27,
    "start_time": "2023-03-15T02:19:18.111Z"
   },
   {
    "duration": 13,
    "start_time": "2023-03-15T02:19:18.140Z"
   },
   {
    "duration": 16,
    "start_time": "2023-03-15T02:19:18.155Z"
   },
   {
    "duration": 24,
    "start_time": "2023-03-15T02:19:18.172Z"
   },
   {
    "duration": 29,
    "start_time": "2023-03-15T02:19:18.197Z"
   },
   {
    "duration": 4,
    "start_time": "2023-03-15T02:19:18.228Z"
   },
   {
    "duration": 53,
    "start_time": "2023-03-15T02:19:18.234Z"
   },
   {
    "duration": 111,
    "start_time": "2023-03-15T02:19:18.290Z"
   },
   {
    "duration": 83,
    "start_time": "2023-03-15T02:19:18.404Z"
   },
   {
    "duration": 110,
    "start_time": "2023-03-15T02:19:18.490Z"
   },
   {
    "duration": 35,
    "start_time": "2023-03-15T02:19:18.602Z"
   },
   {
    "duration": 51,
    "start_time": "2023-03-15T02:19:18.639Z"
   },
   {
    "duration": 101,
    "start_time": "2023-03-15T02:19:18.697Z"
   },
   {
    "duration": 30,
    "start_time": "2023-03-15T02:19:18.800Z"
   },
   {
    "duration": 13,
    "start_time": "2023-03-15T02:19:18.832Z"
   },
   {
    "duration": 31,
    "start_time": "2023-03-15T02:19:18.847Z"
   },
   {
    "duration": 5,
    "start_time": "2023-03-15T02:19:18.880Z"
   },
   {
    "duration": 21,
    "start_time": "2023-03-15T02:19:18.887Z"
   },
   {
    "duration": 2643,
    "start_time": "2023-03-15T02:19:18.911Z"
   },
   {
    "duration": 2542,
    "start_time": "2023-03-15T02:19:21.558Z"
   },
   {
    "duration": 2737,
    "start_time": "2023-03-15T02:19:24.102Z"
   },
   {
    "duration": 1188,
    "start_time": "2023-03-15T08:53:46.666Z"
   },
   {
    "duration": 547,
    "start_time": "2023-03-15T08:53:47.856Z"
   },
   {
    "duration": 510,
    "start_time": "2023-03-15T08:53:48.404Z"
   },
   {
    "duration": 504,
    "start_time": "2023-03-15T08:53:48.915Z"
   },
   {
    "duration": 11,
    "start_time": "2023-03-15T08:53:49.421Z"
   },
   {
    "duration": 7,
    "start_time": "2023-03-15T08:53:49.434Z"
   },
   {
    "duration": 5,
    "start_time": "2023-03-15T08:53:49.443Z"
   },
   {
    "duration": 73,
    "start_time": "2023-03-15T08:53:49.450Z"
   },
   {
    "duration": 61,
    "start_time": "2023-03-15T08:53:49.525Z"
   },
   {
    "duration": 48,
    "start_time": "2023-03-15T08:53:49.588Z"
   },
   {
    "duration": 63,
    "start_time": "2023-03-15T08:53:49.637Z"
   },
   {
    "duration": 35,
    "start_time": "2023-03-15T08:53:49.702Z"
   },
   {
    "duration": 57,
    "start_time": "2023-03-15T08:53:49.739Z"
   },
   {
    "duration": 3,
    "start_time": "2023-03-15T08:53:49.799Z"
   },
   {
    "duration": 15,
    "start_time": "2023-03-15T08:53:49.804Z"
   },
   {
    "duration": 5,
    "start_time": "2023-03-15T08:53:49.820Z"
   },
   {
    "duration": 14,
    "start_time": "2023-03-15T08:53:49.827Z"
   },
   {
    "duration": 26,
    "start_time": "2023-03-15T08:53:49.843Z"
   },
   {
    "duration": 19,
    "start_time": "2023-03-15T08:53:49.872Z"
   },
   {
    "duration": 4,
    "start_time": "2023-03-15T08:53:49.893Z"
   },
   {
    "duration": 77,
    "start_time": "2023-03-15T08:53:49.899Z"
   },
   {
    "duration": 91,
    "start_time": "2023-03-15T08:53:49.978Z"
   },
   {
    "duration": 39,
    "start_time": "2023-03-15T08:53:50.072Z"
   },
   {
    "duration": 21,
    "start_time": "2023-03-15T08:53:50.170Z"
   },
   {
    "duration": 107,
    "start_time": "2023-03-15T08:53:50.195Z"
   },
   {
    "duration": 68,
    "start_time": "2023-03-15T08:53:50.304Z"
   },
   {
    "duration": 116,
    "start_time": "2023-03-15T08:53:50.374Z"
   },
   {
    "duration": 11,
    "start_time": "2023-03-15T08:53:50.491Z"
   },
   {
    "duration": 5,
    "start_time": "2023-03-15T08:53:50.504Z"
   },
   {
    "duration": 124,
    "start_time": "2023-03-15T08:53:50.510Z"
   },
   {
    "duration": 0,
    "start_time": "2023-03-15T08:53:50.637Z"
   },
   {
    "duration": 0,
    "start_time": "2023-03-15T08:53:50.638Z"
   },
   {
    "duration": 0,
    "start_time": "2023-03-15T08:53:50.639Z"
   },
   {
    "duration": 0,
    "start_time": "2023-03-15T08:53:50.640Z"
   },
   {
    "duration": 0,
    "start_time": "2023-03-15T08:53:50.642Z"
   },
   {
    "duration": 4,
    "start_time": "2023-03-15T08:54:59.809Z"
   },
   {
    "duration": 14,
    "start_time": "2023-03-15T08:55:01.421Z"
   },
   {
    "duration": 4,
    "start_time": "2023-03-15T08:55:18.554Z"
   },
   {
    "duration": 14,
    "start_time": "2023-03-15T08:55:19.610Z"
   },
   {
    "duration": 4,
    "start_time": "2023-03-15T08:55:20.313Z"
   },
   {
    "duration": 4,
    "start_time": "2023-03-15T08:55:21.017Z"
   },
   {
    "duration": 2330,
    "start_time": "2023-03-15T08:55:21.420Z"
   },
   {
    "duration": 2399,
    "start_time": "2023-03-15T08:55:23.752Z"
   },
   {
    "duration": 3,
    "start_time": "2023-03-15T08:56:45.416Z"
   },
   {
    "duration": 13,
    "start_time": "2023-03-15T08:56:46.669Z"
   },
   {
    "duration": 4,
    "start_time": "2023-03-15T08:56:47.014Z"
   },
   {
    "duration": 4,
    "start_time": "2023-03-15T08:56:47.435Z"
   },
   {
    "duration": 2891,
    "start_time": "2023-03-15T08:56:47.912Z"
   },
   {
    "duration": 3005,
    "start_time": "2023-03-15T08:56:50.805Z"
   },
   {
    "duration": 1080,
    "start_time": "2023-03-15T10:26:37.357Z"
   },
   {
    "duration": 233,
    "start_time": "2023-03-15T10:26:38.439Z"
   },
   {
    "duration": 212,
    "start_time": "2023-03-15T10:26:38.674Z"
   },
   {
    "duration": 196,
    "start_time": "2023-03-15T10:26:38.888Z"
   },
   {
    "duration": 12,
    "start_time": "2023-03-15T10:26:39.085Z"
   },
   {
    "duration": 7,
    "start_time": "2023-03-15T10:26:39.099Z"
   },
   {
    "duration": 9,
    "start_time": "2023-03-15T10:26:39.108Z"
   },
   {
    "duration": 57,
    "start_time": "2023-03-15T10:26:39.119Z"
   },
   {
    "duration": 44,
    "start_time": "2023-03-15T10:26:39.178Z"
   },
   {
    "duration": 62,
    "start_time": "2023-03-15T10:26:39.225Z"
   },
   {
    "duration": 40,
    "start_time": "2023-03-15T10:26:39.288Z"
   },
   {
    "duration": 107,
    "start_time": "2023-03-15T10:26:39.330Z"
   },
   {
    "duration": 33,
    "start_time": "2023-03-15T10:26:39.439Z"
   },
   {
    "duration": 3,
    "start_time": "2023-03-15T10:26:39.474Z"
   },
   {
    "duration": 33,
    "start_time": "2023-03-15T10:26:39.478Z"
   },
   {
    "duration": 5,
    "start_time": "2023-03-15T10:26:39.514Z"
   },
   {
    "duration": 7,
    "start_time": "2023-03-15T10:26:39.521Z"
   },
   {
    "duration": 14,
    "start_time": "2023-03-15T10:26:39.530Z"
   },
   {
    "duration": 18,
    "start_time": "2023-03-15T10:26:39.546Z"
   },
   {
    "duration": 4,
    "start_time": "2023-03-15T10:26:39.566Z"
   },
   {
    "duration": 88,
    "start_time": "2023-03-15T10:26:39.571Z"
   },
   {
    "duration": 96,
    "start_time": "2023-03-15T10:26:39.661Z"
   },
   {
    "duration": 19,
    "start_time": "2023-03-15T10:26:39.759Z"
   },
   {
    "duration": 106,
    "start_time": "2023-03-15T10:26:39.858Z"
   },
   {
    "duration": 23,
    "start_time": "2023-03-15T10:26:39.965Z"
   },
   {
    "duration": 98,
    "start_time": "2023-03-15T10:26:40.060Z"
   },
   {
    "duration": 16,
    "start_time": "2023-03-15T10:26:40.160Z"
   },
   {
    "duration": 13,
    "start_time": "2023-03-15T10:26:40.179Z"
   },
   {
    "duration": 4,
    "start_time": "2023-03-15T10:26:40.193Z"
   },
   {
    "duration": 22,
    "start_time": "2023-03-15T10:26:40.199Z"
   },
   {
    "duration": 5,
    "start_time": "2023-03-15T10:26:40.222Z"
   },
   {
    "duration": 5,
    "start_time": "2023-03-15T10:26:40.228Z"
   },
   {
    "duration": 3049,
    "start_time": "2023-03-15T10:26:40.234Z"
   },
   {
    "duration": 3135,
    "start_time": "2023-03-15T10:26:43.284Z"
   },
   {
    "duration": 3104,
    "start_time": "2023-03-15T10:26:46.421Z"
   },
   {
    "duration": 20,
    "start_time": "2023-03-15T10:27:31.955Z"
   },
   {
    "duration": 15,
    "start_time": "2023-03-15T10:28:00.673Z"
   },
   {
    "duration": 15,
    "start_time": "2023-03-15T10:28:01.061Z"
   },
   {
    "duration": 17,
    "start_time": "2023-03-15T10:28:12.769Z"
   },
   {
    "duration": 17,
    "start_time": "2023-03-15T10:28:13.381Z"
   },
   {
    "duration": 136,
    "start_time": "2023-03-15T10:30:25.771Z"
   },
   {
    "duration": 24,
    "start_time": "2023-03-15T10:30:47.257Z"
   },
   {
    "duration": 30,
    "start_time": "2023-03-15T10:30:58.723Z"
   },
   {
    "duration": 24,
    "start_time": "2023-03-15T10:32:43.930Z"
   },
   {
    "duration": 15,
    "start_time": "2023-03-15T10:32:58.768Z"
   },
   {
    "duration": 15,
    "start_time": "2023-03-15T10:33:06.072Z"
   },
   {
    "duration": 61,
    "start_time": "2023-03-15T10:49:39.271Z"
   },
   {
    "duration": 8,
    "start_time": "2023-03-15T10:49:48.167Z"
   },
   {
    "duration": 8,
    "start_time": "2023-03-15T10:49:56.544Z"
   },
   {
    "duration": 7,
    "start_time": "2023-03-15T10:50:49.719Z"
   },
   {
    "duration": 1180,
    "start_time": "2023-03-15T17:41:08.708Z"
   },
   {
    "duration": 241,
    "start_time": "2023-03-15T17:41:09.890Z"
   },
   {
    "duration": 213,
    "start_time": "2023-03-15T17:41:10.133Z"
   },
   {
    "duration": 212,
    "start_time": "2023-03-15T17:41:10.349Z"
   },
   {
    "duration": 12,
    "start_time": "2023-03-15T17:41:10.562Z"
   },
   {
    "duration": 13,
    "start_time": "2023-03-15T17:41:10.575Z"
   },
   {
    "duration": 6,
    "start_time": "2023-03-15T17:41:10.589Z"
   },
   {
    "duration": 50,
    "start_time": "2023-03-15T17:41:10.597Z"
   },
   {
    "duration": 60,
    "start_time": "2023-03-15T17:41:10.649Z"
   },
   {
    "duration": 50,
    "start_time": "2023-03-15T17:41:10.712Z"
   },
   {
    "duration": 19,
    "start_time": "2023-03-15T17:41:10.778Z"
   },
   {
    "duration": 20,
    "start_time": "2023-03-15T17:41:10.798Z"
   },
   {
    "duration": 20,
    "start_time": "2023-03-15T17:41:10.820Z"
   },
   {
    "duration": 61,
    "start_time": "2023-03-15T17:41:10.843Z"
   },
   {
    "duration": 37,
    "start_time": "2023-03-15T17:41:10.905Z"
   },
   {
    "duration": 54,
    "start_time": "2023-03-15T17:41:10.944Z"
   },
   {
    "duration": 14,
    "start_time": "2023-03-15T17:41:11.000Z"
   },
   {
    "duration": 14,
    "start_time": "2023-03-15T17:41:11.016Z"
   },
   {
    "duration": 14,
    "start_time": "2023-03-15T17:41:11.032Z"
   },
   {
    "duration": 29,
    "start_time": "2023-03-15T17:41:11.048Z"
   },
   {
    "duration": 6,
    "start_time": "2023-03-15T17:41:11.079Z"
   },
   {
    "duration": 14,
    "start_time": "2023-03-15T17:41:11.087Z"
   },
   {
    "duration": 5,
    "start_time": "2023-03-15T17:41:11.103Z"
   },
   {
    "duration": 5,
    "start_time": "2023-03-15T17:41:11.110Z"
   },
   {
    "duration": 15,
    "start_time": "2023-03-15T17:41:11.117Z"
   },
   {
    "duration": 14,
    "start_time": "2023-03-15T17:41:11.134Z"
   },
   {
    "duration": 28,
    "start_time": "2023-03-15T17:41:11.149Z"
   },
   {
    "duration": 96,
    "start_time": "2023-03-15T17:41:11.181Z"
   },
   {
    "duration": 97,
    "start_time": "2023-03-15T17:41:11.280Z"
   },
   {
    "duration": 17,
    "start_time": "2023-03-15T17:41:11.380Z"
   },
   {
    "duration": 100,
    "start_time": "2023-03-15T17:41:11.477Z"
   },
   {
    "duration": 17,
    "start_time": "2023-03-15T17:41:11.580Z"
   },
   {
    "duration": 98,
    "start_time": "2023-03-15T17:41:11.678Z"
   },
   {
    "duration": 9,
    "start_time": "2023-03-15T17:41:11.778Z"
   },
   {
    "duration": 14,
    "start_time": "2023-03-15T17:41:11.789Z"
   },
   {
    "duration": 10,
    "start_time": "2023-03-15T17:41:11.805Z"
   },
   {
    "duration": 19,
    "start_time": "2023-03-15T17:41:11.817Z"
   },
   {
    "duration": 4,
    "start_time": "2023-03-15T17:41:11.838Z"
   },
   {
    "duration": 7,
    "start_time": "2023-03-15T17:41:11.843Z"
   },
   {
    "duration": 3480,
    "start_time": "2023-03-15T17:41:11.851Z"
   },
   {
    "duration": 3483,
    "start_time": "2023-03-15T17:41:15.333Z"
   },
   {
    "duration": 3513,
    "start_time": "2023-03-15T17:41:18.817Z"
   },
   {
    "duration": 1120,
    "start_time": "2023-03-15T17:45:25.745Z"
   },
   {
    "duration": 157,
    "start_time": "2023-03-15T17:45:26.867Z"
   },
   {
    "duration": 132,
    "start_time": "2023-03-15T17:45:27.026Z"
   },
   {
    "duration": 130,
    "start_time": "2023-03-15T17:45:27.159Z"
   },
   {
    "duration": 12,
    "start_time": "2023-03-15T17:45:27.291Z"
   },
   {
    "duration": 19,
    "start_time": "2023-03-15T17:45:27.305Z"
   },
   {
    "duration": 26,
    "start_time": "2023-03-15T17:45:27.326Z"
   },
   {
    "duration": 101,
    "start_time": "2023-03-15T17:45:27.353Z"
   },
   {
    "duration": 47,
    "start_time": "2023-03-15T17:45:27.456Z"
   },
   {
    "duration": 57,
    "start_time": "2023-03-15T17:45:27.505Z"
   },
   {
    "duration": 30,
    "start_time": "2023-03-15T17:45:27.564Z"
   },
   {
    "duration": 29,
    "start_time": "2023-03-15T17:45:27.596Z"
   },
   {
    "duration": 27,
    "start_time": "2023-03-15T17:45:27.626Z"
   },
   {
    "duration": 53,
    "start_time": "2023-03-15T17:45:27.658Z"
   },
   {
    "duration": 43,
    "start_time": "2023-03-15T17:45:27.713Z"
   },
   {
    "duration": 48,
    "start_time": "2023-03-15T17:45:27.757Z"
   },
   {
    "duration": 14,
    "start_time": "2023-03-15T17:45:27.807Z"
   },
   {
    "duration": 19,
    "start_time": "2023-03-15T17:45:27.823Z"
   },
   {
    "duration": 34,
    "start_time": "2023-03-15T17:45:27.844Z"
   },
   {
    "duration": 3,
    "start_time": "2023-03-15T17:45:27.880Z"
   },
   {
    "duration": 23,
    "start_time": "2023-03-15T17:45:27.884Z"
   },
   {
    "duration": 18,
    "start_time": "2023-03-15T17:45:27.909Z"
   },
   {
    "duration": 10,
    "start_time": "2023-03-15T17:45:27.929Z"
   },
   {
    "duration": 17,
    "start_time": "2023-03-15T17:45:27.941Z"
   },
   {
    "duration": 37,
    "start_time": "2023-03-15T17:45:27.960Z"
   },
   {
    "duration": 24,
    "start_time": "2023-03-15T17:45:27.999Z"
   },
   {
    "duration": 18,
    "start_time": "2023-03-15T17:45:28.025Z"
   },
   {
    "duration": 56,
    "start_time": "2023-03-15T17:45:28.046Z"
   },
   {
    "duration": 178,
    "start_time": "2023-03-15T17:45:28.104Z"
   },
   {
    "duration": 93,
    "start_time": "2023-03-15T17:45:28.284Z"
   },
   {
    "duration": 96,
    "start_time": "2023-03-15T17:45:28.381Z"
   },
   {
    "duration": 30,
    "start_time": "2023-03-15T17:45:28.479Z"
   },
   {
    "duration": 100,
    "start_time": "2023-03-15T17:45:28.581Z"
   },
   {
    "duration": 15,
    "start_time": "2023-03-15T17:45:28.683Z"
   },
   {
    "duration": 21,
    "start_time": "2023-03-15T17:45:28.700Z"
   },
   {
    "duration": 11,
    "start_time": "2023-03-15T17:45:28.722Z"
   },
   {
    "duration": 36,
    "start_time": "2023-03-15T17:45:28.735Z"
   },
   {
    "duration": 4,
    "start_time": "2023-03-15T17:45:28.773Z"
   },
   {
    "duration": 9,
    "start_time": "2023-03-15T17:45:28.779Z"
   },
   {
    "duration": 3437,
    "start_time": "2023-03-15T17:45:28.789Z"
   },
   {
    "duration": 3598,
    "start_time": "2023-03-15T17:45:32.229Z"
   },
   {
    "duration": 3483,
    "start_time": "2023-03-15T17:45:35.829Z"
   },
   {
    "duration": 1128,
    "start_time": "2023-03-15T17:53:54.864Z"
   },
   {
    "duration": 157,
    "start_time": "2023-03-15T17:53:55.994Z"
   },
   {
    "duration": 135,
    "start_time": "2023-03-15T17:53:56.152Z"
   },
   {
    "duration": 135,
    "start_time": "2023-03-15T17:53:56.289Z"
   },
   {
    "duration": 12,
    "start_time": "2023-03-15T17:53:56.426Z"
   },
   {
    "duration": 6,
    "start_time": "2023-03-15T17:53:56.440Z"
   },
   {
    "duration": 12,
    "start_time": "2023-03-15T17:53:56.448Z"
   },
   {
    "duration": 57,
    "start_time": "2023-03-15T17:53:56.476Z"
   },
   {
    "duration": 65,
    "start_time": "2023-03-15T17:53:56.535Z"
   },
   {
    "duration": 54,
    "start_time": "2023-03-15T17:53:56.604Z"
   },
   {
    "duration": 33,
    "start_time": "2023-03-15T17:53:56.660Z"
   },
   {
    "duration": 26,
    "start_time": "2023-03-15T17:53:56.695Z"
   },
   {
    "duration": 28,
    "start_time": "2023-03-15T17:53:56.724Z"
   },
   {
    "duration": 51,
    "start_time": "2023-03-15T17:53:56.754Z"
   },
   {
    "duration": 44,
    "start_time": "2023-03-15T17:53:56.807Z"
   },
   {
    "duration": 57,
    "start_time": "2023-03-15T17:53:56.853Z"
   },
   {
    "duration": 18,
    "start_time": "2023-03-15T17:53:56.912Z"
   },
   {
    "duration": 19,
    "start_time": "2023-03-15T17:53:56.932Z"
   },
   {
    "duration": 34,
    "start_time": "2023-03-15T17:53:56.953Z"
   },
   {
    "duration": 3,
    "start_time": "2023-03-15T17:53:56.989Z"
   },
   {
    "duration": 31,
    "start_time": "2023-03-15T17:53:56.993Z"
   },
   {
    "duration": 37,
    "start_time": "2023-03-15T17:53:57.026Z"
   },
   {
    "duration": 25,
    "start_time": "2023-03-15T17:53:57.064Z"
   },
   {
    "duration": 19,
    "start_time": "2023-03-15T17:53:57.091Z"
   },
   {
    "duration": 39,
    "start_time": "2023-03-15T17:53:57.112Z"
   },
   {
    "duration": 30,
    "start_time": "2023-03-15T17:53:57.153Z"
   },
   {
    "duration": 29,
    "start_time": "2023-03-15T17:53:57.184Z"
   },
   {
    "duration": 63,
    "start_time": "2023-03-15T17:53:57.216Z"
   },
   {
    "duration": 96,
    "start_time": "2023-03-15T17:53:57.282Z"
   },
   {
    "duration": 98,
    "start_time": "2023-03-15T17:53:57.380Z"
   },
   {
    "duration": 108,
    "start_time": "2023-03-15T17:53:57.480Z"
   },
   {
    "duration": 88,
    "start_time": "2023-03-15T17:53:57.589Z"
   },
   {
    "duration": 103,
    "start_time": "2023-03-15T17:53:57.680Z"
   },
   {
    "duration": 23,
    "start_time": "2023-03-15T17:53:57.785Z"
   },
   {
    "duration": 13,
    "start_time": "2023-03-15T17:53:57.810Z"
   },
   {
    "duration": 6,
    "start_time": "2023-03-15T17:53:57.825Z"
   },
   {
    "duration": 21,
    "start_time": "2023-03-15T17:53:57.833Z"
   },
   {
    "duration": 4,
    "start_time": "2023-03-15T17:53:57.856Z"
   },
   {
    "duration": 16,
    "start_time": "2023-03-15T17:53:57.862Z"
   },
   {
    "duration": 3447,
    "start_time": "2023-03-15T17:53:57.880Z"
   },
   {
    "duration": 3420,
    "start_time": "2023-03-15T17:54:01.329Z"
   },
   {
    "duration": 3485,
    "start_time": "2023-03-15T17:54:04.751Z"
   },
   {
    "duration": 4,
    "start_time": "2023-03-15T17:55:20.736Z"
   },
   {
    "duration": 2551,
    "start_time": "2023-03-15T17:55:21.526Z"
   },
   {
    "duration": 2471,
    "start_time": "2023-03-15T17:55:24.079Z"
   },
   {
    "duration": 1164,
    "start_time": "2023-03-15T17:55:36.045Z"
   },
   {
    "duration": 155,
    "start_time": "2023-03-15T17:55:37.212Z"
   },
   {
    "duration": 148,
    "start_time": "2023-03-15T17:55:37.368Z"
   },
   {
    "duration": 134,
    "start_time": "2023-03-15T17:55:37.518Z"
   },
   {
    "duration": 12,
    "start_time": "2023-03-15T17:55:37.654Z"
   },
   {
    "duration": 13,
    "start_time": "2023-03-15T17:55:37.668Z"
   },
   {
    "duration": 7,
    "start_time": "2023-03-15T17:55:37.683Z"
   },
   {
    "duration": 66,
    "start_time": "2023-03-15T17:55:37.692Z"
   },
   {
    "duration": 62,
    "start_time": "2023-03-15T17:55:37.760Z"
   },
   {
    "duration": 66,
    "start_time": "2023-03-15T17:55:37.825Z"
   },
   {
    "duration": 19,
    "start_time": "2023-03-15T17:55:37.892Z"
   },
   {
    "duration": 25,
    "start_time": "2023-03-15T17:55:37.913Z"
   },
   {
    "duration": 28,
    "start_time": "2023-03-15T17:55:37.940Z"
   },
   {
    "duration": 42,
    "start_time": "2023-03-15T17:55:37.977Z"
   },
   {
    "duration": 39,
    "start_time": "2023-03-15T17:55:38.021Z"
   },
   {
    "duration": 36,
    "start_time": "2023-03-15T17:55:38.078Z"
   },
   {
    "duration": 15,
    "start_time": "2023-03-15T17:55:38.116Z"
   },
   {
    "duration": 14,
    "start_time": "2023-03-15T17:55:38.133Z"
   },
   {
    "duration": 43,
    "start_time": "2023-03-15T17:55:38.149Z"
   },
   {
    "duration": 3,
    "start_time": "2023-03-15T17:55:38.193Z"
   },
   {
    "duration": 12,
    "start_time": "2023-03-15T17:55:38.197Z"
   },
   {
    "duration": 15,
    "start_time": "2023-03-15T17:55:38.211Z"
   },
   {
    "duration": 5,
    "start_time": "2023-03-15T17:55:38.228Z"
   },
   {
    "duration": 9,
    "start_time": "2023-03-15T17:55:38.235Z"
   },
   {
    "duration": 32,
    "start_time": "2023-03-15T17:55:38.246Z"
   },
   {
    "duration": 15,
    "start_time": "2023-03-15T17:55:38.280Z"
   },
   {
    "duration": 6,
    "start_time": "2023-03-15T17:55:38.297Z"
   },
   {
    "duration": 76,
    "start_time": "2023-03-15T17:55:38.306Z"
   },
   {
    "duration": 98,
    "start_time": "2023-03-15T17:55:38.384Z"
   },
   {
    "duration": 93,
    "start_time": "2023-03-15T17:55:38.484Z"
   },
   {
    "duration": 95,
    "start_time": "2023-03-15T17:55:38.585Z"
   },
   {
    "duration": 20,
    "start_time": "2023-03-15T17:55:38.681Z"
   },
   {
    "duration": 106,
    "start_time": "2023-03-15T17:55:38.778Z"
   },
   {
    "duration": 11,
    "start_time": "2023-03-15T17:55:38.886Z"
   },
   {
    "duration": 9,
    "start_time": "2023-03-15T17:55:38.898Z"
   },
   {
    "duration": 12,
    "start_time": "2023-03-15T17:55:38.908Z"
   },
   {
    "duration": 23,
    "start_time": "2023-03-15T17:55:38.922Z"
   },
   {
    "duration": 4,
    "start_time": "2023-03-15T17:55:38.947Z"
   },
   {
    "duration": 26,
    "start_time": "2023-03-15T17:55:38.953Z"
   },
   {
    "duration": 2616,
    "start_time": "2023-03-15T17:55:38.980Z"
   },
   {
    "duration": 2713,
    "start_time": "2023-03-15T17:55:41.599Z"
   },
   {
    "duration": 2615,
    "start_time": "2023-03-15T17:55:44.313Z"
   },
   {
    "duration": 8,
    "start_time": "2023-03-15T17:58:27.873Z"
   },
   {
    "duration": 2545,
    "start_time": "2023-03-15T17:58:28.791Z"
   },
   {
    "duration": 2682,
    "start_time": "2023-03-15T17:58:31.338Z"
   },
   {
    "duration": 2702,
    "start_time": "2023-03-15T17:58:34.022Z"
   },
   {
    "duration": 5,
    "start_time": "2023-03-15T17:58:57.207Z"
   },
   {
    "duration": 125,
    "start_time": "2023-03-15T17:58:58.389Z"
   },
   {
    "duration": 5,
    "start_time": "2023-03-15T17:59:09.642Z"
   },
   {
    "duration": 14,
    "start_time": "2023-03-15T17:59:10.238Z"
   },
   {
    "duration": 4,
    "start_time": "2023-03-15T17:59:25.498Z"
   },
   {
    "duration": 2741,
    "start_time": "2023-03-15T17:59:26.508Z"
   },
   {
    "duration": 2790,
    "start_time": "2023-03-15T17:59:29.251Z"
   },
   {
    "duration": 2696,
    "start_time": "2023-03-15T17:59:32.043Z"
   },
   {
    "duration": 13,
    "start_time": "2023-03-15T19:17:31.002Z"
   },
   {
    "duration": 1058,
    "start_time": "2023-03-15T19:17:37.060Z"
   },
   {
    "duration": 567,
    "start_time": "2023-03-15T19:17:38.120Z"
   },
   {
    "duration": 507,
    "start_time": "2023-03-15T19:17:38.688Z"
   },
   {
    "duration": 518,
    "start_time": "2023-03-15T19:17:39.198Z"
   },
   {
    "duration": 11,
    "start_time": "2023-03-15T19:17:39.718Z"
   },
   {
    "duration": 8,
    "start_time": "2023-03-15T19:17:39.730Z"
   },
   {
    "duration": 6,
    "start_time": "2023-03-15T19:17:39.739Z"
   },
   {
    "duration": 47,
    "start_time": "2023-03-15T19:17:39.747Z"
   },
   {
    "duration": 77,
    "start_time": "2023-03-15T19:17:39.796Z"
   },
   {
    "duration": 56,
    "start_time": "2023-03-15T19:17:39.875Z"
   },
   {
    "duration": 16,
    "start_time": "2023-03-15T19:17:39.933Z"
   },
   {
    "duration": 21,
    "start_time": "2023-03-15T19:17:39.951Z"
   },
   {
    "duration": 22,
    "start_time": "2023-03-15T19:17:39.973Z"
   },
   {
    "duration": 59,
    "start_time": "2023-03-15T19:17:39.996Z"
   },
   {
    "duration": 35,
    "start_time": "2023-03-15T19:17:40.057Z"
   },
   {
    "duration": 51,
    "start_time": "2023-03-15T19:17:40.094Z"
   },
   {
    "duration": 14,
    "start_time": "2023-03-15T19:17:40.147Z"
   },
   {
    "duration": 17,
    "start_time": "2023-03-15T19:17:40.162Z"
   },
   {
    "duration": 14,
    "start_time": "2023-03-15T19:17:40.181Z"
   },
   {
    "duration": 4,
    "start_time": "2023-03-15T19:17:40.220Z"
   },
   {
    "duration": 6,
    "start_time": "2023-03-15T19:17:40.226Z"
   },
   {
    "duration": 22,
    "start_time": "2023-03-15T19:17:40.234Z"
   },
   {
    "duration": 8,
    "start_time": "2023-03-15T19:17:40.258Z"
   },
   {
    "duration": 5,
    "start_time": "2023-03-15T19:17:40.268Z"
   },
   {
    "duration": 23,
    "start_time": "2023-03-15T19:17:40.274Z"
   },
   {
    "duration": 17,
    "start_time": "2023-03-15T19:17:40.322Z"
   },
   {
    "duration": 6,
    "start_time": "2023-03-15T19:17:40.341Z"
   },
   {
    "duration": 78,
    "start_time": "2023-03-15T19:17:40.350Z"
   },
   {
    "duration": 90,
    "start_time": "2023-03-15T19:17:40.430Z"
   },
   {
    "duration": 23,
    "start_time": "2023-03-15T19:17:40.523Z"
   },
   {
    "duration": 8,
    "start_time": "2023-03-15T19:17:40.623Z"
   },
   {
    "duration": 97,
    "start_time": "2023-03-15T19:17:40.632Z"
   },
   {
    "duration": 101,
    "start_time": "2023-03-15T19:17:40.731Z"
   },
   {
    "duration": 95,
    "start_time": "2023-03-15T19:17:40.834Z"
   },
   {
    "duration": 9,
    "start_time": "2023-03-15T19:17:40.931Z"
   },
   {
    "duration": 5,
    "start_time": "2023-03-15T19:17:40.942Z"
   },
   {
    "duration": 17,
    "start_time": "2023-03-15T19:17:40.948Z"
   },
   {
    "duration": 4,
    "start_time": "2023-03-15T19:17:40.967Z"
   },
   {
    "duration": 5,
    "start_time": "2023-03-15T19:17:40.973Z"
   },
   {
    "duration": 2566,
    "start_time": "2023-03-15T19:17:41.021Z"
   },
   {
    "duration": 2592,
    "start_time": "2023-03-15T19:17:43.588Z"
   },
   {
    "duration": 2689,
    "start_time": "2023-03-15T19:17:46.182Z"
   },
   {
    "duration": 4,
    "start_time": "2023-03-15T19:19:11.870Z"
   },
   {
    "duration": 1159,
    "start_time": "2023-03-15T19:19:18.790Z"
   },
   {
    "duration": 134,
    "start_time": "2023-03-15T19:19:19.951Z"
   },
   {
    "duration": 116,
    "start_time": "2023-03-15T19:19:20.087Z"
   },
   {
    "duration": 140,
    "start_time": "2023-03-15T19:19:20.206Z"
   },
   {
    "duration": 16,
    "start_time": "2023-03-15T19:19:20.349Z"
   },
   {
    "duration": 9,
    "start_time": "2023-03-15T19:19:20.366Z"
   },
   {
    "duration": 6,
    "start_time": "2023-03-15T19:19:20.377Z"
   },
   {
    "duration": 79,
    "start_time": "2023-03-15T19:19:20.385Z"
   },
   {
    "duration": 63,
    "start_time": "2023-03-15T19:19:20.467Z"
   },
   {
    "duration": 48,
    "start_time": "2023-03-15T19:19:20.533Z"
   },
   {
    "duration": 39,
    "start_time": "2023-03-15T19:19:20.583Z"
   },
   {
    "duration": 30,
    "start_time": "2023-03-15T19:19:20.624Z"
   },
   {
    "duration": 22,
    "start_time": "2023-03-15T19:19:20.655Z"
   },
   {
    "duration": 45,
    "start_time": "2023-03-15T19:19:20.678Z"
   },
   {
    "duration": 34,
    "start_time": "2023-03-15T19:19:20.725Z"
   },
   {
    "duration": 33,
    "start_time": "2023-03-15T19:19:20.761Z"
   },
   {
    "duration": 35,
    "start_time": "2023-03-15T19:19:20.795Z"
   },
   {
    "duration": 17,
    "start_time": "2023-03-15T19:19:20.832Z"
   },
   {
    "duration": 20,
    "start_time": "2023-03-15T19:19:20.850Z"
   },
   {
    "duration": 3,
    "start_time": "2023-03-15T19:19:20.872Z"
   },
   {
    "duration": 8,
    "start_time": "2023-03-15T19:19:20.877Z"
   },
   {
    "duration": 41,
    "start_time": "2023-03-15T19:19:20.886Z"
   },
   {
    "duration": 6,
    "start_time": "2023-03-15T19:19:20.929Z"
   },
   {
    "duration": 12,
    "start_time": "2023-03-15T19:19:20.936Z"
   },
   {
    "duration": 26,
    "start_time": "2023-03-15T19:19:20.949Z"
   },
   {
    "duration": 14,
    "start_time": "2023-03-15T19:19:20.976Z"
   },
   {
    "duration": 5,
    "start_time": "2023-03-15T19:19:20.992Z"
   },
   {
    "duration": 30,
    "start_time": "2023-03-15T19:19:21.001Z"
   },
   {
    "duration": 89,
    "start_time": "2023-03-15T19:19:21.033Z"
   },
   {
    "duration": 105,
    "start_time": "2023-03-15T19:19:21.124Z"
   },
   {
    "duration": 93,
    "start_time": "2023-03-15T19:19:21.231Z"
   },
   {
    "duration": 101,
    "start_time": "2023-03-15T19:19:21.326Z"
   },
   {
    "duration": 93,
    "start_time": "2023-03-15T19:19:21.430Z"
   },
   {
    "duration": 97,
    "start_time": "2023-03-15T19:19:21.527Z"
   },
   {
    "duration": 8,
    "start_time": "2023-03-15T19:19:21.626Z"
   },
   {
    "duration": 3,
    "start_time": "2023-03-15T19:19:21.636Z"
   },
   {
    "duration": 16,
    "start_time": "2023-03-15T19:19:21.641Z"
   },
   {
    "duration": 4,
    "start_time": "2023-03-15T19:19:21.659Z"
   },
   {
    "duration": 4,
    "start_time": "2023-03-15T19:19:21.665Z"
   },
   {
    "duration": 2592,
    "start_time": "2023-03-15T19:19:21.671Z"
   },
   {
    "duration": 2518,
    "start_time": "2023-03-15T19:19:24.265Z"
   },
   {
    "duration": 2651,
    "start_time": "2023-03-15T19:19:26.784Z"
   },
   {
    "duration": 51,
    "start_time": "2023-03-16T19:08:32.882Z"
   },
   {
    "duration": 1198,
    "start_time": "2023-03-16T19:08:37.316Z"
   },
   {
    "duration": 231,
    "start_time": "2023-03-16T19:08:38.516Z"
   },
   {
    "duration": 203,
    "start_time": "2023-03-16T19:08:38.748Z"
   },
   {
    "duration": 205,
    "start_time": "2023-03-16T19:08:38.953Z"
   },
   {
    "duration": 12,
    "start_time": "2023-03-16T19:08:39.160Z"
   },
   {
    "duration": 6,
    "start_time": "2023-03-16T19:08:39.173Z"
   },
   {
    "duration": 5,
    "start_time": "2023-03-16T19:08:39.180Z"
   },
   {
    "duration": 63,
    "start_time": "2023-03-16T19:08:39.187Z"
   },
   {
    "duration": 44,
    "start_time": "2023-03-16T19:08:39.251Z"
   },
   {
    "duration": 69,
    "start_time": "2023-03-16T19:08:39.298Z"
   },
   {
    "duration": 15,
    "start_time": "2023-03-16T19:08:39.368Z"
   },
   {
    "duration": 19,
    "start_time": "2023-03-16T19:08:39.384Z"
   },
   {
    "duration": 29,
    "start_time": "2023-03-16T19:08:39.405Z"
   },
   {
    "duration": 51,
    "start_time": "2023-03-16T19:08:39.436Z"
   },
   {
    "duration": 41,
    "start_time": "2023-03-16T19:08:39.489Z"
   },
   {
    "duration": 35,
    "start_time": "2023-03-16T19:08:39.532Z"
   },
   {
    "duration": 15,
    "start_time": "2023-03-16T19:08:39.568Z"
   },
   {
    "duration": 14,
    "start_time": "2023-03-16T19:08:39.584Z"
   },
   {
    "duration": 42,
    "start_time": "2023-03-16T19:08:39.600Z"
   },
   {
    "duration": 12,
    "start_time": "2023-03-16T19:08:39.644Z"
   },
   {
    "duration": 27,
    "start_time": "2023-03-16T19:08:39.657Z"
   },
   {
    "duration": 30,
    "start_time": "2023-03-16T19:08:39.685Z"
   },
   {
    "duration": 20,
    "start_time": "2023-03-16T19:08:39.717Z"
   },
   {
    "duration": 11,
    "start_time": "2023-03-16T19:08:39.738Z"
   },
   {
    "duration": 32,
    "start_time": "2023-03-16T19:08:39.750Z"
   },
   {
    "duration": 20,
    "start_time": "2023-03-16T19:08:39.784Z"
   },
   {
    "duration": 7,
    "start_time": "2023-03-16T19:08:39.806Z"
   },
   {
    "duration": 27,
    "start_time": "2023-03-16T19:08:39.816Z"
   },
   {
    "duration": 88,
    "start_time": "2023-03-16T19:08:39.846Z"
   },
   {
    "duration": 110,
    "start_time": "2023-03-16T19:08:39.936Z"
   },
   {
    "duration": 88,
    "start_time": "2023-03-16T19:08:40.049Z"
   },
   {
    "duration": 131,
    "start_time": "2023-03-16T19:08:40.140Z"
   },
   {
    "duration": 157,
    "start_time": "2023-03-16T19:08:40.274Z"
   },
   {
    "duration": 8,
    "start_time": "2023-03-16T19:08:40.433Z"
   },
   {
    "duration": 9,
    "start_time": "2023-03-16T19:08:40.443Z"
   },
   {
    "duration": 4,
    "start_time": "2023-03-16T19:08:40.454Z"
   },
   {
    "duration": 21,
    "start_time": "2023-03-16T19:08:40.459Z"
   },
   {
    "duration": 4,
    "start_time": "2023-03-16T19:08:40.482Z"
   },
   {
    "duration": 10,
    "start_time": "2023-03-16T19:08:40.488Z"
   },
   {
    "duration": 34,
    "start_time": "2023-03-16T19:08:40.499Z"
   },
   {
    "duration": 2584,
    "start_time": "2023-03-16T19:08:40.535Z"
   },
   {
    "duration": 2444,
    "start_time": "2023-03-16T19:08:43.130Z"
   },
   {
    "duration": 2621,
    "start_time": "2023-03-16T19:08:45.575Z"
   },
   {
    "duration": 48,
    "start_time": "2023-03-16T19:34:39.278Z"
   },
   {
    "duration": 1106,
    "start_time": "2023-03-16T19:34:44.179Z"
   },
   {
    "duration": 609,
    "start_time": "2023-03-16T19:34:45.288Z"
   },
   {
    "duration": 550,
    "start_time": "2023-03-16T19:34:45.899Z"
   },
   {
    "duration": 548,
    "start_time": "2023-03-16T19:34:46.452Z"
   },
   {
    "duration": 11,
    "start_time": "2023-03-16T19:34:47.002Z"
   },
   {
    "duration": 7,
    "start_time": "2023-03-16T19:34:47.014Z"
   },
   {
    "duration": 10,
    "start_time": "2023-03-16T19:34:47.022Z"
   },
   {
    "duration": 53,
    "start_time": "2023-03-16T19:34:47.034Z"
   },
   {
    "duration": 44,
    "start_time": "2023-03-16T19:34:47.089Z"
   },
   {
    "duration": 65,
    "start_time": "2023-03-16T19:34:47.136Z"
   },
   {
    "duration": 17,
    "start_time": "2023-03-16T19:34:47.202Z"
   },
   {
    "duration": 17,
    "start_time": "2023-03-16T19:34:47.221Z"
   },
   {
    "duration": 38,
    "start_time": "2023-03-16T19:34:47.240Z"
   },
   {
    "duration": 38,
    "start_time": "2023-03-16T19:34:47.279Z"
   },
   {
    "duration": 34,
    "start_time": "2023-03-16T19:34:47.318Z"
   },
   {
    "duration": 53,
    "start_time": "2023-03-16T19:34:47.354Z"
   },
   {
    "duration": 16,
    "start_time": "2023-03-16T19:34:47.408Z"
   },
   {
    "duration": 13,
    "start_time": "2023-03-16T19:34:47.425Z"
   },
   {
    "duration": 42,
    "start_time": "2023-03-16T19:34:47.440Z"
   },
   {
    "duration": 2,
    "start_time": "2023-03-16T19:34:47.485Z"
   },
   {
    "duration": 23,
    "start_time": "2023-03-16T19:34:47.489Z"
   },
   {
    "duration": 14,
    "start_time": "2023-03-16T19:34:47.514Z"
   },
   {
    "duration": 6,
    "start_time": "2023-03-16T19:34:47.530Z"
   },
   {
    "duration": 13,
    "start_time": "2023-03-16T19:34:47.538Z"
   },
   {
    "duration": 15,
    "start_time": "2023-03-16T19:34:47.553Z"
   },
   {
    "duration": 17,
    "start_time": "2023-03-16T19:34:47.569Z"
   },
   {
    "duration": 4,
    "start_time": "2023-03-16T19:34:47.588Z"
   },
   {
    "duration": 88,
    "start_time": "2023-03-16T19:34:47.595Z"
   },
   {
    "duration": 91,
    "start_time": "2023-03-16T19:34:47.685Z"
   },
   {
    "duration": 18,
    "start_time": "2023-03-16T19:34:47.777Z"
   },
   {
    "duration": 83,
    "start_time": "2023-03-16T19:34:47.797Z"
   },
   {
    "duration": 102,
    "start_time": "2023-03-16T19:34:47.881Z"
   },
   {
    "duration": 93,
    "start_time": "2023-03-16T19:34:47.985Z"
   },
   {
    "duration": 96,
    "start_time": "2023-03-16T19:34:48.081Z"
   },
   {
    "duration": 11,
    "start_time": "2023-03-16T19:34:48.179Z"
   },
   {
    "duration": 8,
    "start_time": "2023-03-16T19:34:48.192Z"
   },
   {
    "duration": 4,
    "start_time": "2023-03-16T19:34:48.202Z"
   },
   {
    "duration": 18,
    "start_time": "2023-03-16T19:34:48.207Z"
   },
   {
    "duration": 4,
    "start_time": "2023-03-16T19:34:48.227Z"
   },
   {
    "duration": 43,
    "start_time": "2023-03-16T19:34:48.232Z"
   },
   {
    "duration": 7,
    "start_time": "2023-03-16T19:34:48.277Z"
   },
   {
    "duration": 2424,
    "start_time": "2023-03-16T19:34:48.286Z"
   },
   {
    "duration": 2478,
    "start_time": "2023-03-16T19:34:50.712Z"
   },
   {
    "duration": 2497,
    "start_time": "2023-03-16T19:34:53.192Z"
   },
   {
    "duration": 8,
    "start_time": "2023-03-16T19:35:07.055Z"
   },
   {
    "duration": 1105,
    "start_time": "2023-03-16T19:53:37.261Z"
   },
   {
    "duration": 144,
    "start_time": "2023-03-16T19:53:38.368Z"
   },
   {
    "duration": 122,
    "start_time": "2023-03-16T19:53:38.514Z"
   },
   {
    "duration": 125,
    "start_time": "2023-03-16T19:53:38.638Z"
   },
   {
    "duration": 15,
    "start_time": "2023-03-16T19:53:38.764Z"
   },
   {
    "duration": 6,
    "start_time": "2023-03-16T19:53:38.781Z"
   },
   {
    "duration": 5,
    "start_time": "2023-03-16T19:53:38.789Z"
   },
   {
    "duration": 48,
    "start_time": "2023-03-16T19:53:38.796Z"
   },
   {
    "duration": 74,
    "start_time": "2023-03-16T19:53:38.846Z"
   },
   {
    "duration": 65,
    "start_time": "2023-03-16T19:53:38.923Z"
   },
   {
    "duration": 20,
    "start_time": "2023-03-16T19:53:38.990Z"
   },
   {
    "duration": 21,
    "start_time": "2023-03-16T19:53:39.012Z"
   },
   {
    "duration": 20,
    "start_time": "2023-03-16T19:53:39.034Z"
   },
   {
    "duration": 40,
    "start_time": "2023-03-16T19:53:39.076Z"
   },
   {
    "duration": 36,
    "start_time": "2023-03-16T19:53:39.118Z"
   },
   {
    "duration": 35,
    "start_time": "2023-03-16T19:53:39.176Z"
   },
   {
    "duration": 15,
    "start_time": "2023-03-16T19:53:39.213Z"
   },
   {
    "duration": 14,
    "start_time": "2023-03-16T19:53:39.229Z"
   },
   {
    "duration": 43,
    "start_time": "2023-03-16T19:53:39.245Z"
   },
   {
    "duration": 2,
    "start_time": "2023-03-16T19:53:39.290Z"
   },
   {
    "duration": 7,
    "start_time": "2023-03-16T19:53:39.293Z"
   },
   {
    "duration": 17,
    "start_time": "2023-03-16T19:53:39.301Z"
   },
   {
    "duration": 5,
    "start_time": "2023-03-16T19:53:39.320Z"
   },
   {
    "duration": 10,
    "start_time": "2023-03-16T19:53:39.327Z"
   },
   {
    "duration": 39,
    "start_time": "2023-03-16T19:53:39.339Z"
   },
   {
    "duration": 15,
    "start_time": "2023-03-16T19:53:39.380Z"
   },
   {
    "duration": 4,
    "start_time": "2023-03-16T19:53:39.397Z"
   },
   {
    "duration": 77,
    "start_time": "2023-03-16T19:53:39.404Z"
   },
   {
    "duration": 96,
    "start_time": "2023-03-16T19:53:39.483Z"
   },
   {
    "duration": 17,
    "start_time": "2023-03-16T19:53:39.580Z"
   },
   {
    "duration": 82,
    "start_time": "2023-03-16T19:53:39.599Z"
   },
   {
    "duration": 107,
    "start_time": "2023-03-16T19:53:39.684Z"
   },
   {
    "duration": 84,
    "start_time": "2023-03-16T19:53:39.793Z"
   },
   {
    "duration": 9,
    "start_time": "2023-03-16T19:53:39.879Z"
   },
   {
    "duration": 9,
    "start_time": "2023-03-16T19:53:39.975Z"
   },
   {
    "duration": 10,
    "start_time": "2023-03-16T19:53:39.986Z"
   },
   {
    "duration": 8,
    "start_time": "2023-03-16T19:53:39.997Z"
   },
   {
    "duration": 130,
    "start_time": "2023-03-16T19:53:40.007Z"
   },
   {
    "duration": 0,
    "start_time": "2023-03-16T19:53:40.139Z"
   },
   {
    "duration": 0,
    "start_time": "2023-03-16T19:53:40.141Z"
   },
   {
    "duration": 0,
    "start_time": "2023-03-16T19:53:40.142Z"
   },
   {
    "duration": 0,
    "start_time": "2023-03-16T19:53:40.143Z"
   },
   {
    "duration": 0,
    "start_time": "2023-03-16T19:53:40.144Z"
   },
   {
    "duration": 0,
    "start_time": "2023-03-16T19:53:40.145Z"
   },
   {
    "duration": 4,
    "start_time": "2023-03-16T19:53:57.116Z"
   },
   {
    "duration": 15,
    "start_time": "2023-03-16T19:53:58.498Z"
   },
   {
    "duration": 4,
    "start_time": "2023-03-16T19:53:59.160Z"
   },
   {
    "duration": 6,
    "start_time": "2023-03-16T19:54:00.593Z"
   },
   {
    "duration": 7,
    "start_time": "2023-03-16T19:54:03.840Z"
   },
   {
    "duration": 19,
    "start_time": "2023-03-16T19:54:04.734Z"
   },
   {
    "duration": 5,
    "start_time": "2023-03-16T19:54:11.454Z"
   },
   {
    "duration": 7,
    "start_time": "2023-03-16T19:54:13.108Z"
   },
   {
    "duration": 20,
    "start_time": "2023-03-16T19:54:13.481Z"
   },
   {
    "duration": 20,
    "start_time": "2023-03-16T19:54:13.656Z"
   },
   {
    "duration": 5,
    "start_time": "2023-03-16T19:54:21.713Z"
   },
   {
    "duration": 11,
    "start_time": "2023-03-16T19:54:24.060Z"
   },
   {
    "duration": 2391,
    "start_time": "2023-03-16T19:54:24.640Z"
   },
   {
    "duration": 2526,
    "start_time": "2023-03-16T19:54:27.032Z"
   },
   {
    "duration": 4,
    "start_time": "2023-03-16T19:58:18.438Z"
   },
   {
    "duration": 9,
    "start_time": "2023-03-16T19:58:20.632Z"
   },
   {
    "duration": 5,
    "start_time": "2023-03-16T19:58:22.488Z"
   },
   {
    "duration": 16,
    "start_time": "2023-03-16T19:59:01.789Z"
   },
   {
    "duration": 5,
    "start_time": "2023-03-16T19:59:29.900Z"
   },
   {
    "duration": 17,
    "start_time": "2023-03-16T19:59:30.264Z"
   },
   {
    "duration": 99,
    "start_time": "2023-03-16T19:59:42.043Z"
   },
   {
    "duration": 18,
    "start_time": "2023-03-16T19:59:42.324Z"
   },
   {
    "duration": 4,
    "start_time": "2023-03-16T19:59:48.773Z"
   },
   {
    "duration": 10,
    "start_time": "2023-03-16T19:59:49.298Z"
   },
   {
    "duration": 16,
    "start_time": "2023-03-16T20:00:37.745Z"
   },
   {
    "duration": 19,
    "start_time": "2023-03-16T20:01:30.702Z"
   },
   {
    "duration": 4,
    "start_time": "2023-03-16T20:01:31.204Z"
   },
   {
    "duration": 6,
    "start_time": "2023-03-16T20:01:45.057Z"
   },
   {
    "duration": 9,
    "start_time": "2023-03-16T20:01:53.285Z"
   },
   {
    "duration": 9,
    "start_time": "2023-03-16T20:01:55.376Z"
   },
   {
    "duration": 11,
    "start_time": "2023-03-16T20:02:22.455Z"
   },
   {
    "duration": 14,
    "start_time": "2023-03-16T20:02:37.267Z"
   },
   {
    "duration": 13,
    "start_time": "2023-03-16T20:02:43.685Z"
   },
   {
    "duration": 1064,
    "start_time": "2023-03-16T20:02:53.890Z"
   },
   {
    "duration": 137,
    "start_time": "2023-03-16T20:02:54.956Z"
   },
   {
    "duration": 123,
    "start_time": "2023-03-16T20:02:55.094Z"
   },
   {
    "duration": 133,
    "start_time": "2023-03-16T20:02:55.219Z"
   },
   {
    "duration": 11,
    "start_time": "2023-03-16T20:02:55.354Z"
   },
   {
    "duration": 7,
    "start_time": "2023-03-16T20:02:55.374Z"
   },
   {
    "duration": 6,
    "start_time": "2023-03-16T20:02:55.383Z"
   },
   {
    "duration": 50,
    "start_time": "2023-03-16T20:02:55.391Z"
   },
   {
    "duration": 71,
    "start_time": "2023-03-16T20:02:55.443Z"
   },
   {
    "duration": 63,
    "start_time": "2023-03-16T20:02:55.516Z"
   },
   {
    "duration": 18,
    "start_time": "2023-03-16T20:02:55.581Z"
   },
   {
    "duration": 18,
    "start_time": "2023-03-16T20:02:55.600Z"
   },
   {
    "duration": 25,
    "start_time": "2023-03-16T20:02:55.620Z"
   },
   {
    "duration": 54,
    "start_time": "2023-03-16T20:02:55.648Z"
   },
   {
    "duration": 35,
    "start_time": "2023-03-16T20:02:55.704Z"
   },
   {
    "duration": 49,
    "start_time": "2023-03-16T20:02:55.740Z"
   },
   {
    "duration": 14,
    "start_time": "2023-03-16T20:02:55.790Z"
   },
   {
    "duration": 13,
    "start_time": "2023-03-16T20:02:55.806Z"
   },
   {
    "duration": 14,
    "start_time": "2023-03-16T20:02:55.820Z"
   },
   {
    "duration": 2,
    "start_time": "2023-03-16T20:02:55.836Z"
   },
   {
    "duration": 7,
    "start_time": "2023-03-16T20:02:55.839Z"
   },
   {
    "duration": 13,
    "start_time": "2023-03-16T20:02:55.876Z"
   },
   {
    "duration": 5,
    "start_time": "2023-03-16T20:02:55.891Z"
   },
   {
    "duration": 6,
    "start_time": "2023-03-16T20:02:55.898Z"
   },
   {
    "duration": 17,
    "start_time": "2023-03-16T20:02:55.905Z"
   },
   {
    "duration": 14,
    "start_time": "2023-03-16T20:02:55.924Z"
   },
   {
    "duration": 6,
    "start_time": "2023-03-16T20:02:55.939Z"
   },
   {
    "duration": 21,
    "start_time": "2023-03-16T20:02:55.975Z"
   },
   {
    "duration": 8,
    "start_time": "2023-03-16T20:02:56.075Z"
   },
   {
    "duration": 106,
    "start_time": "2023-03-16T20:02:56.085Z"
   },
   {
    "duration": 83,
    "start_time": "2023-03-16T20:02:56.193Z"
   },
   {
    "duration": 108,
    "start_time": "2023-03-16T20:02:56.278Z"
   },
   {
    "duration": 100,
    "start_time": "2023-03-16T20:02:56.388Z"
   },
   {
    "duration": 9,
    "start_time": "2023-03-16T20:02:56.575Z"
   },
   {
    "duration": 12,
    "start_time": "2023-03-16T20:02:56.585Z"
   },
   {
    "duration": 9,
    "start_time": "2023-03-16T20:02:56.598Z"
   },
   {
    "duration": 7,
    "start_time": "2023-03-16T20:02:56.609Z"
   },
   {
    "duration": 13,
    "start_time": "2023-03-16T20:02:56.617Z"
   },
   {
    "duration": 55,
    "start_time": "2023-03-16T20:02:56.632Z"
   },
   {
    "duration": 4,
    "start_time": "2023-03-16T20:02:56.689Z"
   },
   {
    "duration": 5,
    "start_time": "2023-03-16T20:02:56.698Z"
   },
   {
    "duration": 9,
    "start_time": "2023-03-16T20:02:56.705Z"
   },
   {
    "duration": 129,
    "start_time": "2023-03-16T20:02:56.716Z"
   },
   {
    "duration": 0,
    "start_time": "2023-03-16T20:02:56.847Z"
   },
   {
    "duration": 0,
    "start_time": "2023-03-16T20:02:56.848Z"
   },
   {
    "duration": 7,
    "start_time": "2023-03-16T20:05:31.190Z"
   },
   {
    "duration": 1067,
    "start_time": "2023-03-16T20:05:37.205Z"
   },
   {
    "duration": 143,
    "start_time": "2023-03-16T20:05:38.273Z"
   },
   {
    "duration": 125,
    "start_time": "2023-03-16T20:05:38.419Z"
   },
   {
    "duration": 128,
    "start_time": "2023-03-16T20:05:38.546Z"
   },
   {
    "duration": 13,
    "start_time": "2023-03-16T20:05:38.676Z"
   },
   {
    "duration": 8,
    "start_time": "2023-03-16T20:05:38.691Z"
   },
   {
    "duration": 9,
    "start_time": "2023-03-16T20:05:38.701Z"
   },
   {
    "duration": 81,
    "start_time": "2023-03-16T20:05:38.712Z"
   },
   {
    "duration": 53,
    "start_time": "2023-03-16T20:05:38.795Z"
   },
   {
    "duration": 66,
    "start_time": "2023-03-16T20:05:38.850Z"
   },
   {
    "duration": 21,
    "start_time": "2023-03-16T20:05:38.917Z"
   },
   {
    "duration": 53,
    "start_time": "2023-03-16T20:05:38.939Z"
   },
   {
    "duration": 24,
    "start_time": "2023-03-16T20:05:38.994Z"
   },
   {
    "duration": 67,
    "start_time": "2023-03-16T20:05:39.020Z"
   },
   {
    "duration": 44,
    "start_time": "2023-03-16T20:05:39.088Z"
   },
   {
    "duration": 54,
    "start_time": "2023-03-16T20:05:39.134Z"
   },
   {
    "duration": 14,
    "start_time": "2023-03-16T20:05:39.189Z"
   },
   {
    "duration": 15,
    "start_time": "2023-03-16T20:05:39.205Z"
   },
   {
    "duration": 15,
    "start_time": "2023-03-16T20:05:39.221Z"
   },
   {
    "duration": 2,
    "start_time": "2023-03-16T20:05:39.238Z"
   },
   {
    "duration": 9,
    "start_time": "2023-03-16T20:05:39.242Z"
   },
   {
    "duration": 13,
    "start_time": "2023-03-16T20:05:39.276Z"
   },
   {
    "duration": 6,
    "start_time": "2023-03-16T20:05:39.290Z"
   },
   {
    "duration": 7,
    "start_time": "2023-03-16T20:05:39.297Z"
   },
   {
    "duration": 24,
    "start_time": "2023-03-16T20:05:39.305Z"
   },
   {
    "duration": 15,
    "start_time": "2023-03-16T20:05:39.331Z"
   },
   {
    "duration": 4,
    "start_time": "2023-03-16T20:05:39.376Z"
   },
   {
    "duration": 27,
    "start_time": "2023-03-16T20:05:39.383Z"
   },
   {
    "duration": 10,
    "start_time": "2023-03-16T20:05:39.476Z"
   },
   {
    "duration": 21,
    "start_time": "2023-03-16T20:05:39.575Z"
   },
   {
    "duration": 80,
    "start_time": "2023-03-16T20:05:39.599Z"
   },
   {
    "duration": 102,
    "start_time": "2023-03-16T20:05:39.681Z"
   },
   {
    "duration": 91,
    "start_time": "2023-03-16T20:05:39.785Z"
   },
   {
    "duration": 94,
    "start_time": "2023-03-16T20:05:39.882Z"
   },
   {
    "duration": 12,
    "start_time": "2023-03-16T20:05:39.979Z"
   },
   {
    "duration": 10,
    "start_time": "2023-03-16T20:05:39.994Z"
   },
   {
    "duration": 7,
    "start_time": "2023-03-16T20:05:40.006Z"
   },
   {
    "duration": 14,
    "start_time": "2023-03-16T20:05:40.016Z"
   },
   {
    "duration": 51,
    "start_time": "2023-03-16T20:05:40.032Z"
   },
   {
    "duration": 6,
    "start_time": "2023-03-16T20:05:40.085Z"
   },
   {
    "duration": 8,
    "start_time": "2023-03-16T20:05:40.093Z"
   },
   {
    "duration": 10,
    "start_time": "2023-03-16T20:05:40.103Z"
   },
   {
    "duration": 122,
    "start_time": "2023-03-16T20:05:40.114Z"
   },
   {
    "duration": 0,
    "start_time": "2023-03-16T20:05:40.237Z"
   },
   {
    "duration": 0,
    "start_time": "2023-03-16T20:05:40.239Z"
   },
   {
    "duration": 6,
    "start_time": "2023-03-16T20:16:14.333Z"
   },
   {
    "duration": 1076,
    "start_time": "2023-03-16T20:16:19.981Z"
   },
   {
    "duration": 154,
    "start_time": "2023-03-16T20:16:21.059Z"
   },
   {
    "duration": 130,
    "start_time": "2023-03-16T20:16:21.215Z"
   },
   {
    "duration": 127,
    "start_time": "2023-03-16T20:16:21.349Z"
   },
   {
    "duration": 14,
    "start_time": "2023-03-16T20:16:21.478Z"
   },
   {
    "duration": 6,
    "start_time": "2023-03-16T20:16:21.494Z"
   },
   {
    "duration": 6,
    "start_time": "2023-03-16T20:16:21.502Z"
   },
   {
    "duration": 84,
    "start_time": "2023-03-16T20:16:21.510Z"
   },
   {
    "duration": 51,
    "start_time": "2023-03-16T20:16:21.596Z"
   },
   {
    "duration": 70,
    "start_time": "2023-03-16T20:16:21.650Z"
   },
   {
    "duration": 17,
    "start_time": "2023-03-16T20:16:21.722Z"
   },
   {
    "duration": 42,
    "start_time": "2023-03-16T20:16:21.741Z"
   },
   {
    "duration": 21,
    "start_time": "2023-03-16T20:16:21.785Z"
   },
   {
    "duration": 40,
    "start_time": "2023-03-16T20:16:21.808Z"
   },
   {
    "duration": 54,
    "start_time": "2023-03-16T20:16:21.849Z"
   },
   {
    "duration": 35,
    "start_time": "2023-03-16T20:16:21.905Z"
   },
   {
    "duration": 36,
    "start_time": "2023-03-16T20:16:21.942Z"
   },
   {
    "duration": 14,
    "start_time": "2023-03-16T20:16:21.980Z"
   },
   {
    "duration": 14,
    "start_time": "2023-03-16T20:16:21.996Z"
   },
   {
    "duration": 3,
    "start_time": "2023-03-16T20:16:22.012Z"
   },
   {
    "duration": 5,
    "start_time": "2023-03-16T20:16:22.017Z"
   },
   {
    "duration": 15,
    "start_time": "2023-03-16T20:16:22.023Z"
   },
   {
    "duration": 36,
    "start_time": "2023-03-16T20:16:22.040Z"
   },
   {
    "duration": 6,
    "start_time": "2023-03-16T20:16:22.078Z"
   },
   {
    "duration": 15,
    "start_time": "2023-03-16T20:16:22.085Z"
   },
   {
    "duration": 13,
    "start_time": "2023-03-16T20:16:22.101Z"
   },
   {
    "duration": 4,
    "start_time": "2023-03-16T20:16:22.116Z"
   },
   {
    "duration": 53,
    "start_time": "2023-03-16T20:16:22.123Z"
   },
   {
    "duration": 98,
    "start_time": "2023-03-16T20:16:22.177Z"
   },
   {
    "duration": 18,
    "start_time": "2023-03-16T20:16:22.277Z"
   },
   {
    "duration": 84,
    "start_time": "2023-03-16T20:16:22.297Z"
   },
   {
    "duration": 108,
    "start_time": "2023-03-16T20:16:22.384Z"
   },
   {
    "duration": 82,
    "start_time": "2023-03-16T20:16:22.494Z"
   },
   {
    "duration": 98,
    "start_time": "2023-03-16T20:16:22.578Z"
   },
   {
    "duration": 9,
    "start_time": "2023-03-16T20:16:22.678Z"
   },
   {
    "duration": 8,
    "start_time": "2023-03-16T20:16:22.688Z"
   },
   {
    "duration": 17,
    "start_time": "2023-03-16T20:16:22.698Z"
   },
   {
    "duration": 11,
    "start_time": "2023-03-16T20:16:22.717Z"
   },
   {
    "duration": 15,
    "start_time": "2023-03-16T20:16:22.729Z"
   },
   {
    "duration": 4,
    "start_time": "2023-03-16T20:16:22.746Z"
   },
   {
    "duration": 5,
    "start_time": "2023-03-16T20:16:22.775Z"
   },
   {
    "duration": 8,
    "start_time": "2023-03-16T20:16:22.781Z"
   },
   {
    "duration": 111,
    "start_time": "2023-03-16T20:16:22.790Z"
   },
   {
    "duration": 0,
    "start_time": "2023-03-16T20:16:22.903Z"
   },
   {
    "duration": 0,
    "start_time": "2023-03-16T20:16:22.904Z"
   },
   {
    "duration": 4,
    "start_time": "2023-03-16T20:16:48.785Z"
   },
   {
    "duration": 7,
    "start_time": "2023-03-16T20:16:50.904Z"
   },
   {
    "duration": 3356,
    "start_time": "2023-03-16T20:16:51.755Z"
   },
   {
    "duration": 4,
    "start_time": "2023-03-16T20:18:17.021Z"
   },
   {
    "duration": 8,
    "start_time": "2023-03-16T20:18:18.899Z"
   },
   {
    "duration": 3103,
    "start_time": "2023-03-16T20:18:19.508Z"
   },
   {
    "duration": 9,
    "start_time": "2023-03-16T20:18:22.613Z"
   },
   {
    "duration": 0,
    "start_time": "2023-03-16T20:18:22.624Z"
   },
   {
    "duration": 10,
    "start_time": "2023-03-16T20:18:31.507Z"
   },
   {
    "duration": 12,
    "start_time": "2023-03-16T20:18:54.715Z"
   },
   {
    "duration": 3102,
    "start_time": "2023-03-16T20:19:02.409Z"
   },
   {
    "duration": 3314,
    "start_time": "2023-03-16T20:19:14.849Z"
   },
   {
    "duration": 5,
    "start_time": "2023-03-16T20:19:44.215Z"
   },
   {
    "duration": 5,
    "start_time": "2023-03-16T20:21:24.230Z"
   },
   {
    "duration": 9,
    "start_time": "2023-03-16T20:21:24.572Z"
   },
   {
    "duration": 15,
    "start_time": "2023-03-16T20:21:32.840Z"
   },
   {
    "duration": 4,
    "start_time": "2023-03-16T20:21:34.108Z"
   },
   {
    "duration": 4,
    "start_time": "2023-03-16T20:21:35.658Z"
   },
   {
    "duration": 8,
    "start_time": "2023-03-16T20:21:39.365Z"
   },
   {
    "duration": 2953,
    "start_time": "2023-03-16T20:21:40.283Z"
   },
   {
    "duration": 1174,
    "start_time": "2023-03-17T19:35:06.100Z"
   },
   {
    "duration": 140,
    "start_time": "2023-03-17T19:35:07.276Z"
   },
   {
    "duration": 124,
    "start_time": "2023-03-17T19:35:07.418Z"
   },
   {
    "duration": 124,
    "start_time": "2023-03-17T19:35:07.544Z"
   },
   {
    "duration": 15,
    "start_time": "2023-03-17T19:35:07.669Z"
   },
   {
    "duration": 7,
    "start_time": "2023-03-17T19:35:07.685Z"
   },
   {
    "duration": 8,
    "start_time": "2023-03-17T19:35:07.694Z"
   },
   {
    "duration": 73,
    "start_time": "2023-03-17T19:35:07.703Z"
   },
   {
    "duration": 46,
    "start_time": "2023-03-17T19:35:07.778Z"
   },
   {
    "duration": 68,
    "start_time": "2023-03-17T19:35:07.826Z"
   },
   {
    "duration": 19,
    "start_time": "2023-03-17T19:35:07.896Z"
   },
   {
    "duration": 20,
    "start_time": "2023-03-17T19:35:07.916Z"
   },
   {
    "duration": 38,
    "start_time": "2023-03-17T19:35:07.938Z"
   },
   {
    "duration": 38,
    "start_time": "2023-03-17T19:35:07.978Z"
   },
   {
    "duration": 36,
    "start_time": "2023-03-17T19:35:08.018Z"
   },
   {
    "duration": 55,
    "start_time": "2023-03-17T19:35:08.055Z"
   },
   {
    "duration": 14,
    "start_time": "2023-03-17T19:35:08.111Z"
   },
   {
    "duration": 14,
    "start_time": "2023-03-17T19:35:08.127Z"
   },
   {
    "duration": 45,
    "start_time": "2023-03-17T19:35:08.142Z"
   },
   {
    "duration": 2,
    "start_time": "2023-03-17T19:35:08.189Z"
   },
   {
    "duration": 6,
    "start_time": "2023-03-17T19:35:08.192Z"
   },
   {
    "duration": 15,
    "start_time": "2023-03-17T19:35:08.200Z"
   },
   {
    "duration": 6,
    "start_time": "2023-03-17T19:35:08.216Z"
   },
   {
    "duration": 7,
    "start_time": "2023-03-17T19:35:08.223Z"
   },
   {
    "duration": 15,
    "start_time": "2023-03-17T19:35:08.231Z"
   },
   {
    "duration": 39,
    "start_time": "2023-03-17T19:35:08.248Z"
   },
   {
    "duration": 5,
    "start_time": "2023-03-17T19:35:08.288Z"
   },
   {
    "duration": 79,
    "start_time": "2023-03-17T19:35:08.296Z"
   },
   {
    "duration": 7,
    "start_time": "2023-03-17T19:35:08.377Z"
   },
   {
    "duration": 100,
    "start_time": "2023-03-17T19:35:08.386Z"
   },
   {
    "duration": 92,
    "start_time": "2023-03-17T19:35:08.488Z"
   },
   {
    "duration": 107,
    "start_time": "2023-03-17T19:35:08.581Z"
   },
   {
    "duration": 86,
    "start_time": "2023-03-17T19:35:08.690Z"
   },
   {
    "duration": 98,
    "start_time": "2023-03-17T19:35:08.777Z"
   },
   {
    "duration": 10,
    "start_time": "2023-03-17T19:35:08.877Z"
   },
   {
    "duration": 8,
    "start_time": "2023-03-17T19:35:08.889Z"
   },
   {
    "duration": 4,
    "start_time": "2023-03-17T19:35:08.898Z"
   },
   {
    "duration": 16,
    "start_time": "2023-03-17T19:35:08.903Z"
   },
   {
    "duration": 16,
    "start_time": "2023-03-17T19:35:08.920Z"
   },
   {
    "duration": 4,
    "start_time": "2023-03-17T19:35:08.937Z"
   },
   {
    "duration": 6,
    "start_time": "2023-03-17T19:35:08.974Z"
   },
   {
    "duration": 8,
    "start_time": "2023-03-17T19:35:08.981Z"
   },
   {
    "duration": 2458,
    "start_time": "2023-03-17T19:35:08.991Z"
   },
   {
    "duration": 2473,
    "start_time": "2023-03-17T19:35:11.450Z"
   },
   {
    "duration": 2488,
    "start_time": "2023-03-17T19:35:13.924Z"
   }
  ],
  "kernelspec": {
   "display_name": "Python 3 (ipykernel)",
   "language": "python",
   "name": "python3"
  },
  "language_info": {
   "codemirror_mode": {
    "name": "ipython",
    "version": 3
   },
   "file_extension": ".py",
   "mimetype": "text/x-python",
   "name": "python",
   "nbconvert_exporter": "python",
   "pygments_lexer": "ipython3",
   "version": "3.9.13"
  },
  "toc": {
   "base_numbering": 1,
   "nav_menu": {},
   "number_sections": true,
   "sideBar": true,
   "skip_h1_title": true,
   "title_cell": "Table of Contents",
   "title_sidebar": "Contents",
   "toc_cell": false,
   "toc_position": {},
   "toc_section_display": true,
   "toc_window_display": false
  }
 },
 "nbformat": 4,
 "nbformat_minor": 2
}
