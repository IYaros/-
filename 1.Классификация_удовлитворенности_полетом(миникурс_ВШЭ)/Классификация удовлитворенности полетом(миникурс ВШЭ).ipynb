{
 "cells": [
  {
   "cell_type": "markdown",
   "metadata": {
    "id": "d04VdHY7jUnn"
   },
   "source": [
    "# Клиенты авиакомпании"
   ]
  },
  {
   "cell_type": "markdown",
   "metadata": {
    "id": "DxMCeYxukBKi"
   },
   "source": [
    "Датасет содержит информацию о клиентах некоторой авиакомпании. Моя цель построить модель, которая предсказывает остался ли клиент доволен полетом.\n",
    "\n",
    "Задачи проекта:\n",
    "- Предобработка данных\n",
    "- Обучение модели\n",
    "- Тестирование модели\n",
    "- Вывод\n",
    "\n"
   ]
  },
  {
   "cell_type": "markdown",
   "metadata": {
    "id": "lhA1Am55jZ3D"
   },
   "source": [
    "## Импорт библиотек, константы"
   ]
  },
  {
   "cell_type": "code",
   "execution_count": 1,
   "metadata": {
    "id": "HV1hv_cBi-zx"
   },
   "outputs": [],
   "source": [
    "import pickle\n",
    "import numpy as np\n",
    "import pandas as pd\n",
    "import seaborn as sns\n",
    "import matplotlib.pyplot as plt\n",
    "from sklearn.model_selection import train_test_split, GridSearchCV, RandomizedSearchCV\n",
    "from sklearn.metrics import  make_scorer, f1_score, precision_score, roc_auc_score, recall_score, roc_curve\n",
    "from sklearn.preprocessing import OrdinalEncoder, StandardScaler, OneHotEncoder\n",
    "from sklearn.linear_model import LogisticRegression\n",
    "from sklearn.ensemble import RandomForestClassifier\n",
    "from sklearn.pipeline import Pipeline\n",
    "from scipy.stats import uniform, randint\n",
    "from sklearn.dummy import DummyClassifier\n",
    "import lightgbm as lgb\n",
    "pd.set_option('display.max_columns', None)"
   ]
  },
  {
   "cell_type": "code",
   "execution_count": 2,
   "metadata": {
    "id": "IfM0ZXowjluS"
   },
   "outputs": [],
   "source": [
    "RANDOM_STATE = 42"
   ]
  },
  {
   "cell_type": "code",
   "execution_count": 3,
   "metadata": {
    "id": "otQxpwuxjoBA"
   },
   "outputs": [],
   "source": [
    "DATASET_PATH = \"https://raw.githubusercontent.com/evgpat/edu_stepik_from_idea_to_mvp/main/datasets/clients.csv\""
   ]
  },
  {
   "cell_type": "markdown",
   "metadata": {
    "id": "Fp7HfNokjzdr"
   },
   "source": [
    "## Загрузка и обзор данных"
   ]
  },
  {
   "cell_type": "markdown",
   "metadata": {
    "id": "voBVih6bkqoP"
   },
   "source": [
    "### Загрузка"
   ]
  },
  {
   "cell_type": "code",
   "execution_count": 4,
   "metadata": {
    "id": "akRLgc55jyGl"
   },
   "outputs": [],
   "source": [
    "# загрузка данных\n",
    "df = pd.read_csv(DATASET_PATH)"
   ]
  },
  {
   "cell_type": "markdown",
   "metadata": {
    "id": "mNHZ_G-tkb1e"
   },
   "source": [
    "### Описание данных"
   ]
  },
  {
   "cell_type": "markdown",
   "metadata": {
    "id": "3FxkHi2QkEPV"
   },
   "source": [
    "**Целевая переменная**\n",
    "- `satisfaction`: удовлетворенность клиента полетом, бинарная (*satisfied* или *neutral or dissatisfied*)\n",
    "\n",
    "**Признаки**\n",
    "- `Gender` (categorical: _Male_ или _Female_): пол клиента\n",
    "- `Age` (numeric, int): количество полных лет\n",
    "- `Customer Type` (categorical: _Loyal Customer_ или _disloyal Customer_): лоялен ли клиент авиакомпании?\n",
    "- `Type of Travel` (categorical: _Business travel_ или _Personal Travel_): тип поездки\n",
    "- `Class` (categorical: _Business_ или _Eco_, или _Eco Plus_): класс обслуживания в самолете\n",
    "- `Flight Distance` (numeric, int): дальность перелета (в милях)\n",
    "- `Departure Delay in Minutes` (numeric, int): задержка отправления (неотрицательная)\n",
    "- `Arrival Delay in Minutes` (numeric, int): задержка прибытия (неотрицательная)\n",
    "- `Inflight wifi service` (categorical, int): оценка клиентом интернета на борту\n",
    "- `Departure/Arrival time convenient` (categorical, int): оценка клиентом удобство времени прилета и вылета\n",
    "- `Ease of Online booking` (categorical, int): оценка клиентом удобства онлайн-бронирования\n",
    "- `Gate location` (categorical, int): оценка клиентом расположения выхода на посадку в аэропорту\n",
    "- `Food and drink` (categorical, int): оценка клиентом еды и напитков на борту\n",
    "- `Online boarding` (categorical, int): оценка клиентом выбора места в самолете\n",
    "- `Seat comfort` (categorical, int): оценка клиентом удобства сиденья\n",
    "- `Inflight entertainment` (categorical, int): оценка клиентом развлечений на борту\n",
    "- `On-board service` (categorical, int): оценка клиентом обслуживания на борту\n",
    "- `Leg room service` (categorical, int): оценка клиентом места в ногах на борту\n",
    "- `Baggage handling` (categorical, int): оценка клиентом обращения с багажом\n",
    "- `Checkin service` (categorical, int): оценка клиентом регистрации на рейс\n",
    "- `Inflight service` (categorical, int): оценка клиентом обслуживания на борту\n",
    "- `Cleanliness` (categorical, int): оценка клиентом чистоты на борту"
   ]
  },
  {
   "cell_type": "code",
   "execution_count": 5,
   "metadata": {
    "colab": {
     "base_uri": "https://localhost:8080/"
    },
    "id": "VterO9sXkWTi",
    "outputId": "cd62c2bc-512a-460b-be91-5512bf381180"
   },
   "outputs": [
    {
     "name": "stdout",
     "output_type": "stream",
     "text": [
      "<class 'pandas.core.frame.DataFrame'>\n",
      "RangeIndex: 129880 entries, 0 to 129879\n",
      "Data columns (total 24 columns):\n",
      " #   Column                             Non-Null Count   Dtype  \n",
      "---  ------                             --------------   -----  \n",
      " 0   id                                 129880 non-null  int64  \n",
      " 1   Gender                             129549 non-null  object \n",
      " 2   Age                                129564 non-null  float64\n",
      " 3   Customer Type                      129803 non-null  object \n",
      " 4   Type of Travel                     129779 non-null  object \n",
      " 5   Class                              129764 non-null  object \n",
      " 6   Flight Distance                    129786 non-null  float64\n",
      " 7   Departure Delay in Minutes         129773 non-null  float64\n",
      " 8   Arrival Delay in Minutes           129371 non-null  float64\n",
      " 9   Inflight wifi service              129835 non-null  float64\n",
      " 10  Departure/Arrival time convenient  129831 non-null  float64\n",
      " 11  Ease of Online booking             129837 non-null  float64\n",
      " 12  Gate location                      129842 non-null  float64\n",
      " 13  Food and drink                     129830 non-null  float64\n",
      " 14  Online boarding                    129834 non-null  float64\n",
      " 15  Seat comfort                       129832 non-null  float64\n",
      " 16  Inflight entertainment             129833 non-null  float64\n",
      " 17  On-board service                   129836 non-null  float64\n",
      " 18  Leg room service                   129834 non-null  float64\n",
      " 19  Baggage handling                   129832 non-null  float64\n",
      " 20  Checkin service                    129838 non-null  float64\n",
      " 21  Inflight service                   129817 non-null  float64\n",
      " 22  Cleanliness                        129843 non-null  float64\n",
      " 23  satisfaction                       129880 non-null  object \n",
      "dtypes: float64(18), int64(1), object(5)\n",
      "memory usage: 23.8+ MB\n"
     ]
    }
   ],
   "source": [
    "# информация от столбцах\n",
    "df.info()"
   ]
  },
  {
   "cell_type": "code",
   "execution_count": 6,
   "metadata": {
    "colab": {
     "base_uri": "https://localhost:8080/",
     "height": 372
    },
    "id": "RsDeQvZXmVpW",
    "outputId": "4b5e86df-fee1-44e3-9a1b-6e799a573ac3"
   },
   "outputs": [
    {
     "data": {
      "text/html": [
       "<div>\n",
       "<style scoped>\n",
       "    .dataframe tbody tr th:only-of-type {\n",
       "        vertical-align: middle;\n",
       "    }\n",
       "\n",
       "    .dataframe tbody tr th {\n",
       "        vertical-align: top;\n",
       "    }\n",
       "\n",
       "    .dataframe thead th {\n",
       "        text-align: right;\n",
       "    }\n",
       "</style>\n",
       "<table border=\"1\" class=\"dataframe\">\n",
       "  <thead>\n",
       "    <tr style=\"text-align: right;\">\n",
       "      <th></th>\n",
       "      <th>id</th>\n",
       "      <th>Gender</th>\n",
       "      <th>Age</th>\n",
       "      <th>Customer Type</th>\n",
       "      <th>Type of Travel</th>\n",
       "      <th>Class</th>\n",
       "      <th>Flight Distance</th>\n",
       "      <th>Departure Delay in Minutes</th>\n",
       "      <th>Arrival Delay in Minutes</th>\n",
       "      <th>Inflight wifi service</th>\n",
       "      <th>Departure/Arrival time convenient</th>\n",
       "      <th>Ease of Online booking</th>\n",
       "      <th>Gate location</th>\n",
       "      <th>Food and drink</th>\n",
       "      <th>Online boarding</th>\n",
       "      <th>Seat comfort</th>\n",
       "      <th>Inflight entertainment</th>\n",
       "      <th>On-board service</th>\n",
       "      <th>Leg room service</th>\n",
       "      <th>Baggage handling</th>\n",
       "      <th>Checkin service</th>\n",
       "      <th>Inflight service</th>\n",
       "      <th>Cleanliness</th>\n",
       "      <th>satisfaction</th>\n",
       "    </tr>\n",
       "  </thead>\n",
       "  <tbody>\n",
       "    <tr>\n",
       "      <th>0</th>\n",
       "      <td>1</td>\n",
       "      <td>Male</td>\n",
       "      <td>48.0</td>\n",
       "      <td>disloyal Customer</td>\n",
       "      <td>Business travel</td>\n",
       "      <td>Business</td>\n",
       "      <td>821.0</td>\n",
       "      <td>2.0</td>\n",
       "      <td>5.0</td>\n",
       "      <td>3.0</td>\n",
       "      <td>3.0</td>\n",
       "      <td>3.0</td>\n",
       "      <td>3.0</td>\n",
       "      <td>5.0</td>\n",
       "      <td>3.0</td>\n",
       "      <td>5.0</td>\n",
       "      <td>5.0</td>\n",
       "      <td>3.0</td>\n",
       "      <td>2.0</td>\n",
       "      <td>5.0</td>\n",
       "      <td>4.0</td>\n",
       "      <td>5.0</td>\n",
       "      <td>5.0</td>\n",
       "      <td>neutral or dissatisfied</td>\n",
       "    </tr>\n",
       "    <tr>\n",
       "      <th>1</th>\n",
       "      <td>2</td>\n",
       "      <td>Female</td>\n",
       "      <td>35.0</td>\n",
       "      <td>Loyal Customer</td>\n",
       "      <td>Business travel</td>\n",
       "      <td>Business</td>\n",
       "      <td>821.0</td>\n",
       "      <td>26.0</td>\n",
       "      <td>39.0</td>\n",
       "      <td>2.0</td>\n",
       "      <td>2.0</td>\n",
       "      <td>2.0</td>\n",
       "      <td>2.0</td>\n",
       "      <td>3.0</td>\n",
       "      <td>5.0</td>\n",
       "      <td>4.0</td>\n",
       "      <td>5.0</td>\n",
       "      <td>5.0</td>\n",
       "      <td>5.0</td>\n",
       "      <td>5.0</td>\n",
       "      <td>3.0</td>\n",
       "      <td>5.0</td>\n",
       "      <td>5.0</td>\n",
       "      <td>satisfied</td>\n",
       "    </tr>\n",
       "    <tr>\n",
       "      <th>2</th>\n",
       "      <td>3</td>\n",
       "      <td>Male</td>\n",
       "      <td>41.0</td>\n",
       "      <td>Loyal Customer</td>\n",
       "      <td>Business travel</td>\n",
       "      <td>Business</td>\n",
       "      <td>853.0</td>\n",
       "      <td>0.0</td>\n",
       "      <td>0.0</td>\n",
       "      <td>4.0</td>\n",
       "      <td>4.0</td>\n",
       "      <td>4.0</td>\n",
       "      <td>4.0</td>\n",
       "      <td>5.0</td>\n",
       "      <td>5.0</td>\n",
       "      <td>5.0</td>\n",
       "      <td>3.0</td>\n",
       "      <td>3.0</td>\n",
       "      <td>3.0</td>\n",
       "      <td>3.0</td>\n",
       "      <td>4.0</td>\n",
       "      <td>3.0</td>\n",
       "      <td>5.0</td>\n",
       "      <td>satisfied</td>\n",
       "    </tr>\n",
       "    <tr>\n",
       "      <th>3</th>\n",
       "      <td>4</td>\n",
       "      <td>Male</td>\n",
       "      <td>50.0</td>\n",
       "      <td>Loyal Customer</td>\n",
       "      <td>Business travel</td>\n",
       "      <td>Business</td>\n",
       "      <td>1905.0</td>\n",
       "      <td>0.0</td>\n",
       "      <td>0.0</td>\n",
       "      <td>2.0</td>\n",
       "      <td>2.0</td>\n",
       "      <td>2.0</td>\n",
       "      <td>2.0</td>\n",
       "      <td>4.0</td>\n",
       "      <td>4.0</td>\n",
       "      <td>5.0</td>\n",
       "      <td>5.0</td>\n",
       "      <td>5.0</td>\n",
       "      <td>5.0</td>\n",
       "      <td>5.0</td>\n",
       "      <td>3.0</td>\n",
       "      <td>5.0</td>\n",
       "      <td>4.0</td>\n",
       "      <td>satisfied</td>\n",
       "    </tr>\n",
       "    <tr>\n",
       "      <th>4</th>\n",
       "      <td>5</td>\n",
       "      <td>Female</td>\n",
       "      <td>49.0</td>\n",
       "      <td>Loyal Customer</td>\n",
       "      <td>Business travel</td>\n",
       "      <td>Business</td>\n",
       "      <td>3470.0</td>\n",
       "      <td>0.0</td>\n",
       "      <td>1.0</td>\n",
       "      <td>3.0</td>\n",
       "      <td>3.0</td>\n",
       "      <td>3.0</td>\n",
       "      <td>3.0</td>\n",
       "      <td>4.0</td>\n",
       "      <td>5.0</td>\n",
       "      <td>4.0</td>\n",
       "      <td>3.0</td>\n",
       "      <td>3.0</td>\n",
       "      <td>4.0</td>\n",
       "      <td>3.0</td>\n",
       "      <td>3.0</td>\n",
       "      <td>3.0</td>\n",
       "      <td>5.0</td>\n",
       "      <td>satisfied</td>\n",
       "    </tr>\n",
       "  </tbody>\n",
       "</table>\n",
       "</div>"
      ],
      "text/plain": [
       "   id  Gender   Age      Customer Type   Type of Travel     Class  \\\n",
       "0   1    Male  48.0  disloyal Customer  Business travel  Business   \n",
       "1   2  Female  35.0     Loyal Customer  Business travel  Business   \n",
       "2   3    Male  41.0     Loyal Customer  Business travel  Business   \n",
       "3   4    Male  50.0     Loyal Customer  Business travel  Business   \n",
       "4   5  Female  49.0     Loyal Customer  Business travel  Business   \n",
       "\n",
       "   Flight Distance  Departure Delay in Minutes  Arrival Delay in Minutes  \\\n",
       "0            821.0                         2.0                       5.0   \n",
       "1            821.0                        26.0                      39.0   \n",
       "2            853.0                         0.0                       0.0   \n",
       "3           1905.0                         0.0                       0.0   \n",
       "4           3470.0                         0.0                       1.0   \n",
       "\n",
       "   Inflight wifi service  Departure/Arrival time convenient  \\\n",
       "0                    3.0                                3.0   \n",
       "1                    2.0                                2.0   \n",
       "2                    4.0                                4.0   \n",
       "3                    2.0                                2.0   \n",
       "4                    3.0                                3.0   \n",
       "\n",
       "   Ease of Online booking  Gate location  Food and drink  Online boarding  \\\n",
       "0                     3.0            3.0             5.0              3.0   \n",
       "1                     2.0            2.0             3.0              5.0   \n",
       "2                     4.0            4.0             5.0              5.0   \n",
       "3                     2.0            2.0             4.0              4.0   \n",
       "4                     3.0            3.0             4.0              5.0   \n",
       "\n",
       "   Seat comfort  Inflight entertainment  On-board service  Leg room service  \\\n",
       "0           5.0                     5.0               3.0               2.0   \n",
       "1           4.0                     5.0               5.0               5.0   \n",
       "2           5.0                     3.0               3.0               3.0   \n",
       "3           5.0                     5.0               5.0               5.0   \n",
       "4           4.0                     3.0               3.0               4.0   \n",
       "\n",
       "   Baggage handling  Checkin service  Inflight service  Cleanliness  \\\n",
       "0               5.0              4.0               5.0          5.0   \n",
       "1               5.0              3.0               5.0          5.0   \n",
       "2               3.0              4.0               3.0          5.0   \n",
       "3               5.0              3.0               5.0          4.0   \n",
       "4               3.0              3.0               3.0          5.0   \n",
       "\n",
       "              satisfaction  \n",
       "0  neutral or dissatisfied  \n",
       "1                satisfied  \n",
       "2                satisfied  \n",
       "3                satisfied  \n",
       "4                satisfied  "
      ]
     },
     "execution_count": 6,
     "metadata": {},
     "output_type": "execute_result"
    }
   ],
   "source": [
    "\n",
    "df.head()"
   ]
  },
  {
   "cell_type": "markdown",
   "metadata": {
    "id": "fqYq9tpLi7C3"
   },
   "source": [
    "# Предобработка данных"
   ]
  },
  {
   "cell_type": "code",
   "execution_count": 7,
   "metadata": {
    "id": "7yBfA6q-klq7"
   },
   "outputs": [],
   "source": [
    "df.columns = ['id', 'gender', 'age', 'customer_type', 'type_of_travel', 'class', 'flight_distance', 'departure_delay_in_minutes',\n",
    "               'arrival_delay_in_minutes', 'inflight_wifi_service', 'departure_arrival_time_convenient', 'ease_of_online_booking', 'gate_location',\n",
    "               'food_and_drink', 'online_boarding', 'seat_comfort', 'inflight_entertainment', 'on_board_service', 'leg_room_service',\n",
    "               'baggage_handling', 'checkin_service', 'inflight_service', 'cleanliness', 'satisfaction']"
   ]
  },
  {
   "cell_type": "code",
   "execution_count": 8,
   "metadata": {
    "colab": {
     "base_uri": "https://localhost:8080/",
     "height": 793
    },
    "id": "tmx-a4g39hi6",
    "outputId": "4e6a2f3c-24da-4a32-8114-096fc46f6898"
   },
   "outputs": [
    {
     "data": {
      "image/png": "[encoded data removed]",
      "text/plain": [
       "<Figure size 800x600 with 1 Axes>"
      ]
     },
     "metadata": {},
     "output_type": "display_data"
    }
   ],
   "source": [
    "miss = df.isnull().sum()\n",
    "\n",
    "\n",
    "miss_filtered = miss[miss != 0]\n",
    "\n",
    "plt.figure(figsize=(8, 6))\n",
    "plt.bar(miss_filtered.index, miss_filtered.values)\n",
    "plt.title('Количество пропусков по столбцам')\n",
    "plt.xlabel('Столбцы')\n",
    "plt.ylabel('Количество пропусков')\n",
    "\n",
    "plt.xticks(rotation=90)\n",
    "\n",
    "plt.show()"
   ]
  },
  {
   "cell_type": "code",
   "execution_count": 9,
   "metadata": {
    "colab": {
     "base_uri": "https://localhost:8080/",
     "height": 364
    },
    "id": "S-uoDpGYeF2K",
    "outputId": "39145550-ce9d-4519-fe46-d4cdf9425739"
   },
   "outputs": [
    {
     "data": {
      "text/html": [
       "<div>\n",
       "<style scoped>\n",
       "    .dataframe tbody tr th:only-of-type {\n",
       "        vertical-align: middle;\n",
       "    }\n",
       "\n",
       "    .dataframe tbody tr th {\n",
       "        vertical-align: top;\n",
       "    }\n",
       "\n",
       "    .dataframe thead th {\n",
       "        text-align: right;\n",
       "    }\n",
       "</style>\n",
       "<table border=\"1\" class=\"dataframe\">\n",
       "  <thead>\n",
       "    <tr style=\"text-align: right;\">\n",
       "      <th></th>\n",
       "      <th>inflight_wifi_service</th>\n",
       "      <th>departure_arrival_time_convenient</th>\n",
       "      <th>ease_of_online_booking</th>\n",
       "      <th>gate_location</th>\n",
       "      <th>food_and_drink</th>\n",
       "      <th>online_boarding</th>\n",
       "      <th>seat_comfort</th>\n",
       "      <th>inflight_entertainment</th>\n",
       "      <th>on_board_service</th>\n",
       "      <th>leg_room_service</th>\n",
       "      <th>baggage_handling</th>\n",
       "      <th>checkin_service</th>\n",
       "      <th>inflight_service</th>\n",
       "      <th>cleanliness</th>\n",
       "    </tr>\n",
       "  </thead>\n",
       "  <tbody>\n",
       "    <tr>\n",
       "      <th>count</th>\n",
       "      <td>129835.000000</td>\n",
       "      <td>129831.000000</td>\n",
       "      <td>129837.000000</td>\n",
       "      <td>129842.000000</td>\n",
       "      <td>129830.000000</td>\n",
       "      <td>129834.000000</td>\n",
       "      <td>129832.000000</td>\n",
       "      <td>129833.000000</td>\n",
       "      <td>129836.000000</td>\n",
       "      <td>129834.000000</td>\n",
       "      <td>129832.000000</td>\n",
       "      <td>129838.000000</td>\n",
       "      <td>129817.00000</td>\n",
       "      <td>129843.000000</td>\n",
       "    </tr>\n",
       "    <tr>\n",
       "      <th>mean</th>\n",
       "      <td>2.732183</td>\n",
       "      <td>3.061857</td>\n",
       "      <td>2.760523</td>\n",
       "      <td>2.981424</td>\n",
       "      <td>3.208349</td>\n",
       "      <td>3.256674</td>\n",
       "      <td>3.445691</td>\n",
       "      <td>3.361395</td>\n",
       "      <td>3.387181</td>\n",
       "      <td>3.356101</td>\n",
       "      <td>3.636107</td>\n",
       "      <td>3.310056</td>\n",
       "      <td>3.64718</td>\n",
       "      <td>3.289865</td>\n",
       "    </tr>\n",
       "    <tr>\n",
       "      <th>std</th>\n",
       "      <td>1.359786</td>\n",
       "      <td>1.559323</td>\n",
       "      <td>1.430800</td>\n",
       "      <td>1.312628</td>\n",
       "      <td>1.357649</td>\n",
       "      <td>1.381889</td>\n",
       "      <td>1.349732</td>\n",
       "      <td>1.366866</td>\n",
       "      <td>1.335540</td>\n",
       "      <td>1.361633</td>\n",
       "      <td>1.221818</td>\n",
       "      <td>1.298626</td>\n",
       "      <td>1.21837</td>\n",
       "      <td>1.347625</td>\n",
       "    </tr>\n",
       "    <tr>\n",
       "      <th>min</th>\n",
       "      <td>0.000000</td>\n",
       "      <td>0.000000</td>\n",
       "      <td>0.000000</td>\n",
       "      <td>0.000000</td>\n",
       "      <td>0.000000</td>\n",
       "      <td>0.000000</td>\n",
       "      <td>0.000000</td>\n",
       "      <td>0.000000</td>\n",
       "      <td>0.000000</td>\n",
       "      <td>0.000000</td>\n",
       "      <td>0.000000</td>\n",
       "      <td>0.000000</td>\n",
       "      <td>0.00000</td>\n",
       "      <td>0.000000</td>\n",
       "    </tr>\n",
       "    <tr>\n",
       "      <th>25%</th>\n",
       "      <td>2.000000</td>\n",
       "      <td>2.000000</td>\n",
       "      <td>2.000000</td>\n",
       "      <td>2.000000</td>\n",
       "      <td>2.000000</td>\n",
       "      <td>2.000000</td>\n",
       "      <td>2.000000</td>\n",
       "      <td>2.000000</td>\n",
       "      <td>2.000000</td>\n",
       "      <td>2.000000</td>\n",
       "      <td>3.000000</td>\n",
       "      <td>3.000000</td>\n",
       "      <td>3.00000</td>\n",
       "      <td>2.000000</td>\n",
       "    </tr>\n",
       "    <tr>\n",
       "      <th>50%</th>\n",
       "      <td>3.000000</td>\n",
       "      <td>3.000000</td>\n",
       "      <td>3.000000</td>\n",
       "      <td>3.000000</td>\n",
       "      <td>3.000000</td>\n",
       "      <td>3.000000</td>\n",
       "      <td>4.000000</td>\n",
       "      <td>4.000000</td>\n",
       "      <td>4.000000</td>\n",
       "      <td>4.000000</td>\n",
       "      <td>4.000000</td>\n",
       "      <td>3.000000</td>\n",
       "      <td>4.00000</td>\n",
       "      <td>3.000000</td>\n",
       "    </tr>\n",
       "    <tr>\n",
       "      <th>75%</th>\n",
       "      <td>4.000000</td>\n",
       "      <td>4.000000</td>\n",
       "      <td>4.000000</td>\n",
       "      <td>4.000000</td>\n",
       "      <td>4.000000</td>\n",
       "      <td>4.000000</td>\n",
       "      <td>5.000000</td>\n",
       "      <td>4.000000</td>\n",
       "      <td>4.000000</td>\n",
       "      <td>4.000000</td>\n",
       "      <td>5.000000</td>\n",
       "      <td>4.000000</td>\n",
       "      <td>5.00000</td>\n",
       "      <td>4.000000</td>\n",
       "    </tr>\n",
       "    <tr>\n",
       "      <th>max</th>\n",
       "      <td>45.000000</td>\n",
       "      <td>45.000000</td>\n",
       "      <td>45.000000</td>\n",
       "      <td>36.000000</td>\n",
       "      <td>45.000000</td>\n",
       "      <td>40.000000</td>\n",
       "      <td>45.000000</td>\n",
       "      <td>45.000000</td>\n",
       "      <td>45.000000</td>\n",
       "      <td>40.000000</td>\n",
       "      <td>40.000000</td>\n",
       "      <td>45.000000</td>\n",
       "      <td>40.00000</td>\n",
       "      <td>45.000000</td>\n",
       "    </tr>\n",
       "  </tbody>\n",
       "</table>\n",
       "</div>"
      ],
      "text/plain": [
       "       inflight_wifi_service  departure_arrival_time_convenient  \\\n",
       "count          129835.000000                      129831.000000   \n",
       "mean                2.732183                           3.061857   \n",
       "std                 1.359786                           1.559323   \n",
       "min                 0.000000                           0.000000   \n",
       "25%                 2.000000                           2.000000   \n",
       "50%                 3.000000                           3.000000   \n",
       "75%                 4.000000                           4.000000   \n",
       "max                45.000000                          45.000000   \n",
       "\n",
       "       ease_of_online_booking  gate_location  food_and_drink  online_boarding  \\\n",
       "count           129837.000000  129842.000000   129830.000000    129834.000000   \n",
       "mean                 2.760523       2.981424        3.208349         3.256674   \n",
       "std                  1.430800       1.312628        1.357649         1.381889   \n",
       "min                  0.000000       0.000000        0.000000         0.000000   \n",
       "25%                  2.000000       2.000000        2.000000         2.000000   \n",
       "50%                  3.000000       3.000000        3.000000         3.000000   \n",
       "75%                  4.000000       4.000000        4.000000         4.000000   \n",
       "max                 45.000000      36.000000       45.000000        40.000000   \n",
       "\n",
       "        seat_comfort  inflight_entertainment  on_board_service  \\\n",
       "count  129832.000000           129833.000000     129836.000000   \n",
       "mean        3.445691                3.361395          3.387181   \n",
       "std         1.349732                1.366866          1.335540   \n",
       "min         0.000000                0.000000          0.000000   \n",
       "25%         2.000000                2.000000          2.000000   \n",
       "50%         4.000000                4.000000          4.000000   \n",
       "75%         5.000000                4.000000          4.000000   \n",
       "max        45.000000               45.000000         45.000000   \n",
       "\n",
       "       leg_room_service  baggage_handling  checkin_service  inflight_service  \\\n",
       "count     129834.000000     129832.000000    129838.000000      129817.00000   \n",
       "mean           3.356101          3.636107         3.310056           3.64718   \n",
       "std            1.361633          1.221818         1.298626           1.21837   \n",
       "min            0.000000          0.000000         0.000000           0.00000   \n",
       "25%            2.000000          3.000000         3.000000           3.00000   \n",
       "50%            4.000000          4.000000         3.000000           4.00000   \n",
       "75%            4.000000          5.000000         4.000000           5.00000   \n",
       "max           40.000000         40.000000        45.000000          40.00000   \n",
       "\n",
       "         cleanliness  \n",
       "count  129843.000000  \n",
       "mean        3.289865  \n",
       "std         1.347625  \n",
       "min         0.000000  \n",
       "25%         2.000000  \n",
       "50%         3.000000  \n",
       "75%         4.000000  \n",
       "max        45.000000  "
      ]
     },
     "execution_count": 9,
     "metadata": {},
     "output_type": "execute_result"
    }
   ],
   "source": [
    "df[['inflight_wifi_service', 'departure_arrival_time_convenient', 'ease_of_online_booking', 'gate_location',\n",
    "   'food_and_drink', 'online_boarding', 'seat_comfort', 'inflight_entertainment', 'on_board_service', 'leg_room_service',\n",
    "   'baggage_handling', 'checkin_service', 'inflight_service', 'cleanliness']].describe()"
   ]
  },
  {
   "cell_type": "markdown",
   "metadata": {
    "id": "hEAX-qPNCfKi"
   },
   "source": [
    "Пропуски есть, перед заполнением пропусков стоит очистить датафрейм от аномалий."
   ]
  },
  {
   "cell_type": "code",
   "execution_count": 10,
   "metadata": {
    "colab": {
     "base_uri": "https://localhost:8080/",
     "height": 564
    },
    "id": "1-dU1mE3C1sy",
    "outputId": "c74d72f4-1bb9-40c7-d1aa-ff06344f8e63"
   },
   "outputs": [
    {
     "data": {
      "image/png": "[encoded data removed]",
      "text/plain": [
       "<Figure size 800x600 with 1 Axes>"
      ]
     },
     "metadata": {},
     "output_type": "display_data"
    }
   ],
   "source": [
    "plt.figure(figsize=(8, 6))\n",
    "\n",
    "sns.boxplot(data=df[['inflight_wifi_service', 'departure_arrival_time_convenient', 'ease_of_online_booking', 'gate_location',\n",
    "   'food_and_drink', 'online_boarding', 'seat_comfort', 'inflight_entertainment', 'on_board_service', 'leg_room_service',\n",
    "   'baggage_handling', 'checkin_service', 'inflight_service', 'cleanliness']], palette='Set3', orient='h')\n",
    "\n",
    "plt.title('Boxplot оценок по столбцам')\n",
    "plt.xlabel('Значения')\n",
    "plt.ylabel('Столбцы')\n",
    "\n",
    "plt.show()"
   ]
  },
  {
   "cell_type": "code",
   "execution_count": 11,
   "metadata": {
    "colab": {
     "base_uri": "https://localhost:8080/"
    },
    "id": "5HsBte68rc_X",
    "outputId": "aba0ad3d-7fbd-4386-c706-1c7a8979ff01"
   },
   "outputs": [
    {
     "data": {
      "text/plain": [
       "inflight_wifi_service\n",
       "0.0      3918\n",
       "1.0     22318\n",
       "2.0     32306\n",
       "3.0     32156\n",
       "4.0     24758\n",
       "5.0     14345\n",
       "6.0         7\n",
       "7.0         3\n",
       "8.0         1\n",
       "10.0        1\n",
       "12.0        3\n",
       "15.0        1\n",
       "16.0        3\n",
       "18.0        1\n",
       "20.0        2\n",
       "21.0        4\n",
       "24.0        2\n",
       "25.0        1\n",
       "28.0        1\n",
       "30.0        1\n",
       "40.0        2\n",
       "45.0        1\n",
       "Name: inflight_wifi_service, dtype: int64"
      ]
     },
     "execution_count": 11,
     "metadata": {},
     "output_type": "execute_result"
    }
   ],
   "source": [
    " df.groupby('inflight_wifi_service')['inflight_wifi_service'].count()"
   ]
  },
  {
   "cell_type": "code",
   "execution_count": 12,
   "metadata": {
    "colab": {
     "base_uri": "https://localhost:8080/"
    },
    "id": "hb0wY-_XBE5i",
    "outputId": "86430582-61b8-4481-8fe8-e5fe3d970dc5"
   },
   "outputs": [
    {
     "data": {
      "text/plain": [
       "45"
      ]
     },
     "execution_count": 12,
     "metadata": {},
     "output_type": "execute_result"
    }
   ],
   "source": [
    "df['inflight_wifi_service'].isnull().sum()"
   ]
  },
  {
   "cell_type": "markdown",
   "metadata": {
    "id": "6mTQeJ6O0sW9"
   },
   "source": [
    "Присутствуют выбросы. Шкала оценок должна быть от 1 до 5 включительно. Числа, кратные 10 я разделю на 10, пропуски и 0 заполню округленным средним."
   ]
  },
  {
   "cell_type": "code",
   "execution_count": 13,
   "metadata": {
    "id": "edL3oAuO1YOZ"
   },
   "outputs": [],
   "source": [
    "def anomalies(col, df):\n",
    "    df.loc[(df[col] % 10 == 0), col] = df[col] / 10\n",
    "    df.loc[df[col] == 0, col] = np.nan\n",
    "    df = df[df[col].isnull() | df[col].between(1, 5)]\n",
    "    df.loc[df[col].isnull(), col] = round(df[col].mean())\n",
    "    return df\n",
    "\n",
    "columns = ['inflight_wifi_service', 'departure_arrival_time_convenient', 'ease_of_online_booking', 'gate_location',\n",
    "   'food_and_drink', 'online_boarding', 'seat_comfort', 'inflight_entertainment', 'on_board_service', 'leg_room_service',\n",
    "   'baggage_handling', 'checkin_service', 'inflight_service', 'cleanliness']\n",
    "\n",
    "for col in columns:\n",
    "    df = anomalies(col, df)\n"
   ]
  },
  {
   "cell_type": "code",
   "execution_count": 14,
   "metadata": {
    "colab": {
     "base_uri": "https://localhost:8080/"
    },
    "id": "5rWBdJxIBfJE",
    "outputId": "6c074e56-5b25-47a1-abb5-5f7b21ce59ac"
   },
   "outputs": [
    {
     "name": "stdout",
     "output_type": "stream",
     "text": [
      "<class 'pandas.core.frame.DataFrame'>\n",
      "Int64Index: 129488 entries, 0 to 129879\n",
      "Data columns (total 24 columns):\n",
      " #   Column                             Non-Null Count   Dtype  \n",
      "---  ------                             --------------   -----  \n",
      " 0   id                                 129488 non-null  int64  \n",
      " 1   gender                             129157 non-null  object \n",
      " 2   age                                129173 non-null  float64\n",
      " 3   customer_type                      129411 non-null  object \n",
      " 4   type_of_travel                     129387 non-null  object \n",
      " 5   class                              129372 non-null  object \n",
      " 6   flight_distance                    129394 non-null  float64\n",
      " 7   departure_delay_in_minutes         129382 non-null  float64\n",
      " 8   arrival_delay_in_minutes           128980 non-null  float64\n",
      " 9   inflight_wifi_service              129488 non-null  float64\n",
      " 10  departure_arrival_time_convenient  129488 non-null  float64\n",
      " 11  ease_of_online_booking             129488 non-null  float64\n",
      " 12  gate_location                      129488 non-null  float64\n",
      " 13  food_and_drink                     129488 non-null  float64\n",
      " 14  online_boarding                    129488 non-null  float64\n",
      " 15  seat_comfort                       129488 non-null  float64\n",
      " 16  inflight_entertainment             129488 non-null  float64\n",
      " 17  on_board_service                   129488 non-null  float64\n",
      " 18  leg_room_service                   129488 non-null  float64\n",
      " 19  baggage_handling                   129488 non-null  float64\n",
      " 20  checkin_service                    129488 non-null  float64\n",
      " 21  inflight_service                   129488 non-null  float64\n",
      " 22  cleanliness                        129488 non-null  float64\n",
      " 23  satisfaction                       129488 non-null  object \n",
      "dtypes: float64(18), int64(1), object(5)\n",
      "memory usage: 24.7+ MB\n"
     ]
    }
   ],
   "source": [
    "df.info()"
   ]
  },
  {
   "cell_type": "code",
   "execution_count": 15,
   "metadata": {
    "colab": {
     "base_uri": "https://localhost:8080/",
     "height": 364
    },
    "id": "_b1NXleZcJY6",
    "outputId": "a351467a-4f4e-4042-a56f-b345fc62f878"
   },
   "outputs": [
    {
     "data": {
      "text/html": [
       "<div>\n",
       "<style scoped>\n",
       "    .dataframe tbody tr th:only-of-type {\n",
       "        vertical-align: middle;\n",
       "    }\n",
       "\n",
       "    .dataframe tbody tr th {\n",
       "        vertical-align: top;\n",
       "    }\n",
       "\n",
       "    .dataframe thead th {\n",
       "        text-align: right;\n",
       "    }\n",
       "</style>\n",
       "<table border=\"1\" class=\"dataframe\">\n",
       "  <thead>\n",
       "    <tr style=\"text-align: right;\">\n",
       "      <th></th>\n",
       "      <th>inflight_wifi_service</th>\n",
       "      <th>departure_arrival_time_convenient</th>\n",
       "      <th>ease_of_online_booking</th>\n",
       "      <th>gate_location</th>\n",
       "      <th>food_and_drink</th>\n",
       "      <th>online_boarding</th>\n",
       "      <th>seat_comfort</th>\n",
       "      <th>inflight_entertainment</th>\n",
       "      <th>on_board_service</th>\n",
       "      <th>leg_room_service</th>\n",
       "      <th>baggage_handling</th>\n",
       "      <th>checkin_service</th>\n",
       "      <th>inflight_service</th>\n",
       "      <th>cleanliness</th>\n",
       "    </tr>\n",
       "  </thead>\n",
       "  <tbody>\n",
       "    <tr>\n",
       "      <th>count</th>\n",
       "      <td>129488.000000</td>\n",
       "      <td>129488.000000</td>\n",
       "      <td>129488.000000</td>\n",
       "      <td>129488.000000</td>\n",
       "      <td>129488.000000</td>\n",
       "      <td>129488.000000</td>\n",
       "      <td>129488.000000</td>\n",
       "      <td>129488.000000</td>\n",
       "      <td>129488.000000</td>\n",
       "      <td>129488.000000</td>\n",
       "      <td>129488.000000</td>\n",
       "      <td>129488.000000</td>\n",
       "      <td>129488.000000</td>\n",
       "      <td>129488.000000</td>\n",
       "    </tr>\n",
       "    <tr>\n",
       "      <th>mean</th>\n",
       "      <td>2.818709</td>\n",
       "      <td>3.211348</td>\n",
       "      <td>2.887966</td>\n",
       "      <td>2.976863</td>\n",
       "      <td>3.207942</td>\n",
       "      <td>3.323644</td>\n",
       "      <td>3.441284</td>\n",
       "      <td>3.358450</td>\n",
       "      <td>3.382669</td>\n",
       "      <td>3.364242</td>\n",
       "      <td>3.632267</td>\n",
       "      <td>3.306082</td>\n",
       "      <td>3.642693</td>\n",
       "      <td>3.286745</td>\n",
       "    </tr>\n",
       "    <tr>\n",
       "      <th>std</th>\n",
       "      <td>1.239620</td>\n",
       "      <td>1.351101</td>\n",
       "      <td>1.271763</td>\n",
       "      <td>1.278343</td>\n",
       "      <td>1.325788</td>\n",
       "      <td>1.252781</td>\n",
       "      <td>1.319062</td>\n",
       "      <td>1.333358</td>\n",
       "      <td>1.286961</td>\n",
       "      <td>1.296432</td>\n",
       "      <td>1.179859</td>\n",
       "      <td>1.265959</td>\n",
       "      <td>1.176250</td>\n",
       "      <td>1.313005</td>\n",
       "    </tr>\n",
       "    <tr>\n",
       "      <th>min</th>\n",
       "      <td>1.000000</td>\n",
       "      <td>1.000000</td>\n",
       "      <td>1.000000</td>\n",
       "      <td>1.000000</td>\n",
       "      <td>1.000000</td>\n",
       "      <td>1.000000</td>\n",
       "      <td>1.000000</td>\n",
       "      <td>1.000000</td>\n",
       "      <td>1.000000</td>\n",
       "      <td>1.000000</td>\n",
       "      <td>1.000000</td>\n",
       "      <td>1.000000</td>\n",
       "      <td>1.000000</td>\n",
       "      <td>1.000000</td>\n",
       "    </tr>\n",
       "    <tr>\n",
       "      <th>25%</th>\n",
       "      <td>2.000000</td>\n",
       "      <td>2.000000</td>\n",
       "      <td>2.000000</td>\n",
       "      <td>2.000000</td>\n",
       "      <td>2.000000</td>\n",
       "      <td>2.000000</td>\n",
       "      <td>2.000000</td>\n",
       "      <td>2.000000</td>\n",
       "      <td>2.000000</td>\n",
       "      <td>2.000000</td>\n",
       "      <td>3.000000</td>\n",
       "      <td>3.000000</td>\n",
       "      <td>3.000000</td>\n",
       "      <td>2.000000</td>\n",
       "    </tr>\n",
       "    <tr>\n",
       "      <th>50%</th>\n",
       "      <td>3.000000</td>\n",
       "      <td>3.000000</td>\n",
       "      <td>3.000000</td>\n",
       "      <td>3.000000</td>\n",
       "      <td>3.000000</td>\n",
       "      <td>3.000000</td>\n",
       "      <td>4.000000</td>\n",
       "      <td>4.000000</td>\n",
       "      <td>4.000000</td>\n",
       "      <td>4.000000</td>\n",
       "      <td>4.000000</td>\n",
       "      <td>3.000000</td>\n",
       "      <td>4.000000</td>\n",
       "      <td>3.000000</td>\n",
       "    </tr>\n",
       "    <tr>\n",
       "      <th>75%</th>\n",
       "      <td>4.000000</td>\n",
       "      <td>4.000000</td>\n",
       "      <td>4.000000</td>\n",
       "      <td>4.000000</td>\n",
       "      <td>4.000000</td>\n",
       "      <td>4.000000</td>\n",
       "      <td>5.000000</td>\n",
       "      <td>4.000000</td>\n",
       "      <td>4.000000</td>\n",
       "      <td>4.000000</td>\n",
       "      <td>5.000000</td>\n",
       "      <td>4.000000</td>\n",
       "      <td>5.000000</td>\n",
       "      <td>4.000000</td>\n",
       "    </tr>\n",
       "    <tr>\n",
       "      <th>max</th>\n",
       "      <td>5.000000</td>\n",
       "      <td>5.000000</td>\n",
       "      <td>5.000000</td>\n",
       "      <td>5.000000</td>\n",
       "      <td>5.000000</td>\n",
       "      <td>5.000000</td>\n",
       "      <td>5.000000</td>\n",
       "      <td>5.000000</td>\n",
       "      <td>5.000000</td>\n",
       "      <td>5.000000</td>\n",
       "      <td>5.000000</td>\n",
       "      <td>5.000000</td>\n",
       "      <td>5.000000</td>\n",
       "      <td>5.000000</td>\n",
       "    </tr>\n",
       "  </tbody>\n",
       "</table>\n",
       "</div>"
      ],
      "text/plain": [
       "       inflight_wifi_service  departure_arrival_time_convenient  \\\n",
       "count          129488.000000                      129488.000000   \n",
       "mean                2.818709                           3.211348   \n",
       "std                 1.239620                           1.351101   \n",
       "min                 1.000000                           1.000000   \n",
       "25%                 2.000000                           2.000000   \n",
       "50%                 3.000000                           3.000000   \n",
       "75%                 4.000000                           4.000000   \n",
       "max                 5.000000                           5.000000   \n",
       "\n",
       "       ease_of_online_booking  gate_location  food_and_drink  online_boarding  \\\n",
       "count           129488.000000  129488.000000   129488.000000    129488.000000   \n",
       "mean                 2.887966       2.976863        3.207942         3.323644   \n",
       "std                  1.271763       1.278343        1.325788         1.252781   \n",
       "min                  1.000000       1.000000        1.000000         1.000000   \n",
       "25%                  2.000000       2.000000        2.000000         2.000000   \n",
       "50%                  3.000000       3.000000        3.000000         3.000000   \n",
       "75%                  4.000000       4.000000        4.000000         4.000000   \n",
       "max                  5.000000       5.000000        5.000000         5.000000   \n",
       "\n",
       "        seat_comfort  inflight_entertainment  on_board_service  \\\n",
       "count  129488.000000           129488.000000     129488.000000   \n",
       "mean        3.441284                3.358450          3.382669   \n",
       "std         1.319062                1.333358          1.286961   \n",
       "min         1.000000                1.000000          1.000000   \n",
       "25%         2.000000                2.000000          2.000000   \n",
       "50%         4.000000                4.000000          4.000000   \n",
       "75%         5.000000                4.000000          4.000000   \n",
       "max         5.000000                5.000000          5.000000   \n",
       "\n",
       "       leg_room_service  baggage_handling  checkin_service  inflight_service  \\\n",
       "count     129488.000000     129488.000000    129488.000000     129488.000000   \n",
       "mean           3.364242          3.632267         3.306082          3.642693   \n",
       "std            1.296432          1.179859         1.265959          1.176250   \n",
       "min            1.000000          1.000000         1.000000          1.000000   \n",
       "25%            2.000000          3.000000         3.000000          3.000000   \n",
       "50%            4.000000          4.000000         3.000000          4.000000   \n",
       "75%            4.000000          5.000000         4.000000          5.000000   \n",
       "max            5.000000          5.000000         5.000000          5.000000   \n",
       "\n",
       "         cleanliness  \n",
       "count  129488.000000  \n",
       "mean        3.286745  \n",
       "std         1.313005  \n",
       "min         1.000000  \n",
       "25%         2.000000  \n",
       "50%         3.000000  \n",
       "75%         4.000000  \n",
       "max         5.000000  "
      ]
     },
     "execution_count": 15,
     "metadata": {},
     "output_type": "execute_result"
    }
   ],
   "source": [
    "df[['inflight_wifi_service', 'departure_arrival_time_convenient', 'ease_of_online_booking', 'gate_location',\n",
    "   'food_and_drink', 'online_boarding', 'seat_comfort', 'inflight_entertainment', 'on_board_service', 'leg_room_service',\n",
    "   'baggage_handling', 'checkin_service', 'inflight_service', 'cleanliness']].describe()"
   ]
  },
  {
   "cell_type": "code",
   "execution_count": 16,
   "metadata": {
    "colab": {
     "base_uri": "https://localhost:8080/",
     "height": 452
    },
    "id": "OoLHEIgf9WA4",
    "outputId": "c2f7d9da-735f-47b8-dff6-a5903627ce21"
   },
   "outputs": [
    {
     "data": {
      "image/png": "[encoded data removed]",
      "text/plain": [
       "<Figure size 640x480 with 1 Axes>"
      ]
     },
     "metadata": {},
     "output_type": "display_data"
    }
   ],
   "source": [
    "sns.boxplot(data=df['age'], palette='Set1')\n",
    "\n",
    "plt.title('Boxplot возраст')\n",
    "\n",
    "plt.ylabel('значения')\n",
    "\n",
    "plt.show()"
   ]
  },
  {
   "cell_type": "code",
   "execution_count": 17,
   "metadata": {
    "colab": {
     "base_uri": "https://localhost:8080/"
    },
    "id": "JQh9q-X--hXq",
    "outputId": "ab2e3a77-d9b4-4862-b1a5-90e8b4eadfd5"
   },
   "outputs": [
    {
     "data": {
      "text/plain": [
       "count    129173.000000\n",
       "mean         40.114234\n",
       "std          20.379162\n",
       "min           0.000000\n",
       "25%          27.000000\n",
       "50%          40.000000\n",
       "75%          51.000000\n",
       "max         621.000000\n",
       "Name: age, dtype: float64"
      ]
     },
     "execution_count": 17,
     "metadata": {},
     "output_type": "execute_result"
    }
   ],
   "source": [
    "df['age'].describe()\n"
   ]
  },
  {
   "cell_type": "code",
   "execution_count": 18,
   "metadata": {
    "id": "zUX4wWSB-yBq"
   },
   "outputs": [],
   "source": [
    "df = df[(df['age']>11) &(df['age']<86)]"
   ]
  },
  {
   "cell_type": "code",
   "execution_count": 19,
   "metadata": {
    "colab": {
     "base_uri": "https://localhost:8080/",
     "height": 452
    },
    "id": "2uwpowT0_0cO",
    "outputId": "fa573008-7ec2-47e8-82f7-93ca45199dee"
   },
   "outputs": [
    {
     "data": {
      "image/png": "[encoded data removed]",
      "text/plain": [
       "<Figure size 640x480 with 1 Axes>"
      ]
     },
     "metadata": {},
     "output_type": "display_data"
    }
   ],
   "source": [
    "sns.boxplot(data=df['age'], palette='Set1')\n",
    "\n",
    "plt.title('Boxplot возраст')\n",
    "\n",
    "plt.ylabel('значения')\n",
    "\n",
    "plt.show()"
   ]
  },
  {
   "cell_type": "code",
   "execution_count": 20,
   "metadata": {
    "colab": {
     "base_uri": "https://localhost:8080/"
    },
    "id": "j9WpYlFy_1d6",
    "outputId": "bab4ce13-e08b-4796-fffd-1e620cf1c857"
   },
   "outputs": [
    {
     "data": {
      "text/plain": [
       "count    124712.000000\n",
       "mean         40.400138\n",
       "std          14.354006\n",
       "min          12.000000\n",
       "25%          28.000000\n",
       "50%          40.000000\n",
       "75%          51.000000\n",
       "max          85.000000\n",
       "Name: age, dtype: float64"
      ]
     },
     "execution_count": 20,
     "metadata": {},
     "output_type": "execute_result"
    }
   ],
   "source": [
    "df['age'].describe()"
   ]
  },
  {
   "cell_type": "code",
   "execution_count": 21,
   "metadata": {
    "colab": {
     "base_uri": "https://localhost:8080/",
     "height": 564
    },
    "id": "cVpSIRJTH4lQ",
    "outputId": "66d9e2c5-b885-45d9-f62f-9b5f6d781a41"
   },
   "outputs": [
    {
     "data": {
      "image/png": "[encoded data removed]",
      "text/plain": [
       "<Figure size 800x600 with 1 Axes>"
      ]
     },
     "metadata": {},
     "output_type": "display_data"
    }
   ],
   "source": [
    "plt.figure(figsize=(8, 6))\n",
    "\n",
    "sns.boxplot(data=df[['inflight_wifi_service', 'departure_arrival_time_convenient', 'ease_of_online_booking', 'gate_location',\n",
    "   'food_and_drink', 'online_boarding', 'seat_comfort', 'inflight_entertainment', 'on_board_service', 'leg_room_service',\n",
    "   'baggage_handling', 'checkin_service', 'inflight_service', 'cleanliness']], palette='Set3', orient='h')\n",
    "\n",
    "plt.title('Boxplot оценок по столбцам')\n",
    "plt.xlabel('Значения')\n",
    "plt.ylabel('Столбцы')\n",
    "\n",
    "plt.show()"
   ]
  },
  {
   "cell_type": "markdown",
   "metadata": {
    "id": "go_pfvbJkK7x"
   },
   "source": [
    "Теперь значения находятся в нужном диапазоне, медианы столбцов равны 3 или 4."
   ]
  },
  {
   "cell_type": "code",
   "execution_count": 22,
   "metadata": {
    "colab": {
     "base_uri": "https://localhost:8080/",
     "height": 747
    },
    "id": "4ykOjt0FbP3b",
    "outputId": "148c0444-c8d7-4a89-a48d-f5c0bf0aa828"
   },
   "outputs": [
    {
     "data": {
      "image/png": "[encoded data removed]",
      "text/plain": [
       "<Figure size 800x600 with 1 Axes>"
      ]
     },
     "metadata": {},
     "output_type": "display_data"
    }
   ],
   "source": [
    "miss = df.isnull().sum()\n",
    "\n",
    "\n",
    "miss_filtered = miss[miss != 0]\n",
    "\n",
    "plt.figure(figsize=(8, 6))\n",
    "plt.bar(miss_filtered.index, miss_filtered.values)\n",
    "plt.title('Количество пропусков по столбцам')\n",
    "plt.xlabel('Столбцы')\n",
    "plt.ylabel('Количество пропусков')\n",
    "\n",
    "plt.xticks(rotation=90)\n",
    "\n",
    "plt.show()"
   ]
  },
  {
   "cell_type": "markdown",
   "metadata": {
    "id": "ktGTYavJmxYp"
   },
   "source": [
    "Много пропусков в столбцах с задержкой рейсов, заполню их 0, скорее всего задержки не было. Добавлю категорию unknown в столбцы gender, customer_type и класс. Остальные пропуски удалю. После этого проверю оставшиеся столбцы на аномалии."
   ]
  },
  {
   "cell_type": "code",
   "execution_count": 23,
   "metadata": {
    "colab": {
     "base_uri": "https://localhost:8080/"
    },
    "id": "TYHkFbyul02d",
    "outputId": "3efc14fd-7e5d-46e7-80a3-168d46ecee20"
   },
   "outputs": [
    {
     "data": {
      "text/plain": [
       "count    124611.000000\n",
       "mean         15.820385\n",
       "std          94.565416\n",
       "min           0.000000\n",
       "25%           0.000000\n",
       "50%           0.000000\n",
       "75%          12.000000\n",
       "max       22227.000000\n",
       "Name: departure_delay_in_minutes, dtype: float64"
      ]
     },
     "execution_count": 23,
     "metadata": {},
     "output_type": "execute_result"
    }
   ],
   "source": [
    "df['departure_delay_in_minutes'].describe()"
   ]
  },
  {
   "cell_type": "code",
   "execution_count": 24,
   "metadata": {
    "colab": {
     "base_uri": "https://localhost:8080/",
     "height": 545
    },
    "id": "b389YMEKqVWo",
    "outputId": "3c61d92d-4e78-4080-bd44-6243ed49d4f3"
   },
   "outputs": [
    {
     "data": {
      "image/png": "[encoded data removed]",
      "text/plain": [
       "<Figure size 800x600 with 1 Axes>"
      ]
     },
     "metadata": {},
     "output_type": "display_data"
    }
   ],
   "source": [
    "plt.figure(figsize=(8, 6))\n",
    "\n",
    "\n",
    "sns.violinplot(data=df[['departure_delay_in_minutes', 'arrival_delay_in_minutes']])\n",
    "\n",
    "\n",
    "\n",
    "\n",
    "\n",
    "\n",
    "plt.ylabel('Значение в минутах')\n",
    "plt.title('violin plot для задержки')\n",
    "\n",
    "\n",
    "plt.show()"
   ]
  },
  {
   "cell_type": "markdown",
   "metadata": {
    "id": "Vmva69LFmPXc"
   },
   "source": [
    "Есть аномально большие значения, пусть максимальная задержка будет 100 минут, иногда так бывает"
   ]
  },
  {
   "cell_type": "code",
   "execution_count": 25,
   "metadata": {
    "id": "TAGCI85FnjEz"
   },
   "outputs": [],
   "source": [
    "df['departure_delay_in_minutes'] = df['departure_delay_in_minutes'].fillna(0)\n",
    "df['arrival_delay_in_minutes'] = df['arrival_delay_in_minutes'].fillna(0)\n",
    "df = df[(df['departure_delay_in_minutes'] >= 0) & (df['arrival_delay_in_minutes'] >= 0) &\n",
    "  (df['departure_delay_in_minutes'] < 100) &  (df['arrival_delay_in_minutes'] < 100)]\n",
    "\n"
   ]
  },
  {
   "cell_type": "code",
   "execution_count": 26,
   "metadata": {
    "colab": {
     "base_uri": "https://localhost:8080/",
     "height": 545
    },
    "id": "5hPv2sepla6Y",
    "outputId": "18e3b4bf-9d02-45e3-a34b-4605bc1f571c"
   },
   "outputs": [
    {
     "data": {
      "image/png": "[encoded data removed]",
      "text/plain": [
       "<Figure size 800x600 with 1 Axes>"
      ]
     },
     "metadata": {},
     "output_type": "display_data"
    }
   ],
   "source": [
    "plt.figure(figsize=(8, 6))\n",
    "\n",
    "\n",
    "sns.violinplot(data=df[['departure_delay_in_minutes', 'arrival_delay_in_minutes']])\n",
    "\n",
    "\n",
    "\n",
    "\n",
    "\n",
    "\n",
    "plt.ylabel('Значение в минутах')\n",
    "plt.title('violin plot для задержки')\n",
    "\n",
    "\n",
    "plt.show()"
   ]
  },
  {
   "cell_type": "code",
   "execution_count": 27,
   "metadata": {
    "colab": {
     "base_uri": "https://localhost:8080/"
    },
    "id": "8Jj2jLhjoTZy",
    "outputId": "ef291347-b249-4efd-ca4a-5fcd5de28b71"
   },
   "outputs": [
    {
     "data": {
      "text/plain": [
       "departure_delay_in_minutes\n",
       "0.0     70463\n",
       "1.0      3492\n",
       "2.0      2742\n",
       "3.0      2423\n",
       "4.0      2194\n",
       "        ...  \n",
       "95.0       60\n",
       "96.0       67\n",
       "97.0       47\n",
       "98.0       45\n",
       "99.0       33\n",
       "Name: departure_delay_in_minutes, Length: 100, dtype: int64"
      ]
     },
     "execution_count": 27,
     "metadata": {},
     "output_type": "execute_result"
    }
   ],
   "source": [
    "df.groupby('departure_delay_in_minutes')['departure_delay_in_minutes'].count()"
   ]
  },
  {
   "cell_type": "code",
   "execution_count": 28,
   "metadata": {},
   "outputs": [],
   "source": [
    "df = df.dropna()\n"
   ]
  },
  {
   "cell_type": "code",
   "execution_count": 29,
   "metadata": {},
   "outputs": [
    {
     "data": {
      "text/html": [
       "<div>\n",
       "<style scoped>\n",
       "    .dataframe tbody tr th:only-of-type {\n",
       "        vertical-align: middle;\n",
       "    }\n",
       "\n",
       "    .dataframe tbody tr th {\n",
       "        vertical-align: top;\n",
       "    }\n",
       "\n",
       "    .dataframe thead th {\n",
       "        text-align: right;\n",
       "    }\n",
       "</style>\n",
       "<table border=\"1\" class=\"dataframe\">\n",
       "  <thead>\n",
       "    <tr style=\"text-align: right;\">\n",
       "      <th></th>\n",
       "      <th>id</th>\n",
       "      <th>gender</th>\n",
       "      <th>age</th>\n",
       "      <th>customer_type</th>\n",
       "      <th>type_of_travel</th>\n",
       "      <th>class</th>\n",
       "      <th>flight_distance</th>\n",
       "      <th>departure_delay_in_minutes</th>\n",
       "      <th>arrival_delay_in_minutes</th>\n",
       "      <th>inflight_wifi_service</th>\n",
       "      <th>departure_arrival_time_convenient</th>\n",
       "      <th>ease_of_online_booking</th>\n",
       "      <th>gate_location</th>\n",
       "      <th>food_and_drink</th>\n",
       "      <th>online_boarding</th>\n",
       "      <th>seat_comfort</th>\n",
       "      <th>inflight_entertainment</th>\n",
       "      <th>on_board_service</th>\n",
       "      <th>leg_room_service</th>\n",
       "      <th>baggage_handling</th>\n",
       "      <th>checkin_service</th>\n",
       "      <th>inflight_service</th>\n",
       "      <th>cleanliness</th>\n",
       "      <th>satisfaction</th>\n",
       "    </tr>\n",
       "  </thead>\n",
       "  <tbody>\n",
       "    <tr>\n",
       "      <th>0</th>\n",
       "      <td>1</td>\n",
       "      <td>Male</td>\n",
       "      <td>48.0</td>\n",
       "      <td>disloyal Customer</td>\n",
       "      <td>Business travel</td>\n",
       "      <td>Business</td>\n",
       "      <td>821.0</td>\n",
       "      <td>2.0</td>\n",
       "      <td>5.0</td>\n",
       "      <td>3.0</td>\n",
       "      <td>3.0</td>\n",
       "      <td>3.0</td>\n",
       "      <td>3.0</td>\n",
       "      <td>5.0</td>\n",
       "      <td>3.0</td>\n",
       "      <td>5.0</td>\n",
       "      <td>5.0</td>\n",
       "      <td>3.0</td>\n",
       "      <td>2.0</td>\n",
       "      <td>5.0</td>\n",
       "      <td>4.0</td>\n",
       "      <td>5.0</td>\n",
       "      <td>5.0</td>\n",
       "      <td>neutral or dissatisfied</td>\n",
       "    </tr>\n",
       "    <tr>\n",
       "      <th>1</th>\n",
       "      <td>2</td>\n",
       "      <td>Female</td>\n",
       "      <td>35.0</td>\n",
       "      <td>Loyal Customer</td>\n",
       "      <td>Business travel</td>\n",
       "      <td>Business</td>\n",
       "      <td>821.0</td>\n",
       "      <td>26.0</td>\n",
       "      <td>39.0</td>\n",
       "      <td>2.0</td>\n",
       "      <td>2.0</td>\n",
       "      <td>2.0</td>\n",
       "      <td>2.0</td>\n",
       "      <td>3.0</td>\n",
       "      <td>5.0</td>\n",
       "      <td>4.0</td>\n",
       "      <td>5.0</td>\n",
       "      <td>5.0</td>\n",
       "      <td>5.0</td>\n",
       "      <td>5.0</td>\n",
       "      <td>3.0</td>\n",
       "      <td>5.0</td>\n",
       "      <td>5.0</td>\n",
       "      <td>satisfied</td>\n",
       "    </tr>\n",
       "    <tr>\n",
       "      <th>2</th>\n",
       "      <td>3</td>\n",
       "      <td>Male</td>\n",
       "      <td>41.0</td>\n",
       "      <td>Loyal Customer</td>\n",
       "      <td>Business travel</td>\n",
       "      <td>Business</td>\n",
       "      <td>853.0</td>\n",
       "      <td>0.0</td>\n",
       "      <td>0.0</td>\n",
       "      <td>4.0</td>\n",
       "      <td>4.0</td>\n",
       "      <td>4.0</td>\n",
       "      <td>4.0</td>\n",
       "      <td>5.0</td>\n",
       "      <td>5.0</td>\n",
       "      <td>5.0</td>\n",
       "      <td>3.0</td>\n",
       "      <td>3.0</td>\n",
       "      <td>3.0</td>\n",
       "      <td>3.0</td>\n",
       "      <td>4.0</td>\n",
       "      <td>3.0</td>\n",
       "      <td>5.0</td>\n",
       "      <td>satisfied</td>\n",
       "    </tr>\n",
       "    <tr>\n",
       "      <th>3</th>\n",
       "      <td>4</td>\n",
       "      <td>Male</td>\n",
       "      <td>50.0</td>\n",
       "      <td>Loyal Customer</td>\n",
       "      <td>Business travel</td>\n",
       "      <td>Business</td>\n",
       "      <td>1905.0</td>\n",
       "      <td>0.0</td>\n",
       "      <td>0.0</td>\n",
       "      <td>2.0</td>\n",
       "      <td>2.0</td>\n",
       "      <td>2.0</td>\n",
       "      <td>2.0</td>\n",
       "      <td>4.0</td>\n",
       "      <td>4.0</td>\n",
       "      <td>5.0</td>\n",
       "      <td>5.0</td>\n",
       "      <td>5.0</td>\n",
       "      <td>5.0</td>\n",
       "      <td>5.0</td>\n",
       "      <td>3.0</td>\n",
       "      <td>5.0</td>\n",
       "      <td>4.0</td>\n",
       "      <td>satisfied</td>\n",
       "    </tr>\n",
       "    <tr>\n",
       "      <th>4</th>\n",
       "      <td>5</td>\n",
       "      <td>Female</td>\n",
       "      <td>49.0</td>\n",
       "      <td>Loyal Customer</td>\n",
       "      <td>Business travel</td>\n",
       "      <td>Business</td>\n",
       "      <td>3470.0</td>\n",
       "      <td>0.0</td>\n",
       "      <td>1.0</td>\n",
       "      <td>3.0</td>\n",
       "      <td>3.0</td>\n",
       "      <td>3.0</td>\n",
       "      <td>3.0</td>\n",
       "      <td>4.0</td>\n",
       "      <td>5.0</td>\n",
       "      <td>4.0</td>\n",
       "      <td>3.0</td>\n",
       "      <td>3.0</td>\n",
       "      <td>4.0</td>\n",
       "      <td>3.0</td>\n",
       "      <td>3.0</td>\n",
       "      <td>3.0</td>\n",
       "      <td>5.0</td>\n",
       "      <td>satisfied</td>\n",
       "    </tr>\n",
       "    <tr>\n",
       "      <th>...</th>\n",
       "      <td>...</td>\n",
       "      <td>...</td>\n",
       "      <td>...</td>\n",
       "      <td>...</td>\n",
       "      <td>...</td>\n",
       "      <td>...</td>\n",
       "      <td>...</td>\n",
       "      <td>...</td>\n",
       "      <td>...</td>\n",
       "      <td>...</td>\n",
       "      <td>...</td>\n",
       "      <td>...</td>\n",
       "      <td>...</td>\n",
       "      <td>...</td>\n",
       "      <td>...</td>\n",
       "      <td>...</td>\n",
       "      <td>...</td>\n",
       "      <td>...</td>\n",
       "      <td>...</td>\n",
       "      <td>...</td>\n",
       "      <td>...</td>\n",
       "      <td>...</td>\n",
       "      <td>...</td>\n",
       "      <td>...</td>\n",
       "    </tr>\n",
       "    <tr>\n",
       "      <th>129875</th>\n",
       "      <td>129876</td>\n",
       "      <td>Male</td>\n",
       "      <td>28.0</td>\n",
       "      <td>Loyal Customer</td>\n",
       "      <td>Personal Travel</td>\n",
       "      <td>Eco Plus</td>\n",
       "      <td>447.0</td>\n",
       "      <td>2.0</td>\n",
       "      <td>3.0</td>\n",
       "      <td>4.0</td>\n",
       "      <td>4.0</td>\n",
       "      <td>4.0</td>\n",
       "      <td>2.0</td>\n",
       "      <td>4.0</td>\n",
       "      <td>4.0</td>\n",
       "      <td>1.0</td>\n",
       "      <td>4.0</td>\n",
       "      <td>5.0</td>\n",
       "      <td>4.0</td>\n",
       "      <td>4.0</td>\n",
       "      <td>4.0</td>\n",
       "      <td>5.0</td>\n",
       "      <td>4.0</td>\n",
       "      <td>-</td>\n",
       "    </tr>\n",
       "    <tr>\n",
       "      <th>129876</th>\n",
       "      <td>129877</td>\n",
       "      <td>Male</td>\n",
       "      <td>41.0</td>\n",
       "      <td>Loyal Customer</td>\n",
       "      <td>Personal Travel</td>\n",
       "      <td>Eco Plus</td>\n",
       "      <td>308.0</td>\n",
       "      <td>0.0</td>\n",
       "      <td>0.0</td>\n",
       "      <td>3.0</td>\n",
       "      <td>5.0</td>\n",
       "      <td>3.0</td>\n",
       "      <td>4.0</td>\n",
       "      <td>2.0</td>\n",
       "      <td>3.0</td>\n",
       "      <td>2.0</td>\n",
       "      <td>2.0</td>\n",
       "      <td>5.0</td>\n",
       "      <td>5.0</td>\n",
       "      <td>5.0</td>\n",
       "      <td>5.0</td>\n",
       "      <td>4.0</td>\n",
       "      <td>2.0</td>\n",
       "      <td>-</td>\n",
       "    </tr>\n",
       "    <tr>\n",
       "      <th>129877</th>\n",
       "      <td>129878</td>\n",
       "      <td>Male</td>\n",
       "      <td>42.0</td>\n",
       "      <td>Loyal Customer</td>\n",
       "      <td>Personal Travel</td>\n",
       "      <td>Eco Plus</td>\n",
       "      <td>337.0</td>\n",
       "      <td>6.0</td>\n",
       "      <td>14.0</td>\n",
       "      <td>2.0</td>\n",
       "      <td>5.0</td>\n",
       "      <td>2.0</td>\n",
       "      <td>1.0</td>\n",
       "      <td>3.0</td>\n",
       "      <td>2.0</td>\n",
       "      <td>3.0</td>\n",
       "      <td>3.0</td>\n",
       "      <td>3.0</td>\n",
       "      <td>4.0</td>\n",
       "      <td>5.0</td>\n",
       "      <td>4.0</td>\n",
       "      <td>4.0</td>\n",
       "      <td>3.0</td>\n",
       "      <td>neutral or dissatisfied</td>\n",
       "    </tr>\n",
       "    <tr>\n",
       "      <th>129878</th>\n",
       "      <td>129879</td>\n",
       "      <td>Male</td>\n",
       "      <td>50.0</td>\n",
       "      <td>Loyal Customer</td>\n",
       "      <td>Personal Travel</td>\n",
       "      <td>Eco Plus</td>\n",
       "      <td>337.0</td>\n",
       "      <td>31.0</td>\n",
       "      <td>22.0</td>\n",
       "      <td>5.0</td>\n",
       "      <td>4.0</td>\n",
       "      <td>4.0</td>\n",
       "      <td>1.0</td>\n",
       "      <td>3.0</td>\n",
       "      <td>4.0</td>\n",
       "      <td>4.0</td>\n",
       "      <td>3.0</td>\n",
       "      <td>4.0</td>\n",
       "      <td>5.0</td>\n",
       "      <td>5.0</td>\n",
       "      <td>3.0</td>\n",
       "      <td>4.0</td>\n",
       "      <td>3.0</td>\n",
       "      <td>satisfied</td>\n",
       "    </tr>\n",
       "    <tr>\n",
       "      <th>129879</th>\n",
       "      <td>129880</td>\n",
       "      <td>Female</td>\n",
       "      <td>20.0</td>\n",
       "      <td>Loyal Customer</td>\n",
       "      <td>Personal Travel</td>\n",
       "      <td>Eco Plus</td>\n",
       "      <td>337.0</td>\n",
       "      <td>0.0</td>\n",
       "      <td>0.0</td>\n",
       "      <td>3.0</td>\n",
       "      <td>1.0</td>\n",
       "      <td>3.0</td>\n",
       "      <td>2.0</td>\n",
       "      <td>2.0</td>\n",
       "      <td>3.0</td>\n",
       "      <td>2.0</td>\n",
       "      <td>2.0</td>\n",
       "      <td>4.0</td>\n",
       "      <td>4.0</td>\n",
       "      <td>1.0</td>\n",
       "      <td>4.0</td>\n",
       "      <td>2.0</td>\n",
       "      <td>2.0</td>\n",
       "      <td>neutral or dissatisfied</td>\n",
       "    </tr>\n",
       "  </tbody>\n",
       "</table>\n",
       "<p>119155 rows × 24 columns</p>\n",
       "</div>"
      ],
      "text/plain": [
       "            id  gender   age      customer_type   type_of_travel     class  \\\n",
       "0            1    Male  48.0  disloyal Customer  Business travel  Business   \n",
       "1            2  Female  35.0     Loyal Customer  Business travel  Business   \n",
       "2            3    Male  41.0     Loyal Customer  Business travel  Business   \n",
       "3            4    Male  50.0     Loyal Customer  Business travel  Business   \n",
       "4            5  Female  49.0     Loyal Customer  Business travel  Business   \n",
       "...        ...     ...   ...                ...              ...       ...   \n",
       "129875  129876    Male  28.0     Loyal Customer  Personal Travel  Eco Plus   \n",
       "129876  129877    Male  41.0     Loyal Customer  Personal Travel  Eco Plus   \n",
       "129877  129878    Male  42.0     Loyal Customer  Personal Travel  Eco Plus   \n",
       "129878  129879    Male  50.0     Loyal Customer  Personal Travel  Eco Plus   \n",
       "129879  129880  Female  20.0     Loyal Customer  Personal Travel  Eco Plus   \n",
       "\n",
       "        flight_distance  departure_delay_in_minutes  arrival_delay_in_minutes  \\\n",
       "0                 821.0                         2.0                       5.0   \n",
       "1                 821.0                        26.0                      39.0   \n",
       "2                 853.0                         0.0                       0.0   \n",
       "3                1905.0                         0.0                       0.0   \n",
       "4                3470.0                         0.0                       1.0   \n",
       "...                 ...                         ...                       ...   \n",
       "129875            447.0                         2.0                       3.0   \n",
       "129876            308.0                         0.0                       0.0   \n",
       "129877            337.0                         6.0                      14.0   \n",
       "129878            337.0                        31.0                      22.0   \n",
       "129879            337.0                         0.0                       0.0   \n",
       "\n",
       "        inflight_wifi_service  departure_arrival_time_convenient  \\\n",
       "0                         3.0                                3.0   \n",
       "1                         2.0                                2.0   \n",
       "2                         4.0                                4.0   \n",
       "3                         2.0                                2.0   \n",
       "4                         3.0                                3.0   \n",
       "...                       ...                                ...   \n",
       "129875                    4.0                                4.0   \n",
       "129876                    3.0                                5.0   \n",
       "129877                    2.0                                5.0   \n",
       "129878                    5.0                                4.0   \n",
       "129879                    3.0                                1.0   \n",
       "\n",
       "        ease_of_online_booking  gate_location  food_and_drink  \\\n",
       "0                          3.0            3.0             5.0   \n",
       "1                          2.0            2.0             3.0   \n",
       "2                          4.0            4.0             5.0   \n",
       "3                          2.0            2.0             4.0   \n",
       "4                          3.0            3.0             4.0   \n",
       "...                        ...            ...             ...   \n",
       "129875                     4.0            2.0             4.0   \n",
       "129876                     3.0            4.0             2.0   \n",
       "129877                     2.0            1.0             3.0   \n",
       "129878                     4.0            1.0             3.0   \n",
       "129879                     3.0            2.0             2.0   \n",
       "\n",
       "        online_boarding  seat_comfort  inflight_entertainment  \\\n",
       "0                   3.0           5.0                     5.0   \n",
       "1                   5.0           4.0                     5.0   \n",
       "2                   5.0           5.0                     3.0   \n",
       "3                   4.0           5.0                     5.0   \n",
       "4                   5.0           4.0                     3.0   \n",
       "...                 ...           ...                     ...   \n",
       "129875              4.0           1.0                     4.0   \n",
       "129876              3.0           2.0                     2.0   \n",
       "129877              2.0           3.0                     3.0   \n",
       "129878              4.0           4.0                     3.0   \n",
       "129879              3.0           2.0                     2.0   \n",
       "\n",
       "        on_board_service  leg_room_service  baggage_handling  checkin_service  \\\n",
       "0                    3.0               2.0               5.0              4.0   \n",
       "1                    5.0               5.0               5.0              3.0   \n",
       "2                    3.0               3.0               3.0              4.0   \n",
       "3                    5.0               5.0               5.0              3.0   \n",
       "4                    3.0               4.0               3.0              3.0   \n",
       "...                  ...               ...               ...              ...   \n",
       "129875               5.0               4.0               4.0              4.0   \n",
       "129876               5.0               5.0               5.0              5.0   \n",
       "129877               3.0               4.0               5.0              4.0   \n",
       "129878               4.0               5.0               5.0              3.0   \n",
       "129879               4.0               4.0               1.0              4.0   \n",
       "\n",
       "        inflight_service  cleanliness             satisfaction  \n",
       "0                    5.0          5.0  neutral or dissatisfied  \n",
       "1                    5.0          5.0                satisfied  \n",
       "2                    3.0          5.0                satisfied  \n",
       "3                    5.0          4.0                satisfied  \n",
       "4                    3.0          5.0                satisfied  \n",
       "...                  ...          ...                      ...  \n",
       "129875               5.0          4.0                        -  \n",
       "129876               4.0          2.0                        -  \n",
       "129877               4.0          3.0  neutral or dissatisfied  \n",
       "129878               4.0          3.0                satisfied  \n",
       "129879               2.0          2.0  neutral or dissatisfied  \n",
       "\n",
       "[119155 rows x 24 columns]"
      ]
     },
     "execution_count": 29,
     "metadata": {},
     "output_type": "execute_result"
    }
   ],
   "source": [
    "df"
   ]
  },
  {
   "cell_type": "code",
   "execution_count": 30,
   "metadata": {
    "id": "kPMTFkE4sdgq"
   },
   "outputs": [],
   "source": [
    "def plot_category_counts(df, column, ax):\n",
    "\n",
    "    \n",
    "\n",
    "\n",
    "    category_counts = df[column].value_counts()\n",
    "\n",
    "\n",
    "    sns.barplot(x=category_counts.index, y=category_counts.values, ax=ax)\n",
    "\n",
    "\n",
    "    ax.set_xlabel('Category')\n",
    "    ax.set_ylabel('Count')\n",
    "    ax.set_title(f'Count of {column}')"
   ]
  },
  {
   "cell_type": "code",
   "execution_count": 31,
   "metadata": {
    "colab": {
     "base_uri": "https://localhost:8080/",
     "height": 807
    },
    "id": "qWhVxk2ltBJn",
    "outputId": "146aa7ab-d114-4a01-844e-bc34680adea4"
   },
   "outputs": [
    {
     "data": {
      "image/png": "[encoded data removed]",
      "text/plain": [
       "<Figure size 1000x800 with 4 Axes>"
      ]
     },
     "metadata": {},
     "output_type": "display_data"
    }
   ],
   "source": [
    "columns_to_plot = ['gender', 'customer_type', 'class', 'type_of_travel']\n",
    "fig, axs = plt.subplots(2, 2, figsize=(10, 8))\n",
    "\n",
    "for i, column in enumerate(columns_to_plot):\n",
    "    ax = axs[i // 2, i % 2]\n",
    "    plot_category_counts(df, column, ax)\n",
    "\n",
    "\n",
    "fig.tight_layout()\n",
    "plt.show()"
   ]
  },
  {
   "cell_type": "markdown",
   "metadata": {
    "id": "YH9Nvz8ouARR"
   },
   "source": [
    "Пропуски в категориальных столбцах удалены, посмотрим что осталось."
   ]
  },
  {
   "cell_type": "code",
   "execution_count": 32,
   "metadata": {
    "colab": {
     "base_uri": "https://localhost:8080/",
     "height": 472
    },
    "id": "iVTrJwXXuJGK",
    "outputId": "79389434-49fc-449c-f593-3b7e2f8bf658"
   },
   "outputs": [
    {
     "data": {
      "image/png": "[encoded data removed]",
      "text/plain": [
       "<Figure size 640x480 with 1 Axes>"
      ]
     },
     "metadata": {},
     "output_type": "display_data"
    }
   ],
   "source": [
    "miss = df.isnull().sum()\n",
    "\n",
    "\n",
    "miss_filtered = miss[miss != 0]\n",
    "\n",
    "\n",
    "plt.bar(miss_filtered.index, miss_filtered.values)\n",
    "plt.title('Количество пропусков по столбцам')\n",
    "plt.xlabel('Столбцы')\n",
    "plt.ylabel('Количество пропусков')\n",
    "plt.xticks(rotation=90)\n",
    "\n",
    "\n",
    "plt.show()"
   ]
  },
  {
   "cell_type": "markdown",
   "metadata": {
    "id": "rk1eZCTnuQn9"
   },
   "source": [
    "Посмотрим на последний столбец."
   ]
  },
  {
   "cell_type": "code",
   "execution_count": 33,
   "metadata": {
    "colab": {
     "base_uri": "https://localhost:8080/",
     "height": 545
    },
    "id": "iyxtsm7yuXQN",
    "outputId": "ec1691fa-daf7-4ccd-ada6-2ede0b0c947f"
   },
   "outputs": [
    {
     "data": {
      "image/png": "[encoded data removed]",
      "text/plain": [
       "<Figure size 800x600 with 1 Axes>"
      ]
     },
     "metadata": {},
     "output_type": "display_data"
    }
   ],
   "source": [
    "\n",
    "plt.figure(figsize=(8, 6))\n",
    "\n",
    "\n",
    "sns.violinplot(data=df['flight_distance'])\n",
    "\n",
    "\n",
    "\n",
    "\n",
    "\n",
    "\n",
    "plt.ylabel('Значение в милях')\n",
    "plt.title('violin plot для растояния полета')\n",
    "\n",
    "\n",
    "plt.show()"
   ]
  },
  {
   "cell_type": "markdown",
   "metadata": {
    "id": "_YZLqOtwD79O"
   },
   "source": [
    "сочтем минимальной траекторией полета 80 миль, а максимальную оставим 4500"
   ]
  },
  {
   "cell_type": "code",
   "execution_count": 34,
   "metadata": {
    "id": "Lya_Yd5QBpyL"
   },
   "outputs": [],
   "source": [
    "df=df[(df['flight_distance'] < 4500) & (df['flight_distance'] > 81)]"
   ]
  },
  {
   "cell_type": "code",
   "execution_count": 35,
   "metadata": {
    "colab": {
     "base_uri": "https://localhost:8080/",
     "height": 545
    },
    "id": "zUIBEmJFB89q",
    "outputId": "25795391-63b2-4950-ce0d-746284973774"
   },
   "outputs": [
    {
     "data": {
      "image/png": "[encoded data removed]",
      "text/plain": [
       "<Figure size 800x600 with 1 Axes>"
      ]
     },
     "metadata": {},
     "output_type": "display_data"
    }
   ],
   "source": [
    "plt.figure(figsize=(8, 6))\n",
    "\n",
    "\n",
    "sns.violinplot(data=df['flight_distance'])\n",
    "\n",
    "\n",
    "\n",
    "\n",
    "\n",
    "\n",
    "plt.ylabel('Значение в милях')\n",
    "plt.title('violin plot для растояния полета')\n",
    "\n",
    "\n",
    "plt.show()"
   ]
  },
  {
   "cell_type": "code",
   "execution_count": 36,
   "metadata": {
    "colab": {
     "base_uri": "https://localhost:8080/"
    },
    "id": "r-Z8rVtjGcTq",
    "outputId": "c9ed08a0-24de-45f1-da69-ead89a171162"
   },
   "outputs": [
    {
     "data": {
      "text/plain": [
       "satisfaction\n",
       "-                          23808\n",
       "neutral or dissatisfied    52430\n",
       "satisfied                  42289\n",
       "Name: satisfaction, dtype: int64"
      ]
     },
     "execution_count": 36,
     "metadata": {},
     "output_type": "execute_result"
    }
   ],
   "source": [
    "df.groupby('satisfaction')['satisfaction'].count()"
   ]
  },
  {
   "cell_type": "markdown",
   "metadata": {
    "id": "r9gARN3KHO68"
   },
   "source": [
    "Нужно распределить неизвестную категорию. Добавлю столбец со средней оценкой клиента."
   ]
  },
  {
   "cell_type": "code",
   "execution_count": 37,
   "metadata": {
    "id": "eE1l6iU9J79m"
   },
   "outputs": [
    {
     "name": "stderr",
     "output_type": "stream",
     "text": [
      "C:\\Users\\iyaro\\AppData\\Local\\Temp\\ipykernel_4352\\3823950237.py:1: SettingWithCopyWarning: \n",
      "A value is trying to be set on a copy of a slice from a DataFrame.\n",
      "Try using .loc[row_indexer,col_indexer] = value instead\n",
      "\n",
      "See the caveats in the documentation: https://pandas.pydata.org/pandas-docs/stable/user_guide/indexing.html#returning-a-view-versus-a-copy\n",
      "  df['mean'] = df[['inflight_wifi_service', 'departure_arrival_time_convenient', 'ease_of_online_booking', 'gate_location',\n"
     ]
    }
   ],
   "source": [
    "df['mean'] = df[['inflight_wifi_service', 'departure_arrival_time_convenient', 'ease_of_online_booking', 'gate_location',\n",
    "   'food_and_drink', 'online_boarding', 'seat_comfort', 'inflight_entertainment', 'on_board_service', 'leg_room_service',\n",
    "   'baggage_handling', 'checkin_service', 'inflight_service', 'cleanliness']].mean(axis=1)"
   ]
  },
  {
   "cell_type": "code",
   "execution_count": 38,
   "metadata": {
    "colab": {
     "base_uri": "https://localhost:8080/"
    },
    "id": "VOlBTti-G4Cb",
    "outputId": "a2f09d3b-7c41-42fd-80bb-ff5bd1893e0f"
   },
   "outputs": [
    {
     "name": "stdout",
     "output_type": "stream",
     "text": [
      "<class 'pandas.core.frame.DataFrame'>\n",
      "Int64Index: 118527 entries, 0 to 129879\n",
      "Data columns (total 25 columns):\n",
      " #   Column                             Non-Null Count   Dtype  \n",
      "---  ------                             --------------   -----  \n",
      " 0   id                                 118527 non-null  int64  \n",
      " 1   gender                             118527 non-null  object \n",
      " 2   age                                118527 non-null  float64\n",
      " 3   customer_type                      118527 non-null  object \n",
      " 4   type_of_travel                     118527 non-null  object \n",
      " 5   class                              118527 non-null  object \n",
      " 6   flight_distance                    118527 non-null  float64\n",
      " 7   departure_delay_in_minutes         118527 non-null  float64\n",
      " 8   arrival_delay_in_minutes           118527 non-null  float64\n",
      " 9   inflight_wifi_service              118527 non-null  float64\n",
      " 10  departure_arrival_time_convenient  118527 non-null  float64\n",
      " 11  ease_of_online_booking             118527 non-null  float64\n",
      " 12  gate_location                      118527 non-null  float64\n",
      " 13  food_and_drink                     118527 non-null  float64\n",
      " 14  online_boarding                    118527 non-null  float64\n",
      " 15  seat_comfort                       118527 non-null  float64\n",
      " 16  inflight_entertainment             118527 non-null  float64\n",
      " 17  on_board_service                   118527 non-null  float64\n",
      " 18  leg_room_service                   118527 non-null  float64\n",
      " 19  baggage_handling                   118527 non-null  float64\n",
      " 20  checkin_service                    118527 non-null  float64\n",
      " 21  inflight_service                   118527 non-null  float64\n",
      " 22  cleanliness                        118527 non-null  float64\n",
      " 23  satisfaction                       118527 non-null  object \n",
      " 24  mean                               118527 non-null  float64\n",
      "dtypes: float64(19), int64(1), object(5)\n",
      "memory usage: 27.5+ MB\n"
     ]
    }
   ],
   "source": [
    "df.info()"
   ]
  },
  {
   "cell_type": "code",
   "execution_count": 39,
   "metadata": {
    "colab": {
     "base_uri": "https://localhost:8080/",
     "height": 990
    },
    "id": "u5DJnydnFqXN",
    "outputId": "ebeacd77-2575-498f-a0bd-6dde276a4131"
   },
   "outputs": [
    {
     "data": {
      "text/html": [
       "<div>\n",
       "<style scoped>\n",
       "    .dataframe tbody tr th:only-of-type {\n",
       "        vertical-align: middle;\n",
       "    }\n",
       "\n",
       "    .dataframe tbody tr th {\n",
       "        vertical-align: top;\n",
       "    }\n",
       "\n",
       "    .dataframe thead th {\n",
       "        text-align: right;\n",
       "    }\n",
       "</style>\n",
       "<table border=\"1\" class=\"dataframe\">\n",
       "  <thead>\n",
       "    <tr style=\"text-align: right;\">\n",
       "      <th></th>\n",
       "      <th>mean</th>\n",
       "      <th>satisfaction</th>\n",
       "    </tr>\n",
       "  </thead>\n",
       "  <tbody>\n",
       "    <tr>\n",
       "      <th>120194</th>\n",
       "      <td>3.428571</td>\n",
       "      <td>-</td>\n",
       "    </tr>\n",
       "    <tr>\n",
       "      <th>4114</th>\n",
       "      <td>3.142857</td>\n",
       "      <td>-</td>\n",
       "    </tr>\n",
       "    <tr>\n",
       "      <th>91723</th>\n",
       "      <td>3.928571</td>\n",
       "      <td>-</td>\n",
       "    </tr>\n",
       "    <tr>\n",
       "      <th>79745</th>\n",
       "      <td>2.214286</td>\n",
       "      <td>-</td>\n",
       "    </tr>\n",
       "    <tr>\n",
       "      <th>13651</th>\n",
       "      <td>3.428571</td>\n",
       "      <td>-</td>\n",
       "    </tr>\n",
       "    <tr>\n",
       "      <th>113931</th>\n",
       "      <td>3.571429</td>\n",
       "      <td>-</td>\n",
       "    </tr>\n",
       "    <tr>\n",
       "      <th>113715</th>\n",
       "      <td>3.071429</td>\n",
       "      <td>-</td>\n",
       "    </tr>\n",
       "    <tr>\n",
       "      <th>86596</th>\n",
       "      <td>2.928571</td>\n",
       "      <td>-</td>\n",
       "    </tr>\n",
       "    <tr>\n",
       "      <th>46020</th>\n",
       "      <td>2.928571</td>\n",
       "      <td>-</td>\n",
       "    </tr>\n",
       "    <tr>\n",
       "      <th>78703</th>\n",
       "      <td>1.714286</td>\n",
       "      <td>-</td>\n",
       "    </tr>\n",
       "    <tr>\n",
       "      <th>41835</th>\n",
       "      <td>2.642857</td>\n",
       "      <td>-</td>\n",
       "    </tr>\n",
       "    <tr>\n",
       "      <th>13668</th>\n",
       "      <td>3.714286</td>\n",
       "      <td>-</td>\n",
       "    </tr>\n",
       "    <tr>\n",
       "      <th>84800</th>\n",
       "      <td>2.857143</td>\n",
       "      <td>-</td>\n",
       "    </tr>\n",
       "    <tr>\n",
       "      <th>92112</th>\n",
       "      <td>3.571429</td>\n",
       "      <td>-</td>\n",
       "    </tr>\n",
       "    <tr>\n",
       "      <th>8020</th>\n",
       "      <td>3.285714</td>\n",
       "      <td>-</td>\n",
       "    </tr>\n",
       "    <tr>\n",
       "      <th>83138</th>\n",
       "      <td>3.214286</td>\n",
       "      <td>-</td>\n",
       "    </tr>\n",
       "    <tr>\n",
       "      <th>61492</th>\n",
       "      <td>3.000000</td>\n",
       "      <td>-</td>\n",
       "    </tr>\n",
       "    <tr>\n",
       "      <th>4293</th>\n",
       "      <td>3.571429</td>\n",
       "      <td>-</td>\n",
       "    </tr>\n",
       "    <tr>\n",
       "      <th>23339</th>\n",
       "      <td>3.428571</td>\n",
       "      <td>-</td>\n",
       "    </tr>\n",
       "    <tr>\n",
       "      <th>43714</th>\n",
       "      <td>2.500000</td>\n",
       "      <td>-</td>\n",
       "    </tr>\n",
       "    <tr>\n",
       "      <th>83222</th>\n",
       "      <td>4.214286</td>\n",
       "      <td>-</td>\n",
       "    </tr>\n",
       "    <tr>\n",
       "      <th>7152</th>\n",
       "      <td>3.428571</td>\n",
       "      <td>-</td>\n",
       "    </tr>\n",
       "    <tr>\n",
       "      <th>44006</th>\n",
       "      <td>2.571429</td>\n",
       "      <td>-</td>\n",
       "    </tr>\n",
       "    <tr>\n",
       "      <th>51719</th>\n",
       "      <td>2.500000</td>\n",
       "      <td>-</td>\n",
       "    </tr>\n",
       "    <tr>\n",
       "      <th>46588</th>\n",
       "      <td>3.000000</td>\n",
       "      <td>-</td>\n",
       "    </tr>\n",
       "    <tr>\n",
       "      <th>33100</th>\n",
       "      <td>3.571429</td>\n",
       "      <td>-</td>\n",
       "    </tr>\n",
       "    <tr>\n",
       "      <th>104384</th>\n",
       "      <td>2.928571</td>\n",
       "      <td>-</td>\n",
       "    </tr>\n",
       "    <tr>\n",
       "      <th>12676</th>\n",
       "      <td>3.928571</td>\n",
       "      <td>-</td>\n",
       "    </tr>\n",
       "    <tr>\n",
       "      <th>55213</th>\n",
       "      <td>2.214286</td>\n",
       "      <td>-</td>\n",
       "    </tr>\n",
       "    <tr>\n",
       "      <th>80572</th>\n",
       "      <td>4.000000</td>\n",
       "      <td>-</td>\n",
       "    </tr>\n",
       "  </tbody>\n",
       "</table>\n",
       "</div>"
      ],
      "text/plain": [
       "            mean satisfaction\n",
       "120194  3.428571            -\n",
       "4114    3.142857            -\n",
       "91723   3.928571            -\n",
       "79745   2.214286            -\n",
       "13651   3.428571            -\n",
       "113931  3.571429            -\n",
       "113715  3.071429            -\n",
       "86596   2.928571            -\n",
       "46020   2.928571            -\n",
       "78703   1.714286            -\n",
       "41835   2.642857            -\n",
       "13668   3.714286            -\n",
       "84800   2.857143            -\n",
       "92112   3.571429            -\n",
       "8020    3.285714            -\n",
       "83138   3.214286            -\n",
       "61492   3.000000            -\n",
       "4293    3.571429            -\n",
       "23339   3.428571            -\n",
       "43714   2.500000            -\n",
       "83222   4.214286            -\n",
       "7152    3.428571            -\n",
       "44006   2.571429            -\n",
       "51719   2.500000            -\n",
       "46588   3.000000            -\n",
       "33100   3.571429            -\n",
       "104384  2.928571            -\n",
       "12676   3.928571            -\n",
       "55213   2.214286            -\n",
       "80572   4.000000            -"
      ]
     },
     "execution_count": 39,
     "metadata": {},
     "output_type": "execute_result"
    }
   ],
   "source": [
    "replacement_dict = {'neutral or dissatisfied': 0, 'satisfied': 1}\n",
    "df.loc[df['satisfaction'] == '-', 'satisfaction'] = df.loc[df['satisfaction'] == '-', 'satisfaction'].replace(replacement_dict)\n",
    "df[['mean','satisfaction']][df['satisfaction']=='-'].sample(30)"
   ]
  },
  {
   "cell_type": "code",
   "execution_count": null,
   "metadata": {},
   "outputs": [],
   "source": []
  },
  {
   "cell_type": "code",
   "execution_count": 40,
   "metadata": {
    "colab": {
     "base_uri": "https://localhost:8080/",
     "height": 472
    },
    "id": "GGCmmuYALsCo",
    "outputId": "e4137950-c495-4df1-a995-54ac66e64e24"
   },
   "outputs": [
    {
     "data": {
      "image/png": "[encoded data removed]",
      "text/plain": [
       "<Figure size 640x480 with 1 Axes>"
      ]
     },
     "metadata": {},
     "output_type": "display_data"
    }
   ],
   "source": [
    "sns.violinplot(x='satisfaction', y='mean', data=df)\n",
    "\n",
    "# Добавляем метки осей и заголовок\n",
    "plt.xlabel('Category')\n",
    "plt.ylabel('Mean')\n",
    "plt.title('Violin Plot of Mean by Category')\n",
    "\n",
    "# Отображаем график\n",
    "plt.show()"
   ]
  },
  {
   "cell_type": "markdown",
   "metadata": {
    "id": "SKAVUd-1M-Zp"
   },
   "source": [
    "Значения '- 'в satisfaction заменим в зависимости от mean. Если больше 3.5, то к категории satisfied."
   ]
  },
  {
   "cell_type": "code",
   "execution_count": 41,
   "metadata": {
    "id": "AaLvDlx0Nojx"
   },
   "outputs": [
    {
     "name": "stderr",
     "output_type": "stream",
     "text": [
      "C:\\Users\\iyaro\\AppData\\Local\\Temp\\ipykernel_4352\\483474976.py:5: SettingWithCopyWarning: \n",
      "A value is trying to be set on a copy of a slice from a DataFrame.\n",
      "Try using .loc[row_indexer,col_indexer] = value instead\n",
      "\n",
      "See the caveats in the documentation: https://pandas.pydata.org/pandas-docs/stable/user_guide/indexing.html#returning-a-view-versus-a-copy\n",
      "  df['satisfaction'] = df['satisfaction'].astype(int)\n"
     ]
    }
   ],
   "source": [
    "df.loc[(df['satisfaction'] == '-') & (df['mean'] > 3.5), 'satisfaction'] = 'satisfied'\n",
    "df.loc[(df['satisfaction'] == '-') & (df['mean'] <= 3.5), 'satisfaction'] = 'neutral or dissatisfied'\n",
    "df.loc[df['satisfaction'] == 'satisfied', 'satisfaction'] = 1\n",
    "df.loc[df['satisfaction'] == 'neutral or dissatisfied', 'satisfaction'] = 0\n",
    "df['satisfaction'] = df['satisfaction'].astype(int)\n",
    "\n",
    "\n"
   ]
  },
  {
   "cell_type": "code",
   "execution_count": 42,
   "metadata": {
    "colab": {
     "base_uri": "https://localhost:8080/",
     "height": 472
    },
    "id": "hmHpVabzPy8S",
    "outputId": "ff468a31-306b-41fd-dba6-8cb0eedd1958",
    "scrolled": true
   },
   "outputs": [
    {
     "data": {
      "image/png": "[encoded data removed]",
      "text/plain": [
       "<Figure size 640x480 with 1 Axes>"
      ]
     },
     "metadata": {},
     "output_type": "display_data"
    }
   ],
   "source": [
    "sns.violinplot(x='satisfaction', y='mean', data=df)\n",
    "\n",
    "# Добавляем метки осей и заголовок\n",
    "plt.xlabel('Category')\n",
    "plt.ylabel('Mean')\n",
    "plt.title('Violin Plot of Mean by Category')\n",
    "\n",
    "# Отображаем график\n",
    "plt.show()"
   ]
  },
  {
   "cell_type": "code",
   "execution_count": 43,
   "metadata": {},
   "outputs": [],
   "source": [
    "df = df.dropna()"
   ]
  },
  {
   "cell_type": "code",
   "execution_count": 44,
   "metadata": {
    "colab": {
     "base_uri": "https://localhost:8080/",
     "height": 472
    },
    "id": "73U123kfVVlJ",
    "outputId": "62caaf23-665e-4d55-b799-3ca6a7c7c601",
    "scrolled": false
   },
   "outputs": [
    {
     "data": {
      "image/png": "[encoded data removed]",
      "text/plain": [
       "<Figure size 640x480 with 1 Axes>"
      ]
     },
     "metadata": {},
     "output_type": "display_data"
    }
   ],
   "source": [
    "sat = df.groupby('satisfaction')['satisfaction'].count()\n",
    "plt.bar(sat.index, sat.values)\n",
    "\n",
    "\n",
    "plt.xlabel('удовлитворенность')\n",
    "plt.ylabel('Количество')\n",
    "plt.title('Гистограмма уровня удовлетворенности')\n",
    "\n",
    "plt.show()"
   ]
  },
  {
   "cell_type": "markdown",
   "metadata": {
    "id": "N9zg2cU3Wv79"
   },
   "source": [
    "классы более менее сбалансированы, однако метрика f1 надежнее"
   ]
  },
  {
   "cell_type": "markdown",
   "metadata": {
    "id": "sRHnr7fzvs_G"
   },
   "source": [
    "Аномалии устранены, пропуски тоже. Потеряно около 6% датафрейма. Дальше мы приведем признаки к нужному для обучения виду и обучим модели."
   ]
  },
  {
   "cell_type": "markdown",
   "metadata": {
    "id": "cyMRzH1h0cpi"
   },
   "source": [
    "# Обучение моделей\n"
   ]
  },
  {
   "cell_type": "code",
   "execution_count": 45,
   "metadata": {
    "id": "4K8y_X099Gs3"
   },
   "outputs": [],
   "source": [
    "x = df.drop(['satisfaction', 'id'], axis=1)\n",
    "y = df['satisfaction']\n",
    "obj_feat = list(df.loc[:, df.dtypes == 'object'].columns.values)\n",
    "for feature in obj_feat:\n",
    "    x[feature] = pd.Series(df[feature], dtype='category')\n",
    "x.iloc[:, 8:22] = x.iloc[:, 8:22].astype('category')"
   ]
  },
  {
   "cell_type": "code",
   "execution_count": 46,
   "metadata": {
    "id": "ABnyh6h2Q5b3"
   },
   "outputs": [],
   "source": [
    "x_train, x_valid, y_train, y_valid = train_test_split(x, y, test_size = 0.5, random_state = RANDOM_STATE, stratify=y)\n",
    "x_test, x_valid, y_test, y_valid = train_test_split(x_valid, y_valid, test_size = 0.5, random_state = RANDOM_STATE, stratify=y_valid)\n"
   ]
  },
  {
   "cell_type": "code",
   "execution_count": 47,
   "metadata": {
    "colab": {
     "base_uri": "https://localhost:8080/"
    },
    "id": "-Bnp5Fe9czLW",
    "outputId": "55c37db6-71b0-4fc8-c796-3b5d9b4fa75d",
    "scrolled": true
   },
   "outputs": [
    {
     "name": "stdout",
     "output_type": "stream",
     "text": [
      "<class 'pandas.core.frame.DataFrame'>\n",
      "Int64Index: 59263 entries, 119607 to 88248\n",
      "Data columns (total 23 columns):\n",
      " #   Column                             Non-Null Count  Dtype   \n",
      "---  ------                             --------------  -----   \n",
      " 0   gender                             59263 non-null  category\n",
      " 1   age                                59263 non-null  float64 \n",
      " 2   customer_type                      59263 non-null  category\n",
      " 3   type_of_travel                     59263 non-null  category\n",
      " 4   class                              59263 non-null  category\n",
      " 5   flight_distance                    59263 non-null  float64 \n",
      " 6   departure_delay_in_minutes         59263 non-null  float64 \n",
      " 7   arrival_delay_in_minutes           59263 non-null  float64 \n",
      " 8   inflight_wifi_service              59263 non-null  category\n",
      " 9   departure_arrival_time_convenient  59263 non-null  category\n",
      " 10  ease_of_online_booking             59263 non-null  category\n",
      " 11  gate_location                      59263 non-null  category\n",
      " 12  food_and_drink                     59263 non-null  category\n",
      " 13  online_boarding                    59263 non-null  category\n",
      " 14  seat_comfort                       59263 non-null  category\n",
      " 15  inflight_entertainment             59263 non-null  category\n",
      " 16  on_board_service                   59263 non-null  category\n",
      " 17  leg_room_service                   59263 non-null  category\n",
      " 18  baggage_handling                   59263 non-null  category\n",
      " 19  checkin_service                    59263 non-null  category\n",
      " 20  inflight_service                   59263 non-null  category\n",
      " 21  cleanliness                        59263 non-null  category\n",
      " 22  mean                               59263 non-null  float64 \n",
      "dtypes: category(18), float64(5)\n",
      "memory usage: 3.7 MB\n",
      "<class 'pandas.core.series.Series'>\n",
      "Int64Index: 59263 entries, 119607 to 88248\n",
      "Series name: satisfaction\n",
      "Non-Null Count  Dtype\n",
      "--------------  -----\n",
      "59263 non-null  int32\n",
      "dtypes: int32(1)\n",
      "memory usage: 694.5 KB\n"
     ]
    }
   ],
   "source": [
    "x_train.info(),\n",
    "y_train.info()"
   ]
  },
  {
   "cell_type": "code",
   "execution_count": 48,
   "metadata": {},
   "outputs": [
    {
     "data": {
      "text/plain": [
       "32674      2.0\n",
       "98328      2.0\n",
       "22648     15.0\n",
       "106677    40.0\n",
       "61603      6.0\n",
       "82125      3.0\n",
       "116293     6.0\n",
       "74812     23.0\n",
       "112519     6.0\n",
       "22163     38.0\n",
       "95374      1.0\n",
       "107040    23.0\n",
       "114491    51.0\n",
       "66923      1.0\n",
       "97871     17.0\n",
       "27307      7.0\n",
       "114010    10.0\n",
       "100292    27.0\n",
       "97778     10.0\n",
       "110510    10.0\n",
       "Name: departure_delay_in_minutes, dtype: float64"
      ]
     },
     "execution_count": 48,
     "metadata": {},
     "output_type": "execute_result"
    }
   ],
   "source": [
    "x_train[x_train['departure_delay_in_minutes']>0]['departure_delay_in_minutes'].sample(20)"
   ]
  },
  {
   "cell_type": "code",
   "execution_count": 49,
   "metadata": {
    "colab": {
     "base_uri": "https://localhost:8080/"
    },
    "id": "8qu36zGzRtJN",
    "outputId": "0db416e6-ae73-4fda-f13a-20f63b71b63c"
   },
   "outputs": [
    {
     "data": {
      "text/plain": [
       "((59263, 23), (29632, 23), (29632, 23))"
      ]
     },
     "execution_count": 49,
     "metadata": {},
     "output_type": "execute_result"
    }
   ],
   "source": [
    "x_train.shape, x_test.shape, x_valid.shape"
   ]
  },
  {
   "cell_type": "code",
   "execution_count": 50,
   "metadata": {},
   "outputs": [
    {
     "name": "stdout",
     "output_type": "stream",
     "text": [
      "<class 'pandas.core.frame.DataFrame'>\n",
      "Int64Index: 59263 entries, 119607 to 88248\n",
      "Data columns (total 23 columns):\n",
      " #   Column                             Non-Null Count  Dtype   \n",
      "---  ------                             --------------  -----   \n",
      " 0   gender                             59263 non-null  category\n",
      " 1   age                                59263 non-null  float64 \n",
      " 2   customer_type                      59263 non-null  category\n",
      " 3   type_of_travel                     59263 non-null  category\n",
      " 4   class                              59263 non-null  category\n",
      " 5   flight_distance                    59263 non-null  float64 \n",
      " 6   departure_delay_in_minutes         59263 non-null  float64 \n",
      " 7   arrival_delay_in_minutes           59263 non-null  float64 \n",
      " 8   inflight_wifi_service              59263 non-null  category\n",
      " 9   departure_arrival_time_convenient  59263 non-null  category\n",
      " 10  ease_of_online_booking             59263 non-null  category\n",
      " 11  gate_location                      59263 non-null  category\n",
      " 12  food_and_drink                     59263 non-null  category\n",
      " 13  online_boarding                    59263 non-null  category\n",
      " 14  seat_comfort                       59263 non-null  category\n",
      " 15  inflight_entertainment             59263 non-null  category\n",
      " 16  on_board_service                   59263 non-null  category\n",
      " 17  leg_room_service                   59263 non-null  category\n",
      " 18  baggage_handling                   59263 non-null  category\n",
      " 19  checkin_service                    59263 non-null  category\n",
      " 20  inflight_service                   59263 non-null  category\n",
      " 21  cleanliness                        59263 non-null  category\n",
      " 22  mean                               59263 non-null  float64 \n",
      "dtypes: category(18), float64(5)\n",
      "memory usage: 3.7 MB\n"
     ]
    }
   ],
   "source": [
    "x_train.info()"
   ]
  },
  {
   "cell_type": "code",
   "execution_count": 51,
   "metadata": {},
   "outputs": [],
   "source": [
    "x_train = x_train.drop(['mean'], axis=1)\n"
   ]
  },
  {
   "cell_type": "code",
   "execution_count": 52,
   "metadata": {},
   "outputs": [
    {
     "name": "stdout",
     "output_type": "stream",
     "text": [
      "<class 'pandas.core.frame.DataFrame'>\n",
      "Int64Index: 59263 entries, 119607 to 88248\n",
      "Data columns (total 22 columns):\n",
      " #   Column                             Non-Null Count  Dtype   \n",
      "---  ------                             --------------  -----   \n",
      " 0   gender                             59263 non-null  category\n",
      " 1   age                                59263 non-null  float64 \n",
      " 2   customer_type                      59263 non-null  category\n",
      " 3   type_of_travel                     59263 non-null  category\n",
      " 4   class                              59263 non-null  category\n",
      " 5   flight_distance                    59263 non-null  float64 \n",
      " 6   departure_delay_in_minutes         59263 non-null  float64 \n",
      " 7   arrival_delay_in_minutes           59263 non-null  float64 \n",
      " 8   inflight_wifi_service              59263 non-null  category\n",
      " 9   departure_arrival_time_convenient  59263 non-null  category\n",
      " 10  ease_of_online_booking             59263 non-null  category\n",
      " 11  gate_location                      59263 non-null  category\n",
      " 12  food_and_drink                     59263 non-null  category\n",
      " 13  online_boarding                    59263 non-null  category\n",
      " 14  seat_comfort                       59263 non-null  category\n",
      " 15  inflight_entertainment             59263 non-null  category\n",
      " 16  on_board_service                   59263 non-null  category\n",
      " 17  leg_room_service                   59263 non-null  category\n",
      " 18  baggage_handling                   59263 non-null  category\n",
      " 19  checkin_service                    59263 non-null  category\n",
      " 20  inflight_service                   59263 non-null  category\n",
      " 21  cleanliness                        59263 non-null  category\n",
      "dtypes: category(18), float64(4)\n",
      "memory usage: 3.3 MB\n"
     ]
    }
   ],
   "source": [
    "x_train.info()"
   ]
  },
  {
   "cell_type": "code",
   "execution_count": 53,
   "metadata": {},
   "outputs": [],
   "source": [
    "x_valid = x_valid.drop(['mean'], axis=1)"
   ]
  },
  {
   "cell_type": "code",
   "execution_count": 54,
   "metadata": {},
   "outputs": [],
   "source": [
    "x_test = x_test.drop(['mean'], axis=1)"
   ]
  },
  {
   "cell_type": "code",
   "execution_count": 55,
   "metadata": {
    "colab": {
     "base_uri": "https://localhost:8080/",
     "height": 1000
    },
    "id": "UZYZadZjSzmd",
    "outputId": "0e353616-7dc7-4837-8f5a-52b5047c5c94"
   },
   "outputs": [
    {
     "name": "stdout",
     "output_type": "stream",
     "text": [
      "Fitting 3 folds for each of 36 candidates, totalling 108 fits\n"
     ]
    },
    {
     "name": "stderr",
     "output_type": "stream",
     "text": [
      "C:\\Users\\iyaro\\anaconda3\\lib\\site-packages\\lightgbm\\basic.py:2068: UserWarning: categorical_feature in Dataset is overridden.\n",
      "New categorical_feature is [0, 2, 3, 4, 8, 9, 10, 11, 12, 13, 14, 15, 16, 17, 18, 19, 20, 21]\n",
      "  _log_warning('categorical_feature in Dataset is overridden.\\n'\n"
     ]
    },
    {
     "name": "stdout",
     "output_type": "stream",
     "text": [
      "[CV] END boosting_type=dart, learning_rate=0.1, n_estimators=100, num_leaves=30; total time=   0.4s\n",
      "[CV] END boosting_type=dart, learning_rate=0.1, n_estimators=100, num_leaves=30; total time=   0.4s\n",
      "[CV] END boosting_type=dart, learning_rate=0.1, n_estimators=100, num_leaves=30; total time=   0.4s\n",
      "[CV] END boosting_type=dart, learning_rate=0.1, n_estimators=100, num_leaves=100; total time=   0.7s\n",
      "[CV] END boosting_type=dart, learning_rate=0.1, n_estimators=100, num_leaves=100; total time=   0.7s\n",
      "[CV] END boosting_type=dart, learning_rate=0.1, n_estimators=100, num_leaves=100; total time=   0.7s\n",
      "[CV] END boosting_type=dart, learning_rate=0.1, n_estimators=100, num_leaves=150; total time=   0.9s\n",
      "[CV] END boosting_type=dart, learning_rate=0.1, n_estimators=100, num_leaves=150; total time=   0.9s\n",
      "[CV] END boosting_type=dart, learning_rate=0.1, n_estimators=100, num_leaves=150; total time=   0.9s\n",
      "[CV] END boosting_type=dart, learning_rate=0.1, n_estimators=150, num_leaves=30; total time=   0.9s\n",
      "[CV] END boosting_type=dart, learning_rate=0.1, n_estimators=150, num_leaves=30; total time=   0.9s\n",
      "[CV] END boosting_type=dart, learning_rate=0.1, n_estimators=150, num_leaves=30; total time=   0.9s\n",
      "[CV] END boosting_type=dart, learning_rate=0.1, n_estimators=150, num_leaves=100; total time=   1.4s\n",
      "[CV] END boosting_type=dart, learning_rate=0.1, n_estimators=150, num_leaves=100; total time=   1.4s\n",
      "[CV] END boosting_type=dart, learning_rate=0.1, n_estimators=150, num_leaves=100; total time=   1.4s\n",
      "[CV] END boosting_type=dart, learning_rate=0.1, n_estimators=150, num_leaves=150; total time=   1.6s\n",
      "[CV] END boosting_type=dart, learning_rate=0.1, n_estimators=150, num_leaves=150; total time=   1.6s\n",
      "[CV] END boosting_type=dart, learning_rate=0.1, n_estimators=150, num_leaves=150; total time=   1.6s\n",
      "[CV] END boosting_type=dart, learning_rate=0.1, n_estimators=200, num_leaves=30; total time=   1.4s\n",
      "[CV] END boosting_type=dart, learning_rate=0.1, n_estimators=200, num_leaves=30; total time=   1.4s\n",
      "[CV] END boosting_type=dart, learning_rate=0.1, n_estimators=200, num_leaves=30; total time=   1.4s\n",
      "[CV] END boosting_type=dart, learning_rate=0.1, n_estimators=200, num_leaves=100; total time=   2.2s\n",
      "[CV] END boosting_type=dart, learning_rate=0.1, n_estimators=200, num_leaves=100; total time=   2.2s\n",
      "[CV] END boosting_type=dart, learning_rate=0.1, n_estimators=200, num_leaves=100; total time=   2.2s\n",
      "[CV] END boosting_type=dart, learning_rate=0.1, n_estimators=200, num_leaves=150; total time=   2.5s\n",
      "[CV] END boosting_type=dart, learning_rate=0.1, n_estimators=200, num_leaves=150; total time=   2.5s\n",
      "[CV] END boosting_type=dart, learning_rate=0.1, n_estimators=200, num_leaves=150; total time=   2.6s\n",
      "[CV] END boosting_type=dart, learning_rate=0.2, n_estimators=100, num_leaves=30; total time=   0.5s\n",
      "[CV] END boosting_type=dart, learning_rate=0.2, n_estimators=100, num_leaves=30; total time=   0.5s\n",
      "[CV] END boosting_type=dart, learning_rate=0.2, n_estimators=100, num_leaves=30; total time=   0.4s\n",
      "[CV] END boosting_type=dart, learning_rate=0.2, n_estimators=100, num_leaves=100; total time=   0.7s\n",
      "[CV] END boosting_type=dart, learning_rate=0.2, n_estimators=100, num_leaves=100; total time=   0.7s\n",
      "[CV] END boosting_type=dart, learning_rate=0.2, n_estimators=100, num_leaves=100; total time=   0.7s\n",
      "[CV] END boosting_type=dart, learning_rate=0.2, n_estimators=100, num_leaves=150; total time=   0.9s\n",
      "[CV] END boosting_type=dart, learning_rate=0.2, n_estimators=100, num_leaves=150; total time=   0.9s\n",
      "[CV] END boosting_type=dart, learning_rate=0.2, n_estimators=100, num_leaves=150; total time=   0.9s\n",
      "[CV] END boosting_type=dart, learning_rate=0.2, n_estimators=150, num_leaves=30; total time=   0.9s\n",
      "[CV] END boosting_type=dart, learning_rate=0.2, n_estimators=150, num_leaves=30; total time=   0.8s\n",
      "[CV] END boosting_type=dart, learning_rate=0.2, n_estimators=150, num_leaves=30; total time=   0.9s\n",
      "[CV] END boosting_type=dart, learning_rate=0.2, n_estimators=150, num_leaves=100; total time=   1.4s\n",
      "[CV] END boosting_type=dart, learning_rate=0.2, n_estimators=150, num_leaves=100; total time=   1.5s\n",
      "[CV] END boosting_type=dart, learning_rate=0.2, n_estimators=150, num_leaves=100; total time=   1.5s\n",
      "[CV] END boosting_type=dart, learning_rate=0.2, n_estimators=150, num_leaves=150; total time=   1.6s\n",
      "[CV] END boosting_type=dart, learning_rate=0.2, n_estimators=150, num_leaves=150; total time=   1.6s\n",
      "[CV] END boosting_type=dart, learning_rate=0.2, n_estimators=150, num_leaves=150; total time=   1.6s\n",
      "[CV] END boosting_type=dart, learning_rate=0.2, n_estimators=200, num_leaves=30; total time=   1.4s\n",
      "[CV] END boosting_type=dart, learning_rate=0.2, n_estimators=200, num_leaves=30; total time=   1.4s\n",
      "[CV] END boosting_type=dart, learning_rate=0.2, n_estimators=200, num_leaves=30; total time=   1.4s\n",
      "[CV] END boosting_type=dart, learning_rate=0.2, n_estimators=200, num_leaves=100; total time=   2.1s\n",
      "[CV] END boosting_type=dart, learning_rate=0.2, n_estimators=200, num_leaves=100; total time=   2.1s\n",
      "[CV] END boosting_type=dart, learning_rate=0.2, n_estimators=200, num_leaves=100; total time=   2.1s\n",
      "[CV] END boosting_type=dart, learning_rate=0.2, n_estimators=200, num_leaves=150; total time=   2.5s\n",
      "[CV] END boosting_type=dart, learning_rate=0.2, n_estimators=200, num_leaves=150; total time=   2.6s\n",
      "[CV] END boosting_type=dart, learning_rate=0.2, n_estimators=200, num_leaves=150; total time=   2.5s\n",
      "[CV] END boosting_type=dart, learning_rate=0.30000000000000004, n_estimators=100, num_leaves=30; total time=   0.4s\n",
      "[CV] END boosting_type=dart, learning_rate=0.30000000000000004, n_estimators=100, num_leaves=30; total time=   0.4s\n",
      "[CV] END boosting_type=dart, learning_rate=0.30000000000000004, n_estimators=100, num_leaves=30; total time=   0.4s\n",
      "[CV] END boosting_type=dart, learning_rate=0.30000000000000004, n_estimators=100, num_leaves=100; total time=   0.7s\n",
      "[CV] END boosting_type=dart, learning_rate=0.30000000000000004, n_estimators=100, num_leaves=100; total time=   0.7s\n",
      "[CV] END boosting_type=dart, learning_rate=0.30000000000000004, n_estimators=100, num_leaves=100; total time=   0.7s\n",
      "[CV] END boosting_type=dart, learning_rate=0.30000000000000004, n_estimators=100, num_leaves=150; total time=   0.9s\n",
      "[CV] END boosting_type=dart, learning_rate=0.30000000000000004, n_estimators=100, num_leaves=150; total time=   0.9s\n",
      "[CV] END boosting_type=dart, learning_rate=0.30000000000000004, n_estimators=100, num_leaves=150; total time=   0.9s\n",
      "[CV] END boosting_type=dart, learning_rate=0.30000000000000004, n_estimators=150, num_leaves=30; total time=   0.8s\n",
      "[CV] END boosting_type=dart, learning_rate=0.30000000000000004, n_estimators=150, num_leaves=30; total time=   0.8s\n",
      "[CV] END boosting_type=dart, learning_rate=0.30000000000000004, n_estimators=150, num_leaves=30; total time=   0.8s\n",
      "[CV] END boosting_type=dart, learning_rate=0.30000000000000004, n_estimators=150, num_leaves=100; total time=   1.3s\n",
      "[CV] END boosting_type=dart, learning_rate=0.30000000000000004, n_estimators=150, num_leaves=100; total time=   1.3s\n",
      "[CV] END boosting_type=dart, learning_rate=0.30000000000000004, n_estimators=150, num_leaves=100; total time=   1.3s\n",
      "[CV] END boosting_type=dart, learning_rate=0.30000000000000004, n_estimators=150, num_leaves=150; total time=   1.6s\n",
      "[CV] END boosting_type=dart, learning_rate=0.30000000000000004, n_estimators=150, num_leaves=150; total time=   1.6s\n",
      "[CV] END boosting_type=dart, learning_rate=0.30000000000000004, n_estimators=150, num_leaves=150; total time=   1.6s\n",
      "[CV] END boosting_type=dart, learning_rate=0.30000000000000004, n_estimators=200, num_leaves=30; total time=   1.3s\n",
      "[CV] END boosting_type=dart, learning_rate=0.30000000000000004, n_estimators=200, num_leaves=30; total time=   1.2s\n",
      "[CV] END boosting_type=dart, learning_rate=0.30000000000000004, n_estimators=200, num_leaves=30; total time=   1.3s\n",
      "[CV] END boosting_type=dart, learning_rate=0.30000000000000004, n_estimators=200, num_leaves=100; total time=   2.1s\n",
      "[CV] END boosting_type=dart, learning_rate=0.30000000000000004, n_estimators=200, num_leaves=100; total time=   2.0s\n",
      "[CV] END boosting_type=dart, learning_rate=0.30000000000000004, n_estimators=200, num_leaves=100; total time=   2.0s\n"
     ]
    },
    {
     "name": "stdout",
     "output_type": "stream",
     "text": [
      "[CV] END boosting_type=dart, learning_rate=0.30000000000000004, n_estimators=200, num_leaves=150; total time=   2.5s\n",
      "[CV] END boosting_type=dart, learning_rate=0.30000000000000004, n_estimators=200, num_leaves=150; total time=   2.8s\n",
      "[CV] END boosting_type=dart, learning_rate=0.30000000000000004, n_estimators=200, num_leaves=150; total time=   2.5s\n",
      "[CV] END boosting_type=dart, learning_rate=0.4, n_estimators=100, num_leaves=30; total time=   0.4s\n",
      "[CV] END boosting_type=dart, learning_rate=0.4, n_estimators=100, num_leaves=30; total time=   0.4s\n",
      "[CV] END boosting_type=dart, learning_rate=0.4, n_estimators=100, num_leaves=30; total time=   0.4s\n",
      "[CV] END boosting_type=dart, learning_rate=0.4, n_estimators=100, num_leaves=100; total time=   0.6s\n",
      "[CV] END boosting_type=dart, learning_rate=0.4, n_estimators=100, num_leaves=100; total time=   0.7s\n",
      "[CV] END boosting_type=dart, learning_rate=0.4, n_estimators=100, num_leaves=100; total time=   0.7s\n",
      "[CV] END boosting_type=dart, learning_rate=0.4, n_estimators=100, num_leaves=150; total time=   0.8s\n",
      "[CV] END boosting_type=dart, learning_rate=0.4, n_estimators=100, num_leaves=150; total time=   0.9s\n",
      "[CV] END boosting_type=dart, learning_rate=0.4, n_estimators=100, num_leaves=150; total time=   0.8s\n",
      "[CV] END boosting_type=dart, learning_rate=0.4, n_estimators=150, num_leaves=30; total time=   0.7s\n",
      "[CV] END boosting_type=dart, learning_rate=0.4, n_estimators=150, num_leaves=30; total time=   0.8s\n",
      "[CV] END boosting_type=dart, learning_rate=0.4, n_estimators=150, num_leaves=30; total time=   0.7s\n",
      "[CV] END boosting_type=dart, learning_rate=0.4, n_estimators=150, num_leaves=100; total time=   1.2s\n",
      "[CV] END boosting_type=dart, learning_rate=0.4, n_estimators=150, num_leaves=100; total time=   1.3s\n",
      "[CV] END boosting_type=dart, learning_rate=0.4, n_estimators=150, num_leaves=100; total time=   1.3s\n",
      "[CV] END boosting_type=dart, learning_rate=0.4, n_estimators=150, num_leaves=150; total time=   1.6s\n",
      "[CV] END boosting_type=dart, learning_rate=0.4, n_estimators=150, num_leaves=150; total time=   1.6s\n",
      "[CV] END boosting_type=dart, learning_rate=0.4, n_estimators=150, num_leaves=150; total time=   1.6s\n",
      "[CV] END boosting_type=dart, learning_rate=0.4, n_estimators=200, num_leaves=30; total time=   1.2s\n",
      "[CV] END boosting_type=dart, learning_rate=0.4, n_estimators=200, num_leaves=30; total time=   1.2s\n",
      "[CV] END boosting_type=dart, learning_rate=0.4, n_estimators=200, num_leaves=30; total time=   1.2s\n",
      "[CV] END boosting_type=dart, learning_rate=0.4, n_estimators=200, num_leaves=100; total time=   1.9s\n",
      "[CV] END boosting_type=dart, learning_rate=0.4, n_estimators=200, num_leaves=100; total time=   2.0s\n",
      "[CV] END boosting_type=dart, learning_rate=0.4, n_estimators=200, num_leaves=100; total time=   2.0s\n",
      "[CV] END boosting_type=dart, learning_rate=0.4, n_estimators=200, num_leaves=150; total time=   2.4s\n",
      "[CV] END boosting_type=dart, learning_rate=0.4, n_estimators=200, num_leaves=150; total time=   2.5s\n",
      "[CV] END boosting_type=dart, learning_rate=0.4, n_estimators=200, num_leaves=150; total time=   2.4s\n",
      "Wall time: 2min 33s\n"
     ]
    },
    {
     "data": {
      "text/html": [
       "<style>#sk-container-id-1 {color: black;background-color: white;}#sk-container-id-1 pre{padding: 0;}#sk-container-id-1 div.sk-toggleable {background-color: white;}#sk-container-id-1 label.sk-toggleable__label {cursor: pointer;display: block;width: 100%;margin-bottom: 0;padding: 0.3em;box-sizing: border-box;text-align: center;}#sk-container-id-1 label.sk-toggleable__label-arrow:before {content: \"▸\";float: left;margin-right: 0.25em;color: #696969;}#sk-container-id-1 label.sk-toggleable__label-arrow:hover:before {color: black;}#sk-container-id-1 div.sk-estimator:hover label.sk-toggleable__label-arrow:before {color: black;}#sk-container-id-1 div.sk-toggleable__content {max-height: 0;max-width: 0;overflow: hidden;text-align: left;background-color: #f0f8ff;}#sk-container-id-1 div.sk-toggleable__content pre {margin: 0.2em;color: black;border-radius: 0.25em;background-color: #f0f8ff;}#sk-container-id-1 input.sk-toggleable__control:checked~div.sk-toggleable__content {max-height: 200px;max-width: 100%;overflow: auto;}#sk-container-id-1 input.sk-toggleable__control:checked~label.sk-toggleable__label-arrow:before {content: \"▾\";}#sk-container-id-1 div.sk-estimator input.sk-toggleable__control:checked~label.sk-toggleable__label {background-color: #d4ebff;}#sk-container-id-1 div.sk-label input.sk-toggleable__control:checked~label.sk-toggleable__label {background-color: #d4ebff;}#sk-container-id-1 input.sk-hidden--visually {border: 0;clip: rect(1px 1px 1px 1px);clip: rect(1px, 1px, 1px, 1px);height: 1px;margin: -1px;overflow: hidden;padding: 0;position: absolute;width: 1px;}#sk-container-id-1 div.sk-estimator {font-family: monospace;background-color: #f0f8ff;border: 1px dotted black;border-radius: 0.25em;box-sizing: border-box;margin-bottom: 0.5em;}#sk-container-id-1 div.sk-estimator:hover {background-color: #d4ebff;}#sk-container-id-1 div.sk-parallel-item::after {content: \"\";width: 100%;border-bottom: 1px solid gray;flex-grow: 1;}#sk-container-id-1 div.sk-label:hover label.sk-toggleable__label {background-color: #d4ebff;}#sk-container-id-1 div.sk-serial::before {content: \"\";position: absolute;border-left: 1px solid gray;box-sizing: border-box;top: 0;bottom: 0;left: 50%;z-index: 0;}#sk-container-id-1 div.sk-serial {display: flex;flex-direction: column;align-items: center;background-color: white;padding-right: 0.2em;padding-left: 0.2em;position: relative;}#sk-container-id-1 div.sk-item {position: relative;z-index: 1;}#sk-container-id-1 div.sk-parallel {display: flex;align-items: stretch;justify-content: center;background-color: white;position: relative;}#sk-container-id-1 div.sk-item::before, #sk-container-id-1 div.sk-parallel-item::before {content: \"\";position: absolute;border-left: 1px solid gray;box-sizing: border-box;top: 0;bottom: 0;left: 50%;z-index: -1;}#sk-container-id-1 div.sk-parallel-item {display: flex;flex-direction: column;z-index: 1;position: relative;background-color: white;}#sk-container-id-1 div.sk-parallel-item:first-child::after {align-self: flex-end;width: 50%;}#sk-container-id-1 div.sk-parallel-item:last-child::after {align-self: flex-start;width: 50%;}#sk-container-id-1 div.sk-parallel-item:only-child::after {width: 0;}#sk-container-id-1 div.sk-dashed-wrapped {border: 1px dashed gray;margin: 0 0.4em 0.5em 0.4em;box-sizing: border-box;padding-bottom: 0.4em;background-color: white;}#sk-container-id-1 div.sk-label label {font-family: monospace;font-weight: bold;display: inline-block;line-height: 1.2em;}#sk-container-id-1 div.sk-label-container {text-align: center;}#sk-container-id-1 div.sk-container {/* jupyter's `normalize.less` sets `[hidden] { display: none; }` but bootstrap.min.css set `[hidden] { display: none !important; }` so we also need the `!important` here to be able to override the default hidden behavior on the sphinx rendered scikit-learn.org. See: https://github.com/scikit-learn/scikit-learn/issues/21755 */display: inline-block !important;position: relative;}#sk-container-id-1 div.sk-text-repr-fallback {display: none;}</style><div id=\"sk-container-id-1\" class=\"sk-top-container\"><div class=\"sk-text-repr-fallback\"><pre>GridSearchCV(cv=3, estimator=LGBMClassifier(),\n",
       "             param_grid={&#x27;boosting_type&#x27;: [&#x27;dart&#x27;],\n",
       "                         &#x27;learning_rate&#x27;: array([0.1, 0.2, 0.3, 0.4]),\n",
       "                         &#x27;n_estimators&#x27;: [100, 150, 200],\n",
       "                         &#x27;num_leaves&#x27;: [30, 100, 150]},\n",
       "             scoring=make_scorer(f1_score), verbose=2)</pre><b>In a Jupyter environment, please rerun this cell to show the HTML representation or trust the notebook. <br />On GitHub, the HTML representation is unable to render, please try loading this page with nbviewer.org.</b></div><div class=\"sk-container\" hidden><div class=\"sk-item sk-dashed-wrapped\"><div class=\"sk-label-container\"><div class=\"sk-label sk-toggleable\"><input class=\"sk-toggleable__control sk-hidden--visually\" id=\"sk-estimator-id-1\" type=\"checkbox\" ><label for=\"sk-estimator-id-1\" class=\"sk-toggleable__label sk-toggleable__label-arrow\">GridSearchCV</label><div class=\"sk-toggleable__content\"><pre>GridSearchCV(cv=3, estimator=LGBMClassifier(),\n",
       "             param_grid={&#x27;boosting_type&#x27;: [&#x27;dart&#x27;],\n",
       "                         &#x27;learning_rate&#x27;: array([0.1, 0.2, 0.3, 0.4]),\n",
       "                         &#x27;n_estimators&#x27;: [100, 150, 200],\n",
       "                         &#x27;num_leaves&#x27;: [30, 100, 150]},\n",
       "             scoring=make_scorer(f1_score), verbose=2)</pre></div></div></div><div class=\"sk-parallel\"><div class=\"sk-parallel-item\"><div class=\"sk-item\"><div class=\"sk-label-container\"><div class=\"sk-label sk-toggleable\"><input class=\"sk-toggleable__control sk-hidden--visually\" id=\"sk-estimator-id-2\" type=\"checkbox\" ><label for=\"sk-estimator-id-2\" class=\"sk-toggleable__label sk-toggleable__label-arrow\">estimator: LGBMClassifier</label><div class=\"sk-toggleable__content\"><pre>LGBMClassifier()</pre></div></div></div><div class=\"sk-serial\"><div class=\"sk-item\"><div class=\"sk-estimator sk-toggleable\"><input class=\"sk-toggleable__control sk-hidden--visually\" id=\"sk-estimator-id-3\" type=\"checkbox\" ><label for=\"sk-estimator-id-3\" class=\"sk-toggleable__label sk-toggleable__label-arrow\">LGBMClassifier</label><div class=\"sk-toggleable__content\"><pre>LGBMClassifier()</pre></div></div></div></div></div></div></div></div></div></div>"
      ],
      "text/plain": [
       "GridSearchCV(cv=3, estimator=LGBMClassifier(),\n",
       "             param_grid={'boosting_type': ['dart'],\n",
       "                         'learning_rate': array([0.1, 0.2, 0.3, 0.4]),\n",
       "                         'n_estimators': [100, 150, 200],\n",
       "                         'num_leaves': [30, 100, 150]},\n",
       "             scoring=make_scorer(f1_score), verbose=2)"
      ]
     },
     "execution_count": 55,
     "metadata": {},
     "output_type": "execute_result"
    }
   ],
   "source": [
    "%%time\n",
    "cat_features = [0, 2, 3, 4, 8, 9, 10, 11, 12, 13, 14, 15, 16, 17, 18, 19, 20, 21]\n",
    "\n",
    "f1_scorer = make_scorer(f1_score)\n",
    "\n",
    "train_data = lgb.Dataset(x_train, label=y_train)\n",
    "train_data.set_categorical_feature(cat_features)\n",
    "\n",
    "model_lgb = lgb.LGBMClassifier()\n",
    "\n",
    "param_grid_lgb = {\n",
    "    'boosting_type': ['dart'],\n",
    "    'num_leaves': [30, 100, 150],\n",
    "    'learning_rate': np.arange(0.1, 0.5, 0.1),\n",
    "    'n_estimators': [100, 150, 200]\n",
    "}\n",
    "\n",
    "grid_lgb = GridSearchCV(estimator=model_lgb, param_grid=param_grid_lgb, scoring=f1_scorer, cv=3, verbose=2)\n",
    "\n",
    "grid_lgb.fit(train_data.data, train_data.label)\n",
    "\n"
   ]
  },
  {
   "cell_type": "code",
   "execution_count": 56,
   "metadata": {
    "colab": {
     "base_uri": "https://localhost:8080/"
    },
    "id": "k5yv5LMjXn7Q",
    "outputId": "bb9a54c4-c132-4701-c1be-a654efbcaf5e"
   },
   "outputs": [
    {
     "name": "stdout",
     "output_type": "stream",
     "text": [
      "Best parameters: {'boosting_type': 'dart', 'learning_rate': 0.2, 'n_estimators': 200, 'num_leaves': 30}\n",
      "Best f1 score lgb: 0.8878887969945448\n",
      "Best Recall lgb 0.8774933249568085\n",
      "Best Precision lgb: 0.9050704681678277\n",
      "Best Roc-Auc 0.9671365692654621\n"
     ]
    }
   ],
   "source": [
    "\n",
    "best_model_lgb = grid_lgb.best_estimator_\n",
    "y_pred = best_model_lgb.predict(x_valid)\n",
    "\n",
    "\n",
    "recall_lgb = recall_score(y_valid, y_pred)\n",
    "precision_lgb = precision_score(y_valid, y_pred)\n",
    "roc_auc_lgb = roc_auc_score(y_valid, best_model_lgb.predict_proba(x_valid)[:,1])\n",
    "print(\"Best parameters:\", grid_lgb.best_params_)\n",
    "print(\"Best f1 score lgb:\", grid_lgb.best_score_)\n",
    "print(\"Best Recall lgb\", recall_lgb)\n",
    "print(\"Best Precision lgb:\", precision_lgb)\n",
    "print(\"Best Roc-Auc\", roc_auc_lgb)\n",
    "\n"
   ]
  },
  {
   "cell_type": "code",
   "execution_count": 57,
   "metadata": {},
   "outputs": [],
   "source": [
    "with open(r'C:\\Users\\iyaro\\OneDrive\\Документы\\-\\Классификация_удовлитворенности_полетом(миникурс_ВШЭ)\\model_weights.pkl', 'wb') as file:\n",
    "    pickle.dump(best_model_lgb, file)\n"
   ]
  },
  {
   "cell_type": "markdown",
   "metadata": {
    "id": "LKqbWRMsspOS"
   },
   "source": [
    "Подготовим признаки для случайного леса."
   ]
  },
  {
   "cell_type": "code",
   "execution_count": 58,
   "metadata": {
    "id": "6Wrct-DAbJe_"
   },
   "outputs": [],
   "source": [
    "x_train_ord = x_train.copy()\n",
    "x_valid_ord = x_valid.copy()\n",
    "x_test_ord = x_test.copy()\n",
    "\n",
    "encoder = OrdinalEncoder(handle_unknown='use_encoded_value', unknown_value=RANDOM_STATE)\n",
    "cat_columns = ['gender', 'customer_type', 'type_of_travel','class', 'inflight_wifi_service', 'departure_arrival_time_convenient', 'ease_of_online_booking', 'gate_location',\n",
    "   'food_and_drink', 'online_boarding', 'seat_comfort', 'inflight_entertainment', 'on_board_service', 'leg_room_service',\n",
    "   'baggage_handling', 'checkin_service', 'inflight_service', 'cleanliness']\n",
    "encoder.fit(x_train[cat_columns])\n",
    "\n",
    "x_train_ord[cat_columns] = encoder.transform(x_train_ord[cat_columns])\n",
    "x_valid_ord[cat_columns] = encoder.transform(x_valid_ord[cat_columns])\n",
    "x_test_ord[cat_columns] = encoder.transform(x_test_ord[cat_columns])"
   ]
  },
  {
   "cell_type": "code",
   "execution_count": 59,
   "metadata": {
    "id": "DSSKMCdtp9mv"
   },
   "outputs": [],
   "source": [
    "scaler = StandardScaler()\n",
    "scaler.fit(x_train_ord)\n",
    "\n",
    "x_train_sca = scaler.transform(x_train_ord)\n",
    "x_valid_sca = scaler.transform(x_valid_ord)\n",
    "x_test_sca = scaler.transform(x_test_ord)"
   ]
  },
  {
   "cell_type": "code",
   "execution_count": 60,
   "metadata": {
    "colab": {
     "base_uri": "https://localhost:8080/",
     "height": 1000
    },
    "id": "XMpo1EdvrdI_",
    "outputId": "6eed0aac-5875-442f-e9a0-4189730d7ed8"
   },
   "outputs": [
    {
     "name": "stdout",
     "output_type": "stream",
     "text": [
      "Fitting 3 folds for each of 10 candidates, totalling 30 fits\n",
      "[CV] END ......................max_depth=17, n_estimators=40; total time=   1.2s\n",
      "[CV] END ......................max_depth=17, n_estimators=40; total time=   1.1s\n",
      "[CV] END ......................max_depth=17, n_estimators=40; total time=   1.1s\n",
      "[CV] END ......................max_depth=17, n_estimators=70; total time=   2.1s\n",
      "[CV] END ......................max_depth=17, n_estimators=70; total time=   2.0s\n",
      "[CV] END ......................max_depth=17, n_estimators=70; total time=   2.0s\n",
      "[CV] END .....................max_depth=17, n_estimators=110; total time=   3.4s\n",
      "[CV] END .....................max_depth=17, n_estimators=110; total time=   3.3s\n",
      "[CV] END .....................max_depth=17, n_estimators=110; total time=   3.4s\n",
      "[CV] END .....................max_depth=17, n_estimators=130; total time=   4.0s\n",
      "[CV] END .....................max_depth=17, n_estimators=130; total time=   4.0s\n",
      "[CV] END .....................max_depth=17, n_estimators=130; total time=   4.0s\n",
      "[CV] END .....................max_depth=17, n_estimators=150; total time=   4.6s\n",
      "[CV] END .....................max_depth=17, n_estimators=150; total time=   4.6s\n",
      "[CV] END .....................max_depth=17, n_estimators=150; total time=   4.5s\n",
      "[CV] END ......................max_depth=19, n_estimators=40; total time=   1.2s\n",
      "[CV] END ......................max_depth=19, n_estimators=40; total time=   1.2s\n",
      "[CV] END ......................max_depth=19, n_estimators=40; total time=   1.2s\n",
      "[CV] END ......................max_depth=19, n_estimators=70; total time=   2.1s\n",
      "[CV] END ......................max_depth=19, n_estimators=70; total time=   2.1s\n",
      "[CV] END ......................max_depth=19, n_estimators=70; total time=   2.2s\n",
      "[CV] END .....................max_depth=19, n_estimators=110; total time=   3.4s\n",
      "[CV] END .....................max_depth=19, n_estimators=110; total time=   3.3s\n",
      "[CV] END .....................max_depth=19, n_estimators=110; total time=   3.4s\n",
      "[CV] END .....................max_depth=19, n_estimators=130; total time=   4.0s\n",
      "[CV] END .....................max_depth=19, n_estimators=130; total time=   4.0s\n",
      "[CV] END .....................max_depth=19, n_estimators=130; total time=   4.1s\n",
      "[CV] END .....................max_depth=19, n_estimators=150; total time=   4.6s\n",
      "[CV] END .....................max_depth=19, n_estimators=150; total time=   4.6s\n",
      "[CV] END .....................max_depth=19, n_estimators=150; total time=   4.5s\n",
      "Wall time: 1min 40s\n"
     ]
    },
    {
     "data": {
      "text/html": [
       "<style>#sk-container-id-2 {color: black;background-color: white;}#sk-container-id-2 pre{padding: 0;}#sk-container-id-2 div.sk-toggleable {background-color: white;}#sk-container-id-2 label.sk-toggleable__label {cursor: pointer;display: block;width: 100%;margin-bottom: 0;padding: 0.3em;box-sizing: border-box;text-align: center;}#sk-container-id-2 label.sk-toggleable__label-arrow:before {content: \"▸\";float: left;margin-right: 0.25em;color: #696969;}#sk-container-id-2 label.sk-toggleable__label-arrow:hover:before {color: black;}#sk-container-id-2 div.sk-estimator:hover label.sk-toggleable__label-arrow:before {color: black;}#sk-container-id-2 div.sk-toggleable__content {max-height: 0;max-width: 0;overflow: hidden;text-align: left;background-color: #f0f8ff;}#sk-container-id-2 div.sk-toggleable__content pre {margin: 0.2em;color: black;border-radius: 0.25em;background-color: #f0f8ff;}#sk-container-id-2 input.sk-toggleable__control:checked~div.sk-toggleable__content {max-height: 200px;max-width: 100%;overflow: auto;}#sk-container-id-2 input.sk-toggleable__control:checked~label.sk-toggleable__label-arrow:before {content: \"▾\";}#sk-container-id-2 div.sk-estimator input.sk-toggleable__control:checked~label.sk-toggleable__label {background-color: #d4ebff;}#sk-container-id-2 div.sk-label input.sk-toggleable__control:checked~label.sk-toggleable__label {background-color: #d4ebff;}#sk-container-id-2 input.sk-hidden--visually {border: 0;clip: rect(1px 1px 1px 1px);clip: rect(1px, 1px, 1px, 1px);height: 1px;margin: -1px;overflow: hidden;padding: 0;position: absolute;width: 1px;}#sk-container-id-2 div.sk-estimator {font-family: monospace;background-color: #f0f8ff;border: 1px dotted black;border-radius: 0.25em;box-sizing: border-box;margin-bottom: 0.5em;}#sk-container-id-2 div.sk-estimator:hover {background-color: #d4ebff;}#sk-container-id-2 div.sk-parallel-item::after {content: \"\";width: 100%;border-bottom: 1px solid gray;flex-grow: 1;}#sk-container-id-2 div.sk-label:hover label.sk-toggleable__label {background-color: #d4ebff;}#sk-container-id-2 div.sk-serial::before {content: \"\";position: absolute;border-left: 1px solid gray;box-sizing: border-box;top: 0;bottom: 0;left: 50%;z-index: 0;}#sk-container-id-2 div.sk-serial {display: flex;flex-direction: column;align-items: center;background-color: white;padding-right: 0.2em;padding-left: 0.2em;position: relative;}#sk-container-id-2 div.sk-item {position: relative;z-index: 1;}#sk-container-id-2 div.sk-parallel {display: flex;align-items: stretch;justify-content: center;background-color: white;position: relative;}#sk-container-id-2 div.sk-item::before, #sk-container-id-2 div.sk-parallel-item::before {content: \"\";position: absolute;border-left: 1px solid gray;box-sizing: border-box;top: 0;bottom: 0;left: 50%;z-index: -1;}#sk-container-id-2 div.sk-parallel-item {display: flex;flex-direction: column;z-index: 1;position: relative;background-color: white;}#sk-container-id-2 div.sk-parallel-item:first-child::after {align-self: flex-end;width: 50%;}#sk-container-id-2 div.sk-parallel-item:last-child::after {align-self: flex-start;width: 50%;}#sk-container-id-2 div.sk-parallel-item:only-child::after {width: 0;}#sk-container-id-2 div.sk-dashed-wrapped {border: 1px dashed gray;margin: 0 0.4em 0.5em 0.4em;box-sizing: border-box;padding-bottom: 0.4em;background-color: white;}#sk-container-id-2 div.sk-label label {font-family: monospace;font-weight: bold;display: inline-block;line-height: 1.2em;}#sk-container-id-2 div.sk-label-container {text-align: center;}#sk-container-id-2 div.sk-container {/* jupyter's `normalize.less` sets `[hidden] { display: none; }` but bootstrap.min.css set `[hidden] { display: none !important; }` so we also need the `!important` here to be able to override the default hidden behavior on the sphinx rendered scikit-learn.org. See: https://github.com/scikit-learn/scikit-learn/issues/21755 */display: inline-block !important;position: relative;}#sk-container-id-2 div.sk-text-repr-fallback {display: none;}</style><div id=\"sk-container-id-2\" class=\"sk-top-container\"><div class=\"sk-text-repr-fallback\"><pre>GridSearchCV(cv=3, estimator=RandomForestClassifier(random_state=42),\n",
       "             param_grid={&#x27;max_depth&#x27;: array([17, 19]),\n",
       "                         &#x27;n_estimators&#x27;: [40, 70, 110, 130, 150]},\n",
       "             scoring=make_scorer(f1_score), verbose=2)</pre><b>In a Jupyter environment, please rerun this cell to show the HTML representation or trust the notebook. <br />On GitHub, the HTML representation is unable to render, please try loading this page with nbviewer.org.</b></div><div class=\"sk-container\" hidden><div class=\"sk-item sk-dashed-wrapped\"><div class=\"sk-label-container\"><div class=\"sk-label sk-toggleable\"><input class=\"sk-toggleable__control sk-hidden--visually\" id=\"sk-estimator-id-4\" type=\"checkbox\" ><label for=\"sk-estimator-id-4\" class=\"sk-toggleable__label sk-toggleable__label-arrow\">GridSearchCV</label><div class=\"sk-toggleable__content\"><pre>GridSearchCV(cv=3, estimator=RandomForestClassifier(random_state=42),\n",
       "             param_grid={&#x27;max_depth&#x27;: array([17, 19]),\n",
       "                         &#x27;n_estimators&#x27;: [40, 70, 110, 130, 150]},\n",
       "             scoring=make_scorer(f1_score), verbose=2)</pre></div></div></div><div class=\"sk-parallel\"><div class=\"sk-parallel-item\"><div class=\"sk-item\"><div class=\"sk-label-container\"><div class=\"sk-label sk-toggleable\"><input class=\"sk-toggleable__control sk-hidden--visually\" id=\"sk-estimator-id-5\" type=\"checkbox\" ><label for=\"sk-estimator-id-5\" class=\"sk-toggleable__label sk-toggleable__label-arrow\">estimator: RandomForestClassifier</label><div class=\"sk-toggleable__content\"><pre>RandomForestClassifier(random_state=42)</pre></div></div></div><div class=\"sk-serial\"><div class=\"sk-item\"><div class=\"sk-estimator sk-toggleable\"><input class=\"sk-toggleable__control sk-hidden--visually\" id=\"sk-estimator-id-6\" type=\"checkbox\" ><label for=\"sk-estimator-id-6\" class=\"sk-toggleable__label sk-toggleable__label-arrow\">RandomForestClassifier</label><div class=\"sk-toggleable__content\"><pre>RandomForestClassifier(random_state=42)</pre></div></div></div></div></div></div></div></div></div></div>"
      ],
      "text/plain": [
       "GridSearchCV(cv=3, estimator=RandomForestClassifier(random_state=42),\n",
       "             param_grid={'max_depth': array([17, 19]),\n",
       "                         'n_estimators': [40, 70, 110, 130, 150]},\n",
       "             scoring=make_scorer(f1_score), verbose=2)"
      ]
     },
     "execution_count": 60,
     "metadata": {},
     "output_type": "execute_result"
    }
   ],
   "source": [
    "%%time\n",
    "model_forest =  RandomForestClassifier(random_state=RANDOM_STATE)\n",
    "param_forest_grid = {'max_depth': np.arange(17, 21, 2),\n",
    "                 'n_estimators':[40,70,110,130,150]}\n",
    "grid_forest = GridSearchCV(estimator=model_forest, param_grid=param_forest_grid, cv=3, verbose=2,scoring=f1_scorer)\n",
    "grid_forest.fit(x_train_sca, y_train)"
   ]
  },
  {
   "cell_type": "code",
   "execution_count": 61,
   "metadata": {
    "colab": {
     "base_uri": "https://localhost:8080/"
    },
    "id": "YJ1XlQ77tJi-",
    "outputId": "5b0c751b-229b-4df4-c654-c4bfabe0c85f"
   },
   "outputs": [
    {
     "name": "stdout",
     "output_type": "stream",
     "text": [
      "Best parameters: {'max_depth': 17, 'n_estimators': 150}\n",
      "Best f1 score forest: 0.8829243976948611\n",
      "Best Recall forest 0.8713679912046489\n",
      "Best Precision forest: 0.8994082840236687\n",
      "Best Roc-Auc 0.7509247504539613\n"
     ]
    }
   ],
   "source": [
    "best_model_for = grid_forest.best_estimator_\n",
    "y_pred_for = best_model_for.predict(x_valid_sca)\n",
    "\n",
    "\n",
    "recall_for = recall_score(y_valid, y_pred_for)\n",
    "precision_for = precision_score(y_valid, y_pred_for)\n",
    "roc_auc_for = roc_auc_score(y_valid, best_model_lgb.predict_proba(x_valid_sca)[:,1])\n",
    "\n",
    "print(\"Best parameters:\", grid_forest.best_params_)\n",
    "print(\"Best f1 score forest:\", grid_forest.best_score_)\n",
    "print(\"Best Recall forest\", recall_for)\n",
    "print(\"Best Precision forest:\", precision_for)\n",
    "print(\"Best Roc-Auc\", roc_auc_for)\n"
   ]
  },
  {
   "cell_type": "code",
   "execution_count": 62,
   "metadata": {},
   "outputs": [],
   "source": [
    "with open(r'C:\\Users\\iyaro\\OneDrive\\Документы\\-\\Классификация_удовлитворенности_полетом(миникурс_ВШЭ)\\model_weights1.pkl', 'wb') as file:\n",
    "    pickle.dump(best_model_for, file)\n"
   ]
  },
  {
   "cell_type": "code",
   "execution_count": 63,
   "metadata": {
    "colab": {
     "base_uri": "https://localhost:8080/"
    },
    "id": "oUdK_FxRt68h",
    "outputId": "c191e3f4-555d-4f9b-b43f-913dcb12a326"
   },
   "outputs": [
    {
     "name": "stdout",
     "output_type": "stream",
     "text": [
      "<class 'pandas.core.frame.DataFrame'>\n",
      "RangeIndex: 29632 entries, 0 to 29631\n",
      "Data columns (total 83 columns):\n",
      " #   Column                      Non-Null Count  Dtype  \n",
      "---  ------                      --------------  -----  \n",
      " 0   0                           29632 non-null  float64\n",
      " 1   1                           29632 non-null  float64\n",
      " 2   2                           29632 non-null  float64\n",
      " 3   3                           29632 non-null  float64\n",
      " 4   4                           29632 non-null  float64\n",
      " 5   5                           29632 non-null  float64\n",
      " 6   6                           29632 non-null  float64\n",
      " 7   7                           29632 non-null  float64\n",
      " 8   8                           29632 non-null  float64\n",
      " 9   9                           29632 non-null  float64\n",
      " 10  10                          29632 non-null  float64\n",
      " 11  11                          29632 non-null  float64\n",
      " 12  12                          29632 non-null  float64\n",
      " 13  13                          29632 non-null  float64\n",
      " 14  14                          29632 non-null  float64\n",
      " 15  15                          29632 non-null  float64\n",
      " 16  16                          29632 non-null  float64\n",
      " 17  17                          29632 non-null  float64\n",
      " 18  18                          29632 non-null  float64\n",
      " 19  19                          29632 non-null  float64\n",
      " 20  20                          29632 non-null  float64\n",
      " 21  21                          29632 non-null  float64\n",
      " 22  22                          29632 non-null  float64\n",
      " 23  23                          29632 non-null  float64\n",
      " 24  24                          29632 non-null  float64\n",
      " 25  25                          29632 non-null  float64\n",
      " 26  26                          29632 non-null  float64\n",
      " 27  27                          29632 non-null  float64\n",
      " 28  28                          29632 non-null  float64\n",
      " 29  29                          29632 non-null  float64\n",
      " 30  30                          29632 non-null  float64\n",
      " 31  31                          29632 non-null  float64\n",
      " 32  32                          29632 non-null  float64\n",
      " 33  33                          29632 non-null  float64\n",
      " 34  34                          29632 non-null  float64\n",
      " 35  35                          29632 non-null  float64\n",
      " 36  36                          29632 non-null  float64\n",
      " 37  37                          29632 non-null  float64\n",
      " 38  38                          29632 non-null  float64\n",
      " 39  39                          29632 non-null  float64\n",
      " 40  40                          29632 non-null  float64\n",
      " 41  41                          29632 non-null  float64\n",
      " 42  42                          29632 non-null  float64\n",
      " 43  43                          29632 non-null  float64\n",
      " 44  44                          29632 non-null  float64\n",
      " 45  45                          29632 non-null  float64\n",
      " 46  46                          29632 non-null  float64\n",
      " 47  47                          29632 non-null  float64\n",
      " 48  48                          29632 non-null  float64\n",
      " 49  49                          29632 non-null  float64\n",
      " 50  50                          29632 non-null  float64\n",
      " 51  51                          29632 non-null  float64\n",
      " 52  52                          29632 non-null  float64\n",
      " 53  53                          29632 non-null  float64\n",
      " 54  54                          29632 non-null  float64\n",
      " 55  55                          29632 non-null  float64\n",
      " 56  56                          29632 non-null  float64\n",
      " 57  57                          29632 non-null  float64\n",
      " 58  58                          29632 non-null  float64\n",
      " 59  59                          29632 non-null  float64\n",
      " 60  60                          29632 non-null  float64\n",
      " 61  61                          29632 non-null  float64\n",
      " 62  62                          29632 non-null  float64\n",
      " 63  63                          29632 non-null  float64\n",
      " 64  64                          29632 non-null  float64\n",
      " 65  65                          29632 non-null  float64\n",
      " 66  66                          29632 non-null  float64\n",
      " 67  67                          29632 non-null  float64\n",
      " 68  68                          29632 non-null  float64\n",
      " 69  69                          29632 non-null  float64\n",
      " 70  70                          29632 non-null  float64\n",
      " 71  71                          29632 non-null  float64\n",
      " 72  72                          29632 non-null  float64\n",
      " 73  73                          29632 non-null  float64\n",
      " 74  74                          29632 non-null  float64\n",
      " 75  75                          29632 non-null  float64\n",
      " 76  76                          29632 non-null  float64\n",
      " 77  77                          29632 non-null  float64\n",
      " 78  78                          29632 non-null  float64\n",
      " 79  age                         29632 non-null  float64\n",
      " 80  flight_distance             29632 non-null  float64\n",
      " 81  departure_delay_in_minutes  29632 non-null  float64\n",
      " 82  arrival_delay_in_minutes    29632 non-null  float64\n",
      "dtypes: float64(83)\n",
      "memory usage: 18.8 MB\n"
     ]
    }
   ],
   "source": [
    "x_train_ohe = x_train.copy()\n",
    "x_valid_ohe = x_valid.copy()\n",
    "x_test_ohe = x_test.copy()\n",
    "\n",
    "num_features = ['age', 'flight_distance', 'departure_delay_in_minutes','arrival_delay_in_minutes']\n",
    "\n",
    "\n",
    "\n",
    "\n",
    "\n",
    "ohe = OneHotEncoder(sparse=False, handle_unknown = 'ignore')\n",
    "ohe_cat_features = ohe.fit(x_train_ohe[cat_columns])\n",
    "\n",
    "x_train_ohe_ohe = pd.DataFrame(ohe_cat_features.transform(x_train_ohe[cat_columns])).reset_index(drop=True)\n",
    "x_train_ohe = pd.concat([x_train_ohe_ohe, x_train_ohe[num_features].reset_index(drop=True)], axis=1)\n",
    "\n",
    "x_valid_ohe_ohe = pd.DataFrame(ohe_cat_features.transform(x_valid_ohe[cat_columns])).reset_index(drop=True)\n",
    "x_valid_ohe = pd.concat([x_valid_ohe_ohe, x_valid_ohe[num_features].reset_index(drop=True)], axis=1)\n",
    "\n",
    "x_test_ohe_ohe = pd.DataFrame(ohe_cat_features.transform(x_test_ohe[cat_columns])).reset_index(drop=True)\n",
    "x_test_ohe = pd.concat([x_test_ohe_ohe, x_test_ohe[num_features].reset_index(drop=True)], axis=1)\n",
    "\n",
    "\n",
    "x_valid_ohe.info()"
   ]
  },
  {
   "cell_type": "code",
   "execution_count": 64,
   "metadata": {
    "colab": {
     "base_uri": "https://localhost:8080/",
     "height": 1000
    },
    "id": "Gih2_aRXvnL0",
    "outputId": "e9c72d63-4b3b-4d1b-9205-df80e9e2aaca"
   },
   "outputs": [
    {
     "name": "stdout",
     "output_type": "stream",
     "text": [
      "Fitting 3 folds for each of 10 candidates, totalling 30 fits\n",
      "[CV] END classifier__C=1.49816047538945, classifier__class_weight=None, classifier__fit_intercept=True, classifier__max_iter=206, classifier__penalty=l2, classifier__solver=liblinear; total time=   0.3s\n",
      "[CV] END classifier__C=1.49816047538945, classifier__class_weight=None, classifier__fit_intercept=True, classifier__max_iter=206, classifier__penalty=l2, classifier__solver=liblinear; total time=   0.3s\n",
      "[CV] END classifier__C=1.49816047538945, classifier__class_weight=None, classifier__fit_intercept=True, classifier__max_iter=206, classifier__penalty=l2, classifier__solver=liblinear; total time=   0.4s\n",
      "[CV] END classifier__C=2.387400631785948, classifier__class_weight=balanced, classifier__fit_intercept=True, classifier__max_iter=314, classifier__penalty=l1, classifier__solver=liblinear; total time=   0.1s\n",
      "[CV] END classifier__C=2.387400631785948, classifier__class_weight=balanced, classifier__fit_intercept=True, classifier__max_iter=314, classifier__penalty=l1, classifier__solver=liblinear; total time=   1.7s\n",
      "[CV] END classifier__C=2.387400631785948, classifier__class_weight=balanced, classifier__fit_intercept=True, classifier__max_iter=314, classifier__penalty=l1, classifier__solver=liblinear; total time=   0.1s\n"
     ]
    },
    {
     "name": "stderr",
     "output_type": "stream",
     "text": [
      "C:\\Users\\iyaro\\anaconda3\\lib\\site-packages\\sklearn\\linear_model\\_sag.py:350: ConvergenceWarning: The max_iter was reached which means the coef_ did not converge\n",
      "  warnings.warn(\n"
     ]
    },
    {
     "name": "stdout",
     "output_type": "stream",
     "text": [
      "[CV] END classifier__C=3.4647045830997407, classifier__class_weight=balanced, classifier__fit_intercept=False, classifier__max_iter=763, classifier__penalty=l1, classifier__solver=saga; total time=  33.9s\n"
     ]
    },
    {
     "name": "stderr",
     "output_type": "stream",
     "text": [
      "C:\\Users\\iyaro\\anaconda3\\lib\\site-packages\\sklearn\\linear_model\\_sag.py:350: ConvergenceWarning: The max_iter was reached which means the coef_ did not converge\n",
      "  warnings.warn(\n"
     ]
    },
    {
     "name": "stdout",
     "output_type": "stream",
     "text": [
      "[CV] END classifier__C=3.4647045830997407, classifier__class_weight=balanced, classifier__fit_intercept=False, classifier__max_iter=763, classifier__penalty=l1, classifier__solver=saga; total time=  33.8s\n"
     ]
    },
    {
     "name": "stderr",
     "output_type": "stream",
     "text": [
      "C:\\Users\\iyaro\\anaconda3\\lib\\site-packages\\sklearn\\linear_model\\_sag.py:350: ConvergenceWarning: The max_iter was reached which means the coef_ did not converge\n",
      "  warnings.warn(\n"
     ]
    },
    {
     "name": "stdout",
     "output_type": "stream",
     "text": [
      "[CV] END classifier__C=3.4647045830997407, classifier__class_weight=balanced, classifier__fit_intercept=False, classifier__max_iter=763, classifier__penalty=l1, classifier__solver=saga; total time=  33.6s\n"
     ]
    },
    {
     "name": "stderr",
     "output_type": "stream",
     "text": [
      "C:\\Users\\iyaro\\anaconda3\\lib\\site-packages\\sklearn\\linear_model\\_sag.py:350: ConvergenceWarning: The max_iter was reached which means the coef_ did not converge\n",
      "  warnings.warn(\n"
     ]
    },
    {
     "name": "stdout",
     "output_type": "stream",
     "text": [
      "[CV] END classifier__C=0.22564631610840102, classifier__class_weight=balanced, classifier__fit_intercept=False, classifier__max_iter=513, classifier__penalty=l2, classifier__solver=saga; total time=  15.9s\n"
     ]
    },
    {
     "name": "stderr",
     "output_type": "stream",
     "text": [
      "C:\\Users\\iyaro\\anaconda3\\lib\\site-packages\\sklearn\\linear_model\\_sag.py:350: ConvergenceWarning: The max_iter was reached which means the coef_ did not converge\n",
      "  warnings.warn(\n"
     ]
    },
    {
     "name": "stdout",
     "output_type": "stream",
     "text": [
      "[CV] END classifier__C=0.22564631610840102, classifier__class_weight=balanced, classifier__fit_intercept=False, classifier__max_iter=513, classifier__penalty=l2, classifier__solver=saga; total time=  15.9s\n"
     ]
    },
    {
     "name": "stderr",
     "output_type": "stream",
     "text": [
      "C:\\Users\\iyaro\\anaconda3\\lib\\site-packages\\sklearn\\linear_model\\_sag.py:350: ConvergenceWarning: The max_iter was reached which means the coef_ did not converge\n",
      "  warnings.warn(\n"
     ]
    },
    {
     "name": "stdout",
     "output_type": "stream",
     "text": [
      "[CV] END classifier__C=0.22564631610840102, classifier__class_weight=balanced, classifier__fit_intercept=False, classifier__max_iter=513, classifier__penalty=l2, classifier__solver=saga; total time=  16.3s\n"
     ]
    },
    {
     "name": "stderr",
     "output_type": "stream",
     "text": [
      "C:\\Users\\iyaro\\anaconda3\\lib\\site-packages\\sklearn\\linear_model\\_sag.py:350: ConvergenceWarning: The max_iter was reached which means the coef_ did not converge\n",
      "  warnings.warn(\n"
     ]
    },
    {
     "name": "stdout",
     "output_type": "stream",
     "text": [
      "[CV] END classifier__C=0.7272998688284025, classifier__class_weight=None, classifier__fit_intercept=True, classifier__max_iter=559, classifier__penalty=l2, classifier__solver=saga; total time=  17.6s\n"
     ]
    },
    {
     "name": "stderr",
     "output_type": "stream",
     "text": [
      "C:\\Users\\iyaro\\anaconda3\\lib\\site-packages\\sklearn\\linear_model\\_sag.py:350: ConvergenceWarning: The max_iter was reached which means the coef_ did not converge\n",
      "  warnings.warn(\n"
     ]
    },
    {
     "name": "stdout",
     "output_type": "stream",
     "text": [
      "[CV] END classifier__C=0.7272998688284025, classifier__class_weight=None, classifier__fit_intercept=True, classifier__max_iter=559, classifier__penalty=l2, classifier__solver=saga; total time=  17.9s\n"
     ]
    },
    {
     "name": "stderr",
     "output_type": "stream",
     "text": [
      "C:\\Users\\iyaro\\anaconda3\\lib\\site-packages\\sklearn\\linear_model\\_sag.py:350: ConvergenceWarning: The max_iter was reached which means the coef_ did not converge\n",
      "  warnings.warn(\n"
     ]
    },
    {
     "name": "stdout",
     "output_type": "stream",
     "text": [
      "[CV] END classifier__C=0.7272998688284025, classifier__class_weight=None, classifier__fit_intercept=True, classifier__max_iter=559, classifier__penalty=l2, classifier__solver=saga; total time=  17.5s\n",
      "[CV] END classifier__C=0.028265220878869624, classifier__class_weight=None, classifier__fit_intercept=True, classifier__max_iter=574, classifier__penalty=l1, classifier__solver=liblinear; total time=   0.2s\n",
      "[CV] END classifier__C=0.028265220878869624, classifier__class_weight=None, classifier__fit_intercept=True, classifier__max_iter=574, classifier__penalty=l1, classifier__solver=liblinear; total time=   0.1s\n",
      "[CV] END classifier__C=0.028265220878869624, classifier__class_weight=None, classifier__fit_intercept=True, classifier__max_iter=574, classifier__penalty=l1, classifier__solver=liblinear; total time=   0.1s\n"
     ]
    },
    {
     "name": "stderr",
     "output_type": "stream",
     "text": [
      "C:\\Users\\iyaro\\anaconda3\\lib\\site-packages\\sklearn\\linear_model\\_sag.py:350: ConvergenceWarning: The max_iter was reached which means the coef_ did not converge\n",
      "  warnings.warn(\n"
     ]
    },
    {
     "name": "stdout",
     "output_type": "stream",
     "text": [
      "[CV] END classifier__C=0.5579754426081673, classifier__class_weight=balanced, classifier__fit_intercept=False, classifier__max_iter=882, classifier__penalty=l2, classifier__solver=saga; total time=  27.5s\n"
     ]
    },
    {
     "name": "stderr",
     "output_type": "stream",
     "text": [
      "C:\\Users\\iyaro\\anaconda3\\lib\\site-packages\\sklearn\\linear_model\\_sag.py:350: ConvergenceWarning: The max_iter was reached which means the coef_ did not converge\n",
      "  warnings.warn(\n"
     ]
    },
    {
     "name": "stdout",
     "output_type": "stream",
     "text": [
      "[CV] END classifier__C=0.5579754426081673, classifier__class_weight=balanced, classifier__fit_intercept=False, classifier__max_iter=882, classifier__penalty=l2, classifier__solver=saga; total time=  27.6s\n"
     ]
    },
    {
     "name": "stderr",
     "output_type": "stream",
     "text": [
      "C:\\Users\\iyaro\\anaconda3\\lib\\site-packages\\sklearn\\linear_model\\_sag.py:350: ConvergenceWarning: The max_iter was reached which means the coef_ did not converge\n",
      "  warnings.warn(\n"
     ]
    },
    {
     "name": "stdout",
     "output_type": "stream",
     "text": [
      "[CV] END classifier__C=0.5579754426081673, classifier__class_weight=balanced, classifier__fit_intercept=False, classifier__max_iter=882, classifier__penalty=l2, classifier__solver=saga; total time=  27.6s\n"
     ]
    },
    {
     "name": "stderr",
     "output_type": "stream",
     "text": [
      "C:\\Users\\iyaro\\anaconda3\\lib\\site-packages\\sklearn\\linear_model\\_sag.py:350: ConvergenceWarning: The max_iter was reached which means the coef_ did not converge\n",
      "  warnings.warn(\n"
     ]
    },
    {
     "name": "stdout",
     "output_type": "stream",
     "text": [
      "[CV] END classifier__C=3.1407038455720544, classifier__class_weight=None, classifier__fit_intercept=False, classifier__max_iter=666, classifier__penalty=l2, classifier__solver=saga; total time=  20.9s\n"
     ]
    },
    {
     "name": "stderr",
     "output_type": "stream",
     "text": [
      "C:\\Users\\iyaro\\anaconda3\\lib\\site-packages\\sklearn\\linear_model\\_sag.py:350: ConvergenceWarning: The max_iter was reached which means the coef_ did not converge\n",
      "  warnings.warn(\n"
     ]
    },
    {
     "name": "stdout",
     "output_type": "stream",
     "text": [
      "[CV] END classifier__C=3.1407038455720544, classifier__class_weight=None, classifier__fit_intercept=False, classifier__max_iter=666, classifier__penalty=l2, classifier__solver=saga; total time=  20.3s\n"
     ]
    },
    {
     "name": "stderr",
     "output_type": "stream",
     "text": [
      "C:\\Users\\iyaro\\anaconda3\\lib\\site-packages\\sklearn\\linear_model\\_sag.py:350: ConvergenceWarning: The max_iter was reached which means the coef_ did not converge\n",
      "  warnings.warn(\n"
     ]
    },
    {
     "name": "stdout",
     "output_type": "stream",
     "text": [
      "[CV] END classifier__C=3.1407038455720544, classifier__class_weight=None, classifier__fit_intercept=False, classifier__max_iter=666, classifier__penalty=l2, classifier__solver=saga; total time=  20.0s\n",
      "[CV] END classifier__C=1.8670515729919197, classifier__class_weight=None, classifier__fit_intercept=True, classifier__max_iter=746, classifier__penalty=l1, classifier__solver=liblinear; total time=   1.6s\n",
      "[CV] END classifier__C=1.8670515729919197, classifier__class_weight=None, classifier__fit_intercept=True, classifier__max_iter=746, classifier__penalty=l1, classifier__solver=liblinear; total time=   0.3s\n",
      "[CV] END classifier__C=1.8670515729919197, classifier__class_weight=None, classifier__fit_intercept=True, classifier__max_iter=746, classifier__penalty=l1, classifier__solver=liblinear; total time=   1.3s\n"
     ]
    },
    {
     "name": "stderr",
     "output_type": "stream",
     "text": [
      "C:\\Users\\iyaro\\anaconda3\\lib\\site-packages\\sklearn\\linear_model\\_sag.py:350: ConvergenceWarning: The max_iter was reached which means the coef_ did not converge\n",
      "  warnings.warn(\n"
     ]
    },
    {
     "name": "stdout",
     "output_type": "stream",
     "text": [
      "[CV] END classifier__C=0.26020637194111806, classifier__class_weight=balanced, classifier__fit_intercept=True, classifier__max_iter=415, classifier__penalty=l2, classifier__solver=saga; total time=  12.4s\n"
     ]
    },
    {
     "name": "stderr",
     "output_type": "stream",
     "text": [
      "C:\\Users\\iyaro\\anaconda3\\lib\\site-packages\\sklearn\\linear_model\\_sag.py:350: ConvergenceWarning: The max_iter was reached which means the coef_ did not converge\n",
      "  warnings.warn(\n"
     ]
    },
    {
     "name": "stdout",
     "output_type": "stream",
     "text": [
      "[CV] END classifier__C=0.26020637194111806, classifier__class_weight=balanced, classifier__fit_intercept=True, classifier__max_iter=415, classifier__penalty=l2, classifier__solver=saga; total time=  12.3s\n"
     ]
    },
    {
     "name": "stderr",
     "output_type": "stream",
     "text": [
      "C:\\Users\\iyaro\\anaconda3\\lib\\site-packages\\sklearn\\linear_model\\_sag.py:350: ConvergenceWarning: The max_iter was reached which means the coef_ did not converge\n",
      "  warnings.warn(\n"
     ]
    },
    {
     "name": "stdout",
     "output_type": "stream",
     "text": [
      "[CV] END classifier__C=0.26020637194111806, classifier__class_weight=balanced, classifier__fit_intercept=True, classifier__max_iter=415, classifier__penalty=l2, classifier__solver=saga; total time=  12.4s\n",
      "Wall time: 6min 34s\n"
     ]
    },
    {
     "data": {
      "text/html": [
       "<style>#sk-container-id-3 {color: black;background-color: white;}#sk-container-id-3 pre{padding: 0;}#sk-container-id-3 div.sk-toggleable {background-color: white;}#sk-container-id-3 label.sk-toggleable__label {cursor: pointer;display: block;width: 100%;margin-bottom: 0;padding: 0.3em;box-sizing: border-box;text-align: center;}#sk-container-id-3 label.sk-toggleable__label-arrow:before {content: \"▸\";float: left;margin-right: 0.25em;color: #696969;}#sk-container-id-3 label.sk-toggleable__label-arrow:hover:before {color: black;}#sk-container-id-3 div.sk-estimator:hover label.sk-toggleable__label-arrow:before {color: black;}#sk-container-id-3 div.sk-toggleable__content {max-height: 0;max-width: 0;overflow: hidden;text-align: left;background-color: #f0f8ff;}#sk-container-id-3 div.sk-toggleable__content pre {margin: 0.2em;color: black;border-radius: 0.25em;background-color: #f0f8ff;}#sk-container-id-3 input.sk-toggleable__control:checked~div.sk-toggleable__content {max-height: 200px;max-width: 100%;overflow: auto;}#sk-container-id-3 input.sk-toggleable__control:checked~label.sk-toggleable__label-arrow:before {content: \"▾\";}#sk-container-id-3 div.sk-estimator input.sk-toggleable__control:checked~label.sk-toggleable__label {background-color: #d4ebff;}#sk-container-id-3 div.sk-label input.sk-toggleable__control:checked~label.sk-toggleable__label {background-color: #d4ebff;}#sk-container-id-3 input.sk-hidden--visually {border: 0;clip: rect(1px 1px 1px 1px);clip: rect(1px, 1px, 1px, 1px);height: 1px;margin: -1px;overflow: hidden;padding: 0;position: absolute;width: 1px;}#sk-container-id-3 div.sk-estimator {font-family: monospace;background-color: #f0f8ff;border: 1px dotted black;border-radius: 0.25em;box-sizing: border-box;margin-bottom: 0.5em;}#sk-container-id-3 div.sk-estimator:hover {background-color: #d4ebff;}#sk-container-id-3 div.sk-parallel-item::after {content: \"\";width: 100%;border-bottom: 1px solid gray;flex-grow: 1;}#sk-container-id-3 div.sk-label:hover label.sk-toggleable__label {background-color: #d4ebff;}#sk-container-id-3 div.sk-serial::before {content: \"\";position: absolute;border-left: 1px solid gray;box-sizing: border-box;top: 0;bottom: 0;left: 50%;z-index: 0;}#sk-container-id-3 div.sk-serial {display: flex;flex-direction: column;align-items: center;background-color: white;padding-right: 0.2em;padding-left: 0.2em;position: relative;}#sk-container-id-3 div.sk-item {position: relative;z-index: 1;}#sk-container-id-3 div.sk-parallel {display: flex;align-items: stretch;justify-content: center;background-color: white;position: relative;}#sk-container-id-3 div.sk-item::before, #sk-container-id-3 div.sk-parallel-item::before {content: \"\";position: absolute;border-left: 1px solid gray;box-sizing: border-box;top: 0;bottom: 0;left: 50%;z-index: -1;}#sk-container-id-3 div.sk-parallel-item {display: flex;flex-direction: column;z-index: 1;position: relative;background-color: white;}#sk-container-id-3 div.sk-parallel-item:first-child::after {align-self: flex-end;width: 50%;}#sk-container-id-3 div.sk-parallel-item:last-child::after {align-self: flex-start;width: 50%;}#sk-container-id-3 div.sk-parallel-item:only-child::after {width: 0;}#sk-container-id-3 div.sk-dashed-wrapped {border: 1px dashed gray;margin: 0 0.4em 0.5em 0.4em;box-sizing: border-box;padding-bottom: 0.4em;background-color: white;}#sk-container-id-3 div.sk-label label {font-family: monospace;font-weight: bold;display: inline-block;line-height: 1.2em;}#sk-container-id-3 div.sk-label-container {text-align: center;}#sk-container-id-3 div.sk-container {/* jupyter's `normalize.less` sets `[hidden] { display: none; }` but bootstrap.min.css set `[hidden] { display: none !important; }` so we also need the `!important` here to be able to override the default hidden behavior on the sphinx rendered scikit-learn.org. See: https://github.com/scikit-learn/scikit-learn/issues/21755 */display: inline-block !important;position: relative;}#sk-container-id-3 div.sk-text-repr-fallback {display: none;}</style><div id=\"sk-container-id-3\" class=\"sk-top-container\"><div class=\"sk-text-repr-fallback\"><pre>RandomizedSearchCV(cv=3,\n",
       "                   estimator=Pipeline(steps=[(&#x27;classifier&#x27;,\n",
       "                                              LogisticRegression())]),\n",
       "                   param_distributions={&#x27;classifier__C&#x27;: &lt;scipy.stats._distn_infrastructure.rv_continuous_frozen object at 0x0000018A73BD97F0&gt;,\n",
       "                                        &#x27;classifier__class_weight&#x27;: [None,\n",
       "                                                                     &#x27;balanced&#x27;],\n",
       "                                        &#x27;classifier__fit_intercept&#x27;: [True,\n",
       "                                                                      False],\n",
       "                                        &#x27;classifier__max_iter&#x27;: &lt;scipy.stats._distn_infrastructure.rv_discrete_frozen object at 0x0000018A7671D640&gt;,\n",
       "                                        &#x27;classifier__penalty&#x27;: [&#x27;l1&#x27;, &#x27;l2&#x27;],\n",
       "                                        &#x27;classifier__solver&#x27;: [&#x27;liblinear&#x27;,\n",
       "                                                               &#x27;saga&#x27;]},\n",
       "                   random_state=42, verbose=2)</pre><b>In a Jupyter environment, please rerun this cell to show the HTML representation or trust the notebook. <br />On GitHub, the HTML representation is unable to render, please try loading this page with nbviewer.org.</b></div><div class=\"sk-container\" hidden><div class=\"sk-item sk-dashed-wrapped\"><div class=\"sk-label-container\"><div class=\"sk-label sk-toggleable\"><input class=\"sk-toggleable__control sk-hidden--visually\" id=\"sk-estimator-id-7\" type=\"checkbox\" ><label for=\"sk-estimator-id-7\" class=\"sk-toggleable__label sk-toggleable__label-arrow\">RandomizedSearchCV</label><div class=\"sk-toggleable__content\"><pre>RandomizedSearchCV(cv=3,\n",
       "                   estimator=Pipeline(steps=[(&#x27;classifier&#x27;,\n",
       "                                              LogisticRegression())]),\n",
       "                   param_distributions={&#x27;classifier__C&#x27;: &lt;scipy.stats._distn_infrastructure.rv_continuous_frozen object at 0x0000018A73BD97F0&gt;,\n",
       "                                        &#x27;classifier__class_weight&#x27;: [None,\n",
       "                                                                     &#x27;balanced&#x27;],\n",
       "                                        &#x27;classifier__fit_intercept&#x27;: [True,\n",
       "                                                                      False],\n",
       "                                        &#x27;classifier__max_iter&#x27;: &lt;scipy.stats._distn_infrastructure.rv_discrete_frozen object at 0x0000018A7671D640&gt;,\n",
       "                                        &#x27;classifier__penalty&#x27;: [&#x27;l1&#x27;, &#x27;l2&#x27;],\n",
       "                                        &#x27;classifier__solver&#x27;: [&#x27;liblinear&#x27;,\n",
       "                                                               &#x27;saga&#x27;]},\n",
       "                   random_state=42, verbose=2)</pre></div></div></div><div class=\"sk-parallel\"><div class=\"sk-parallel-item\"><div class=\"sk-item\"><div class=\"sk-label-container\"><div class=\"sk-label sk-toggleable\"><input class=\"sk-toggleable__control sk-hidden--visually\" id=\"sk-estimator-id-8\" type=\"checkbox\" ><label for=\"sk-estimator-id-8\" class=\"sk-toggleable__label sk-toggleable__label-arrow\">estimator: Pipeline</label><div class=\"sk-toggleable__content\"><pre>Pipeline(steps=[(&#x27;classifier&#x27;, LogisticRegression())])</pre></div></div></div><div class=\"sk-serial\"><div class=\"sk-item\"><div class=\"sk-serial\"><div class=\"sk-item\"><div class=\"sk-estimator sk-toggleable\"><input class=\"sk-toggleable__control sk-hidden--visually\" id=\"sk-estimator-id-9\" type=\"checkbox\" ><label for=\"sk-estimator-id-9\" class=\"sk-toggleable__label sk-toggleable__label-arrow\">LogisticRegression</label><div class=\"sk-toggleable__content\"><pre>LogisticRegression()</pre></div></div></div></div></div></div></div></div></div></div></div></div>"
      ],
      "text/plain": [
       "RandomizedSearchCV(cv=3,\n",
       "                   estimator=Pipeline(steps=[('classifier',\n",
       "                                              LogisticRegression())]),\n",
       "                   param_distributions={'classifier__C': <scipy.stats._distn_infrastructure.rv_continuous_frozen object at 0x0000018A73BD97F0>,\n",
       "                                        'classifier__class_weight': [None,\n",
       "                                                                     'balanced'],\n",
       "                                        'classifier__fit_intercept': [True,\n",
       "                                                                      False],\n",
       "                                        'classifier__max_iter': <scipy.stats._distn_infrastructure.rv_discrete_frozen object at 0x0000018A7671D640>,\n",
       "                                        'classifier__penalty': ['l1', 'l2'],\n",
       "                                        'classifier__solver': ['liblinear',\n",
       "                                                               'saga']},\n",
       "                   random_state=42, verbose=2)"
      ]
     },
     "execution_count": 64,
     "metadata": {},
     "output_type": "execute_result"
    }
   ],
   "source": [
    "%%time\n",
    "x_train_ohe.columns = x_train_ohe.columns.astype(str)\n",
    "x_valid_ohe.columns = x_valid_ohe.columns.astype(str)\n",
    "pipe = Pipeline([\n",
    "    ('classifier', LogisticRegression())\n",
    "])\n",
    "\n",
    "\n",
    "param_grid = {\n",
    "    'classifier__C': uniform(loc=0, scale=4),\n",
    "    'classifier__penalty': ['l1', 'l2'],\n",
    "    'classifier__fit_intercept': [True, False],\n",
    "    'classifier__class_weight': [None, 'balanced'],\n",
    "    'classifier__solver': ['liblinear', 'saga'],\n",
    "    'classifier__max_iter': randint(100, 1000),\n",
    "}\n",
    "\n",
    "\n",
    "search = RandomizedSearchCV(pipe, param_distributions=param_grid, n_iter=10, random_state=RANDOM_STATE, verbose=2, cv=3)\n",
    "\n",
    "\n",
    "search.fit(x_train_ohe, y_train)\n",
    "\n"
   ]
  },
  {
   "cell_type": "code",
   "execution_count": 65,
   "metadata": {
    "colab": {
     "base_uri": "https://localhost:8080/"
    },
    "id": "FDi8HN4H0wFW",
    "outputId": "2ee0ffed-dea9-4cc9-ad57-3720b381673b"
   },
   "outputs": [
    {
     "name": "stdout",
     "output_type": "stream",
     "text": [
      "Best parameters: {'classifier__C': 1.8670515729919197, 'classifier__class_weight': None, 'classifier__fit_intercept': True, 'classifier__max_iter': 746, 'classifier__penalty': 'l1', 'classifier__solver': 'liblinear'}\n",
      "Best f1 score LogisticRegression: 0.8801106627633962\n",
      "Best Recall LogisticRegression 0.8444322286791267\n",
      "Best Precision LogisticRegression: 0.8729501542458191\n",
      "Best Roc-Auc LogisticRegression 0.9471625808026775\n"
     ]
    }
   ],
   "source": [
    "best_model_log = search.best_estimator_\n",
    "y_pred_log = best_model_log.predict(x_valid_ohe)\n",
    "\n",
    "\n",
    "recall_log = recall_score(y_valid, y_pred_log)\n",
    "precision_log = precision_score(y_valid, y_pred_log)\n",
    "roc_auc_log = roc_auc_score(y_valid, best_model_log.predict_proba(x_valid_ohe)[:,1])\n",
    "\n",
    "print(\"Best parameters:\", search.best_params_)\n",
    "print(\"Best f1 score LogisticRegression:\", search.best_score_)\n",
    "print(\"Best Recall LogisticRegression\", recall_log)\n",
    "print(\"Best Precision LogisticRegression:\", precision_log)\n",
    "print(\"Best Roc-Auc LogisticRegression\", roc_auc_log)"
   ]
  },
  {
   "cell_type": "code",
   "execution_count": 66,
   "metadata": {
    "colab": {
     "base_uri": "https://localhost:8080/",
     "height": 143
    },
    "id": "Q1RuN67EyZKm",
    "outputId": "8743fe95-4cf5-4a53-b831-907448ec533a"
   },
   "outputs": [
    {
     "data": {
      "text/html": [
       "<div>\n",
       "<style scoped>\n",
       "    .dataframe tbody tr th:only-of-type {\n",
       "        vertical-align: middle;\n",
       "    }\n",
       "\n",
       "    .dataframe tbody tr th {\n",
       "        vertical-align: top;\n",
       "    }\n",
       "\n",
       "    .dataframe thead th {\n",
       "        text-align: right;\n",
       "    }\n",
       "</style>\n",
       "<table border=\"1\" class=\"dataframe\">\n",
       "  <thead>\n",
       "    <tr style=\"text-align: right;\">\n",
       "      <th></th>\n",
       "      <th>Model</th>\n",
       "      <th>Score</th>\n",
       "      <th>Recall</th>\n",
       "      <th>Precision</th>\n",
       "      <th>ROC-AUC</th>\n",
       "      <th>Hyperparameter tuning time</th>\n",
       "      <th>Hyperparameters</th>\n",
       "    </tr>\n",
       "  </thead>\n",
       "  <tbody>\n",
       "    <tr>\n",
       "      <th>0</th>\n",
       "      <td>LGB</td>\n",
       "      <td>0.887889</td>\n",
       "      <td>0.877493</td>\n",
       "      <td>0.905070</td>\n",
       "      <td>0.967137</td>\n",
       "      <td>12:47</td>\n",
       "      <td>{'boosting_type': 'dart', 'learning_rate': 0.2...</td>\n",
       "    </tr>\n",
       "    <tr>\n",
       "      <th>1</th>\n",
       "      <td>RandomForest</td>\n",
       "      <td>0.882924</td>\n",
       "      <td>0.871368</td>\n",
       "      <td>0.899408</td>\n",
       "      <td>0.750925</td>\n",
       "      <td>7:24</td>\n",
       "      <td>{'max_depth': 17, 'n_estimators': 150}</td>\n",
       "    </tr>\n",
       "    <tr>\n",
       "      <th>2</th>\n",
       "      <td>LogisticRegression</td>\n",
       "      <td>0.880111</td>\n",
       "      <td>0.844432</td>\n",
       "      <td>0.872950</td>\n",
       "      <td>0.947163</td>\n",
       "      <td>10:30</td>\n",
       "      <td>{'classifier__C': 1.8670515729919197, 'classif...</td>\n",
       "    </tr>\n",
       "  </tbody>\n",
       "</table>\n",
       "</div>"
      ],
      "text/plain": [
       "                Model     Score    Recall  Precision   ROC-AUC  \\\n",
       "0                 LGB  0.887889  0.877493   0.905070  0.967137   \n",
       "1        RandomForest  0.882924  0.871368   0.899408  0.750925   \n",
       "2  LogisticRegression  0.880111  0.844432   0.872950  0.947163   \n",
       "\n",
       "  Hyperparameter tuning time  \\\n",
       "0                      12:47   \n",
       "1                       7:24   \n",
       "2                      10:30   \n",
       "\n",
       "                                     Hyperparameters  \n",
       "0  {'boosting_type': 'dart', 'learning_rate': 0.2...  \n",
       "1             {'max_depth': 17, 'n_estimators': 150}  \n",
       "2  {'classifier__C': 1.8670515729919197, 'classif...  "
      ]
     },
     "execution_count": 66,
     "metadata": {},
     "output_type": "execute_result"
    }
   ],
   "source": [
    "result = [['LGB', grid_lgb.best_score_, recall_lgb, precision_lgb, roc_auc_lgb, '12:47', grid_lgb.best_params_],\n",
    "           ['RandomForest', grid_forest.best_score_, recall_for, precision_for, roc_auc_for, '7:24',grid_forest.best_params_],\n",
    "           ['LogisticRegression', search.best_score_,  recall_log, precision_log, roc_auc_log, '10:30', search.best_params_]]\n",
    "result_df = pd.DataFrame(result, columns=['Model', 'Score', 'Recall', 'Precision', 'ROC-AUC', 'Hyperparameter tuning time', 'Hyperparameters', ])\n",
    "result_df"
   ]
  },
  {
   "cell_type": "markdown",
   "metadata": {
    "id": "GjMqbQ1mBNfW"
   },
   "source": [
    "Все метрики качества выше у LGB с гипперпараметрами {'boosting_type': 'dart', 'learning_rate': 0.2, 'n_estimators': 200, 'num_leaves': 30}, время обучения 12 минут 47 секунд. Перейдем к тестироваеию этой модели.\n",
    "\n",
    "\n"
   ]
  },
  {
   "cell_type": "markdown",
   "metadata": {
    "id": "aosrZ6fP0tMR"
   },
   "source": [
    "# Тестирование модели"
   ]
  },
  {
   "cell_type": "code",
   "execution_count": 67,
   "metadata": {
    "id": "HYw3-lNv0way"
   },
   "outputs": [],
   "source": [
    "x_features = pd.concat([x_train, x_valid], axis=0)\n",
    "y_features = pd.concat([y_train, y_valid], axis=0)\n",
    "df_features = pd.concat([x_features, y_features], axis=1)\n"
   ]
  },
  {
   "cell_type": "code",
   "execution_count": 68,
   "metadata": {},
   "outputs": [
    {
     "data": {
      "text/plain": [
       "Index(['gender', 'age', 'customer_type', 'type_of_travel', 'class',\n",
       "       'flight_distance', 'departure_delay_in_minutes',\n",
       "       'arrival_delay_in_minutes', 'inflight_wifi_service',\n",
       "       'departure_arrival_time_convenient', 'ease_of_online_booking',\n",
       "       'gate_location', 'food_and_drink', 'online_boarding', 'seat_comfort',\n",
       "       'inflight_entertainment', 'on_board_service', 'leg_room_service',\n",
       "       'baggage_handling', 'checkin_service', 'inflight_service',\n",
       "       'cleanliness', 'satisfaction'],\n",
       "      dtype='object')"
      ]
     },
     "execution_count": 68,
     "metadata": {},
     "output_type": "execute_result"
    }
   ],
   "source": [
    "df_features.columns"
   ]
  },
  {
   "cell_type": "code",
   "execution_count": 69,
   "metadata": {},
   "outputs": [],
   "source": [
    "df_path = r'C:\\Users\\iyaro\\OneDrive\\Документы\\-\\Классификация_удовлитворенности_полетом(миникурс_ВШЭ)\\df_features.csv'\n",
    "\n",
    "\n",
    "df_features.to_csv(df_path, index=False)\n"
   ]
  },
  {
   "cell_type": "code",
   "execution_count": 81,
   "metadata": {
    "colab": {
     "base_uri": "https://localhost:8080/"
    },
    "id": "l42SzarXYuKW",
    "outputId": "a17621b0-3b03-4d66-9a3a-4dc50767514f"
   },
   "outputs": [
    {
     "name": "stdout",
     "output_type": "stream",
     "text": [
      "<class 'pandas.core.frame.DataFrame'>\n",
      "Int64Index: 88895 entries, 119607 to 31504\n",
      "Data columns (total 23 columns):\n",
      " #   Column                             Non-Null Count  Dtype   \n",
      "---  ------                             --------------  -----   \n",
      " 0   gender                             88895 non-null  category\n",
      " 1   age                                88895 non-null  float64 \n",
      " 2   customer_type                      88895 non-null  category\n",
      " 3   type_of_travel                     88895 non-null  category\n",
      " 4   class                              88895 non-null  category\n",
      " 5   flight_distance                    88895 non-null  float64 \n",
      " 6   departure_delay_in_minutes         88895 non-null  float64 \n",
      " 7   arrival_delay_in_minutes           88895 non-null  float64 \n",
      " 8   inflight_wifi_service              88895 non-null  category\n",
      " 9   departure_arrival_time_convenient  88895 non-null  category\n",
      " 10  ease_of_online_booking             88895 non-null  category\n",
      " 11  gate_location                      88895 non-null  category\n",
      " 12  food_and_drink                     88895 non-null  category\n",
      " 13  online_boarding                    88895 non-null  category\n",
      " 14  seat_comfort                       88895 non-null  category\n",
      " 15  inflight_entertainment             88895 non-null  category\n",
      " 16  on_board_service                   88895 non-null  category\n",
      " 17  leg_room_service                   88895 non-null  category\n",
      " 18  baggage_handling                   88895 non-null  category\n",
      " 19  checkin_service                    88895 non-null  category\n",
      " 20  inflight_service                   88895 non-null  category\n",
      " 21  cleanliness                        88895 non-null  category\n",
      " 22  satisfaction                       88895 non-null  int32   \n",
      "dtypes: category(18), float64(4), int32(1)\n",
      "memory usage: 5.3 MB\n"
     ]
    }
   ],
   "source": [
    "df_features.info()"
   ]
  },
  {
   "cell_type": "code",
   "execution_count": 85,
   "metadata": {},
   "outputs": [
    {
     "data": {
      "text/plain": [
       "array(['Eco', 'Business', 'Eco Plus'], dtype=object)"
      ]
     },
     "execution_count": 85,
     "metadata": {},
     "output_type": "execute_result"
    }
   ],
   "source": [
    "a = pd.read_csv(r'C:\\Users\\iyaro\\OneDrive\\Документы\\-\\Классификация_удовлитворенности_полетом(миникурс_ВШЭ)\\df_features.csv')\n",
    "a['class'].unique()"
   ]
  },
  {
   "cell_type": "code",
   "execution_count": 72,
   "metadata": {
    "colab": {
     "base_uri": "https://localhost:8080/"
    },
    "id": "YqKYkzTsXjnn",
    "outputId": "feaedc76-f721-4a95-a6e8-ad1361e2a174"
   },
   "outputs": [
    {
     "name": "stderr",
     "output_type": "stream",
     "text": [
      "C:\\Users\\iyaro\\anaconda3\\lib\\site-packages\\lightgbm\\basic.py:2068: UserWarning: categorical_feature in Dataset is overridden.\n",
      "New categorical_feature is [0, 2, 3, 4, 8, 9, 10, 11, 12, 13, 14, 15, 16, 17, 18, 19, 20, 21]\n",
      "  _log_warning('categorical_feature in Dataset is overridden.\\n'\n"
     ]
    },
    {
     "name": "stdout",
     "output_type": "stream",
     "text": [
      "Best f1 score lgb на test: 0.8906885821431422\n",
      "Best Recall lgb на test: 0.8766294958379143\n",
      "Best Precision lgb на test: 0.9052059682127798\n",
      "Best Roc-Auc lgb на test: 0.9669707121041831\n",
      "Wall time: 3.17 s\n"
     ]
    }
   ],
   "source": [
    "%%time\n",
    "train_data_for_test = lgb.Dataset(x_features, label=y_features)\n",
    "train_data_for_test.set_categorical_feature(cat_features)\n",
    "test_lgb = lgb.LGBMClassifier(**grid_lgb.best_params_)\n",
    "test_lgb.fit(train_data_for_test.data, train_data_for_test.label)\n",
    "y_test_pred = test_lgb.predict(x_test)\n",
    "recall_test = recall_score(y_test, y_test_pred)\n",
    "precision_test = precision_score(y_test, y_test_pred)\n",
    "roc_auc_test = roc_auc_score(y_test, test_lgb.predict_proba(x_test)[:,1])\n",
    "f1_test = f1_score(y_test, y_test_pred)\n",
    "\n",
    "print(\"Best f1 score lgb на test:\", f1_test)\n",
    "print(\"Best Recall lgb на test:\", recall_test)\n",
    "print(\"Best Precision lgb на test:\", precision_test)\n",
    "print(\"Best Roc-Auc lgb на test:\", roc_auc_test)"
   ]
  },
  {
   "cell_type": "code",
   "execution_count": 73,
   "metadata": {
    "colab": {
     "base_uri": "https://localhost:8080/",
     "height": 472
    },
    "id": "FRqQXNvfMTWN",
    "outputId": "db706a4c-03f3-4da7-c46b-fc953c29137f"
   },
   "outputs": [
    {
     "data": {
      "image/png": "[encoded data removed]",
      "text/plain": [
       "<Figure size 640x480 with 1 Axes>"
      ]
     },
     "metadata": {},
     "output_type": "display_data"
    }
   ],
   "source": [
    "\n",
    "fpr, tpr, thresholds = roc_curve(y_test,  test_lgb.predict_proba(x_test)[:,1])\n",
    "\n",
    "plt.figure()\n",
    "plt.plot(fpr, tpr)\n",
    "plt.xlim([0.0, 1.0])\n",
    "plt.ylim([0.0, 1.0])\n",
    "plt.xlabel('False Positive Rate')\n",
    "plt.ylabel('True Positive Rate')\n",
    "plt.title('ROC-кривая')\n",
    "plt.plot([0, 1], [0, 1], linestyle='--')\n",
    "plt.show()"
   ]
  },
  {
   "cell_type": "code",
   "execution_count": 74,
   "metadata": {
    "colab": {
     "base_uri": "https://localhost:8080/"
    },
    "id": "HvyrHuCHg-iU",
    "outputId": "b1b8c615-54d8-48ca-c12f-4425fa42d637"
   },
   "outputs": [
    {
     "name": "stdout",
     "output_type": "stream",
     "text": [
      "F1 score:  0.601142425529906\n"
     ]
    }
   ],
   "source": [
    "model = DummyClassifier(strategy = 'constant', constant = 1)\n",
    "model.fit(x_features, y_features)\n",
    "y_pred = model.predict(x_test)\n",
    "f1_dum = f1_score(y_test, y_pred)\n",
    "print(\"F1 score: \", f1_dum)"
   ]
  },
  {
   "cell_type": "markdown",
   "metadata": {
    "id": "esBvJiOdjzda"
   },
   "source": [
    "Модель лучше константной на 30 %. Хороший результат. Подбор гипперпараметров занимает всего лишь 12 минут. а F1 на тестовой выборке 0.89, хороший результат."
   ]
  },
  {
   "cell_type": "markdown",
   "metadata": {
    "id": "jFhgeCz3kCdZ"
   },
   "source": [
    "# Вывод\n",
    "- Данные загружены и обработаны от аномалий, пропуски заполнены\n",
    "- Обучены 3 модели с перебором гипперпараметров\n",
    "- Применены техники прямого и порядкого кодирования, также масштабирование\n",
    "- Модели проанализированы и выбрана модель для тестировки\n",
    "- На тестовых данных модель lgb показала хорошие результаты\n",
    "- Модель протестирована и готова к внедрению в продакшн."
   ]
  },
  {
   "cell_type": "code",
   "execution_count": null,
   "metadata": {},
   "outputs": [],
   "source": []
  }
 ],
 "metadata": {
  "accelerator": "GPU",
  "colab": {
   "gpuType": "T4",
   "provenance": []
  },
  "kernelspec": {
   "display_name": "Python 3 (ipykernel)",
   "language": "python",
   "name": "python3"
  },
  "language_info": {
   "codemirror_mode": {
    "name": "ipython",
    "version": 3
   },
   "file_extension": ".py",
   "mimetype": "text/x-python",
   "name": "python",
   "nbconvert_exporter": "python",
   "pygments_lexer": "ipython3",
   "version": "3.9.13"
  }
 },
 "nbformat": 4,
 "nbformat_minor": 1
}
